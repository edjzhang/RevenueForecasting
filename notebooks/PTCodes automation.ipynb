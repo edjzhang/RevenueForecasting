{
 "cells": [
  {
   "cell_type": "markdown",
   "metadata": {},
   "source": [
    "The purpose of this notebook is to use historical comparisons of similar companies to project the one-year growth of a given company, defined as the difference between sales at point t+12 and point t where t is the end of the known time series."
   ]
  },
  {
   "cell_type": "code",
   "execution_count": 1,
   "metadata": {
    "ExecuteTime": {
     "end_time": "2019-05-31T23:42:14.567644Z",
     "start_time": "2019-05-31T23:42:12.834689Z"
    }
   },
   "outputs": [],
   "source": [
    "# Data manipulation\n",
    "import pandas as pd\n",
    "import numpy as np\n",
    "from math import floor, sqrt\n",
    "from dtw import dtw\n",
    "from fastdtw import fastdtw\n",
    "\n",
    "# Modeling\n",
    "import xgboost as xgb\n",
    "from sklearn.metrics import mean_squared_error\n",
    "from sklearn.model_selection import cross_val_predict, RandomizedSearchCV\n",
    "from sklearn.feature_selection import RFECV\n",
    "from sklearn.linear_model import LinearRegression\n",
    "\n",
    "# Visualizations\n",
    "import matplotlib.pyplot as plt\n",
    "\n",
    "# Statistics\n",
    "from statsmodels.tsa.stattools import adfuller\n",
    "from scipy.stats import t\n",
    "\n",
    "# Utilies\n",
    "from tqdm import tqdm"
   ]
  },
  {
   "cell_type": "markdown",
   "metadata": {},
   "source": [
    "# Data cleaning and exploration"
   ]
  },
  {
   "cell_type": "markdown",
   "metadata": {},
   "source": [
    "In this section, we read in the data and calculate the monthly retention rates by company."
   ]
  },
  {
   "cell_type": "code",
   "execution_count": 2,
   "metadata": {
    "ExecuteTime": {
     "end_time": "2019-05-31T23:42:17.757147Z",
     "start_time": "2019-05-31T23:42:14.569646Z"
    }
   },
   "outputs": [
    {
     "name": "stdout",
     "output_type": "stream",
     "text": [
      "['Blue Apron', 'Brandless', 'Chewy', 'Dollar Shave Club', 'Peloton', 'Ring', 'Stitch Fix', 'Warby Parker', 'Wish']\n"
     ]
    },
    {
     "name": "stderr",
     "output_type": "stream",
     "text": [
      "100%|████████████████████████████████████████████████████████████████████████████████████| 9/9 [00:02<00:00,  3.20it/s]\n"
     ]
    }
   ],
   "source": [
    "# Read in cohort data from each company\n",
    "company_names = pd.ExcelFile('../data/Commerce analysis - full sales data.xlsx').sheet_names[1:]\n",
    "print(company_names)\n",
    "company_dfs = [pd.read_excel('../data/Commerce analysis - full sales data.xlsx', sheet_name = company) for company in tqdm(company_names)]\n",
    "company_dfs = dict(zip(company_names, company_dfs))"
   ]
  },
  {
   "cell_type": "code",
   "execution_count": 3,
   "metadata": {
    "ExecuteTime": {
     "end_time": "2019-05-31T23:42:17.828146Z",
     "start_time": "2019-05-31T23:42:17.759146Z"
    }
   },
   "outputs": [
    {
     "data": {
      "text/html": [
       "<div>\n",
       "<style scoped>\n",
       "    .dataframe tbody tr th:only-of-type {\n",
       "        vertical-align: middle;\n",
       "    }\n",
       "\n",
       "    .dataframe tbody tr th {\n",
       "        vertical-align: top;\n",
       "    }\n",
       "\n",
       "    .dataframe thead th {\n",
       "        text-align: right;\n",
       "    }\n",
       "</style>\n",
       "<table border=\"1\" class=\"dataframe\">\n",
       "  <thead>\n",
       "    <tr style=\"text-align: right;\">\n",
       "      <th></th>\n",
       "      <th>Cohort month</th>\n",
       "      <th>Cohort size</th>\n",
       "      <th>1</th>\n",
       "      <th>2</th>\n",
       "      <th>3</th>\n",
       "      <th>4</th>\n",
       "      <th>5</th>\n",
       "      <th>6</th>\n",
       "      <th>7</th>\n",
       "      <th>8</th>\n",
       "      <th>...</th>\n",
       "      <th>64</th>\n",
       "      <th>65</th>\n",
       "      <th>66</th>\n",
       "      <th>67</th>\n",
       "      <th>68</th>\n",
       "      <th>69</th>\n",
       "      <th>70</th>\n",
       "      <th>71</th>\n",
       "      <th>72</th>\n",
       "      <th>73</th>\n",
       "    </tr>\n",
       "  </thead>\n",
       "  <tbody>\n",
       "    <tr>\n",
       "      <th>0</th>\n",
       "      <td>2012-08-01</td>\n",
       "      <td>1</td>\n",
       "      <td>1.0000</td>\n",
       "      <td>1.0000</td>\n",
       "      <td>1.0000</td>\n",
       "      <td>1.0000</td>\n",
       "      <td>1.0000</td>\n",
       "      <td>1.0000</td>\n",
       "      <td>0.0000</td>\n",
       "      <td>0.0000</td>\n",
       "      <td>...</td>\n",
       "      <td>0.0000</td>\n",
       "      <td>0.0000</td>\n",
       "      <td>0.0000</td>\n",
       "      <td>0.0000</td>\n",
       "      <td>0.0000</td>\n",
       "      <td>0.0000</td>\n",
       "      <td>0.0000</td>\n",
       "      <td>0.0000</td>\n",
       "      <td>0.0</td>\n",
       "      <td>0.0</td>\n",
       "    </tr>\n",
       "    <tr>\n",
       "      <th>1</th>\n",
       "      <td>2012-09-01</td>\n",
       "      <td>3</td>\n",
       "      <td>1.0000</td>\n",
       "      <td>1.0000</td>\n",
       "      <td>0.3333</td>\n",
       "      <td>0.6667</td>\n",
       "      <td>0.3333</td>\n",
       "      <td>0.3333</td>\n",
       "      <td>0.3333</td>\n",
       "      <td>0.3333</td>\n",
       "      <td>...</td>\n",
       "      <td>0.0000</td>\n",
       "      <td>0.0000</td>\n",
       "      <td>0.0000</td>\n",
       "      <td>0.0000</td>\n",
       "      <td>0.0000</td>\n",
       "      <td>0.0000</td>\n",
       "      <td>0.0000</td>\n",
       "      <td>0.0000</td>\n",
       "      <td>0.0</td>\n",
       "      <td>NaN</td>\n",
       "    </tr>\n",
       "    <tr>\n",
       "      <th>2</th>\n",
       "      <td>2012-10-01</td>\n",
       "      <td>9</td>\n",
       "      <td>0.7778</td>\n",
       "      <td>0.7778</td>\n",
       "      <td>0.7778</td>\n",
       "      <td>0.7778</td>\n",
       "      <td>0.6667</td>\n",
       "      <td>0.5556</td>\n",
       "      <td>0.6667</td>\n",
       "      <td>0.5556</td>\n",
       "      <td>...</td>\n",
       "      <td>0.2222</td>\n",
       "      <td>0.2222</td>\n",
       "      <td>0.2222</td>\n",
       "      <td>0.1111</td>\n",
       "      <td>0.2222</td>\n",
       "      <td>0.1111</td>\n",
       "      <td>0.3333</td>\n",
       "      <td>0.3333</td>\n",
       "      <td>NaN</td>\n",
       "      <td>NaN</td>\n",
       "    </tr>\n",
       "    <tr>\n",
       "      <th>3</th>\n",
       "      <td>2012-11-01</td>\n",
       "      <td>8</td>\n",
       "      <td>0.8750</td>\n",
       "      <td>0.7500</td>\n",
       "      <td>0.5000</td>\n",
       "      <td>0.5000</td>\n",
       "      <td>0.3750</td>\n",
       "      <td>0.3750</td>\n",
       "      <td>0.2500</td>\n",
       "      <td>0.2500</td>\n",
       "      <td>...</td>\n",
       "      <td>0.0000</td>\n",
       "      <td>0.0000</td>\n",
       "      <td>0.0000</td>\n",
       "      <td>0.1250</td>\n",
       "      <td>0.0000</td>\n",
       "      <td>0.0000</td>\n",
       "      <td>0.0000</td>\n",
       "      <td>NaN</td>\n",
       "      <td>NaN</td>\n",
       "      <td>NaN</td>\n",
       "    </tr>\n",
       "    <tr>\n",
       "      <th>4</th>\n",
       "      <td>2012-12-01</td>\n",
       "      <td>8</td>\n",
       "      <td>0.6250</td>\n",
       "      <td>0.6250</td>\n",
       "      <td>0.6250</td>\n",
       "      <td>0.2500</td>\n",
       "      <td>0.2500</td>\n",
       "      <td>0.1250</td>\n",
       "      <td>0.3750</td>\n",
       "      <td>0.0000</td>\n",
       "      <td>...</td>\n",
       "      <td>0.0000</td>\n",
       "      <td>0.0000</td>\n",
       "      <td>0.0000</td>\n",
       "      <td>0.0000</td>\n",
       "      <td>0.0000</td>\n",
       "      <td>0.0000</td>\n",
       "      <td>NaN</td>\n",
       "      <td>NaN</td>\n",
       "      <td>NaN</td>\n",
       "      <td>NaN</td>\n",
       "    </tr>\n",
       "    <tr>\n",
       "      <th>5</th>\n",
       "      <td>2013-01-01</td>\n",
       "      <td>25</td>\n",
       "      <td>0.7200</td>\n",
       "      <td>0.7200</td>\n",
       "      <td>0.6000</td>\n",
       "      <td>0.5600</td>\n",
       "      <td>0.4400</td>\n",
       "      <td>0.4400</td>\n",
       "      <td>0.2800</td>\n",
       "      <td>0.3600</td>\n",
       "      <td>...</td>\n",
       "      <td>0.0800</td>\n",
       "      <td>0.0800</td>\n",
       "      <td>0.0800</td>\n",
       "      <td>0.1200</td>\n",
       "      <td>0.1600</td>\n",
       "      <td>NaN</td>\n",
       "      <td>NaN</td>\n",
       "      <td>NaN</td>\n",
       "      <td>NaN</td>\n",
       "      <td>NaN</td>\n",
       "    </tr>\n",
       "    <tr>\n",
       "      <th>6</th>\n",
       "      <td>2013-02-01</td>\n",
       "      <td>39</td>\n",
       "      <td>0.8205</td>\n",
       "      <td>0.7436</td>\n",
       "      <td>0.4872</td>\n",
       "      <td>0.4615</td>\n",
       "      <td>0.3846</td>\n",
       "      <td>0.3846</td>\n",
       "      <td>0.3590</td>\n",
       "      <td>0.2821</td>\n",
       "      <td>...</td>\n",
       "      <td>0.1282</td>\n",
       "      <td>0.1282</td>\n",
       "      <td>0.1026</td>\n",
       "      <td>0.1026</td>\n",
       "      <td>NaN</td>\n",
       "      <td>NaN</td>\n",
       "      <td>NaN</td>\n",
       "      <td>NaN</td>\n",
       "      <td>NaN</td>\n",
       "      <td>NaN</td>\n",
       "    </tr>\n",
       "    <tr>\n",
       "      <th>7</th>\n",
       "      <td>2013-03-01</td>\n",
       "      <td>82</td>\n",
       "      <td>0.7195</td>\n",
       "      <td>0.6098</td>\n",
       "      <td>0.4756</td>\n",
       "      <td>0.4268</td>\n",
       "      <td>0.4024</td>\n",
       "      <td>0.4756</td>\n",
       "      <td>0.3415</td>\n",
       "      <td>0.3049</td>\n",
       "      <td>...</td>\n",
       "      <td>0.0610</td>\n",
       "      <td>0.0610</td>\n",
       "      <td>0.0610</td>\n",
       "      <td>NaN</td>\n",
       "      <td>NaN</td>\n",
       "      <td>NaN</td>\n",
       "      <td>NaN</td>\n",
       "      <td>NaN</td>\n",
       "      <td>NaN</td>\n",
       "      <td>NaN</td>\n",
       "    </tr>\n",
       "    <tr>\n",
       "      <th>8</th>\n",
       "      <td>2013-04-01</td>\n",
       "      <td>88</td>\n",
       "      <td>0.6818</td>\n",
       "      <td>0.6250</td>\n",
       "      <td>0.5000</td>\n",
       "      <td>0.4432</td>\n",
       "      <td>0.5341</td>\n",
       "      <td>0.3977</td>\n",
       "      <td>0.3636</td>\n",
       "      <td>0.2955</td>\n",
       "      <td>...</td>\n",
       "      <td>0.1591</td>\n",
       "      <td>0.1250</td>\n",
       "      <td>NaN</td>\n",
       "      <td>NaN</td>\n",
       "      <td>NaN</td>\n",
       "      <td>NaN</td>\n",
       "      <td>NaN</td>\n",
       "      <td>NaN</td>\n",
       "      <td>NaN</td>\n",
       "      <td>NaN</td>\n",
       "    </tr>\n",
       "    <tr>\n",
       "      <th>9</th>\n",
       "      <td>2013-05-01</td>\n",
       "      <td>62</td>\n",
       "      <td>0.5968</td>\n",
       "      <td>0.4677</td>\n",
       "      <td>0.4677</td>\n",
       "      <td>0.4194</td>\n",
       "      <td>0.3226</td>\n",
       "      <td>0.4032</td>\n",
       "      <td>0.3710</td>\n",
       "      <td>0.3548</td>\n",
       "      <td>...</td>\n",
       "      <td>0.0484</td>\n",
       "      <td>NaN</td>\n",
       "      <td>NaN</td>\n",
       "      <td>NaN</td>\n",
       "      <td>NaN</td>\n",
       "      <td>NaN</td>\n",
       "      <td>NaN</td>\n",
       "      <td>NaN</td>\n",
       "      <td>NaN</td>\n",
       "      <td>NaN</td>\n",
       "    </tr>\n",
       "    <tr>\n",
       "      <th>10</th>\n",
       "      <td>2013-06-01</td>\n",
       "      <td>72</td>\n",
       "      <td>0.6111</td>\n",
       "      <td>0.4444</td>\n",
       "      <td>0.5417</td>\n",
       "      <td>0.3889</td>\n",
       "      <td>0.3333</td>\n",
       "      <td>0.2639</td>\n",
       "      <td>0.3194</td>\n",
       "      <td>0.3056</td>\n",
       "      <td>...</td>\n",
       "      <td>NaN</td>\n",
       "      <td>NaN</td>\n",
       "      <td>NaN</td>\n",
       "      <td>NaN</td>\n",
       "      <td>NaN</td>\n",
       "      <td>NaN</td>\n",
       "      <td>NaN</td>\n",
       "      <td>NaN</td>\n",
       "      <td>NaN</td>\n",
       "      <td>NaN</td>\n",
       "    </tr>\n",
       "    <tr>\n",
       "      <th>11</th>\n",
       "      <td>2013-07-01</td>\n",
       "      <td>116</td>\n",
       "      <td>0.6638</td>\n",
       "      <td>0.5948</td>\n",
       "      <td>0.5345</td>\n",
       "      <td>0.4397</td>\n",
       "      <td>0.3534</td>\n",
       "      <td>0.3879</td>\n",
       "      <td>0.3448</td>\n",
       "      <td>0.3362</td>\n",
       "      <td>...</td>\n",
       "      <td>NaN</td>\n",
       "      <td>NaN</td>\n",
       "      <td>NaN</td>\n",
       "      <td>NaN</td>\n",
       "      <td>NaN</td>\n",
       "      <td>NaN</td>\n",
       "      <td>NaN</td>\n",
       "      <td>NaN</td>\n",
       "      <td>NaN</td>\n",
       "      <td>NaN</td>\n",
       "    </tr>\n",
       "    <tr>\n",
       "      <th>12</th>\n",
       "      <td>2013-08-01</td>\n",
       "      <td>152</td>\n",
       "      <td>0.7500</td>\n",
       "      <td>0.6053</td>\n",
       "      <td>0.5132</td>\n",
       "      <td>0.4079</td>\n",
       "      <td>0.4342</td>\n",
       "      <td>0.3618</td>\n",
       "      <td>0.3355</td>\n",
       "      <td>0.3289</td>\n",
       "      <td>...</td>\n",
       "      <td>NaN</td>\n",
       "      <td>NaN</td>\n",
       "      <td>NaN</td>\n",
       "      <td>NaN</td>\n",
       "      <td>NaN</td>\n",
       "      <td>NaN</td>\n",
       "      <td>NaN</td>\n",
       "      <td>NaN</td>\n",
       "      <td>NaN</td>\n",
       "      <td>NaN</td>\n",
       "    </tr>\n",
       "    <tr>\n",
       "      <th>13</th>\n",
       "      <td>2013-09-01</td>\n",
       "      <td>281</td>\n",
       "      <td>0.7189</td>\n",
       "      <td>0.5943</td>\n",
       "      <td>0.4448</td>\n",
       "      <td>0.4698</td>\n",
       "      <td>0.3701</td>\n",
       "      <td>0.3310</td>\n",
       "      <td>0.2847</td>\n",
       "      <td>0.2847</td>\n",
       "      <td>...</td>\n",
       "      <td>NaN</td>\n",
       "      <td>NaN</td>\n",
       "      <td>NaN</td>\n",
       "      <td>NaN</td>\n",
       "      <td>NaN</td>\n",
       "      <td>NaN</td>\n",
       "      <td>NaN</td>\n",
       "      <td>NaN</td>\n",
       "      <td>NaN</td>\n",
       "      <td>NaN</td>\n",
       "    </tr>\n",
       "    <tr>\n",
       "      <th>14</th>\n",
       "      <td>2013-10-01</td>\n",
       "      <td>261</td>\n",
       "      <td>0.7050</td>\n",
       "      <td>0.5134</td>\n",
       "      <td>0.5134</td>\n",
       "      <td>0.4368</td>\n",
       "      <td>0.4023</td>\n",
       "      <td>0.3218</td>\n",
       "      <td>0.3295</td>\n",
       "      <td>0.2644</td>\n",
       "      <td>...</td>\n",
       "      <td>NaN</td>\n",
       "      <td>NaN</td>\n",
       "      <td>NaN</td>\n",
       "      <td>NaN</td>\n",
       "      <td>NaN</td>\n",
       "      <td>NaN</td>\n",
       "      <td>NaN</td>\n",
       "      <td>NaN</td>\n",
       "      <td>NaN</td>\n",
       "      <td>NaN</td>\n",
       "    </tr>\n",
       "    <tr>\n",
       "      <th>15</th>\n",
       "      <td>2013-11-01</td>\n",
       "      <td>253</td>\n",
       "      <td>0.6166</td>\n",
       "      <td>0.5099</td>\n",
       "      <td>0.4269</td>\n",
       "      <td>0.4032</td>\n",
       "      <td>0.3636</td>\n",
       "      <td>0.3478</td>\n",
       "      <td>0.2964</td>\n",
       "      <td>0.2332</td>\n",
       "      <td>...</td>\n",
       "      <td>NaN</td>\n",
       "      <td>NaN</td>\n",
       "      <td>NaN</td>\n",
       "      <td>NaN</td>\n",
       "      <td>NaN</td>\n",
       "      <td>NaN</td>\n",
       "      <td>NaN</td>\n",
       "      <td>NaN</td>\n",
       "      <td>NaN</td>\n",
       "      <td>NaN</td>\n",
       "    </tr>\n",
       "    <tr>\n",
       "      <th>16</th>\n",
       "      <td>2013-12-01</td>\n",
       "      <td>306</td>\n",
       "      <td>0.4477</td>\n",
       "      <td>0.3497</td>\n",
       "      <td>0.3399</td>\n",
       "      <td>0.2647</td>\n",
       "      <td>0.2582</td>\n",
       "      <td>0.2092</td>\n",
       "      <td>0.1961</td>\n",
       "      <td>0.1438</td>\n",
       "      <td>...</td>\n",
       "      <td>NaN</td>\n",
       "      <td>NaN</td>\n",
       "      <td>NaN</td>\n",
       "      <td>NaN</td>\n",
       "      <td>NaN</td>\n",
       "      <td>NaN</td>\n",
       "      <td>NaN</td>\n",
       "      <td>NaN</td>\n",
       "      <td>NaN</td>\n",
       "      <td>NaN</td>\n",
       "    </tr>\n",
       "    <tr>\n",
       "      <th>17</th>\n",
       "      <td>2014-01-01</td>\n",
       "      <td>508</td>\n",
       "      <td>0.5866</td>\n",
       "      <td>0.5315</td>\n",
       "      <td>0.4213</td>\n",
       "      <td>0.3780</td>\n",
       "      <td>0.3346</td>\n",
       "      <td>0.2638</td>\n",
       "      <td>0.2362</td>\n",
       "      <td>0.2106</td>\n",
       "      <td>...</td>\n",
       "      <td>NaN</td>\n",
       "      <td>NaN</td>\n",
       "      <td>NaN</td>\n",
       "      <td>NaN</td>\n",
       "      <td>NaN</td>\n",
       "      <td>NaN</td>\n",
       "      <td>NaN</td>\n",
       "      <td>NaN</td>\n",
       "      <td>NaN</td>\n",
       "      <td>NaN</td>\n",
       "    </tr>\n",
       "    <tr>\n",
       "      <th>18</th>\n",
       "      <td>2014-02-01</td>\n",
       "      <td>484</td>\n",
       "      <td>0.6715</td>\n",
       "      <td>0.5310</td>\n",
       "      <td>0.4607</td>\n",
       "      <td>0.3595</td>\n",
       "      <td>0.3161</td>\n",
       "      <td>0.3058</td>\n",
       "      <td>0.2438</td>\n",
       "      <td>0.2355</td>\n",
       "      <td>...</td>\n",
       "      <td>NaN</td>\n",
       "      <td>NaN</td>\n",
       "      <td>NaN</td>\n",
       "      <td>NaN</td>\n",
       "      <td>NaN</td>\n",
       "      <td>NaN</td>\n",
       "      <td>NaN</td>\n",
       "      <td>NaN</td>\n",
       "      <td>NaN</td>\n",
       "      <td>NaN</td>\n",
       "    </tr>\n",
       "    <tr>\n",
       "      <th>19</th>\n",
       "      <td>2014-03-01</td>\n",
       "      <td>649</td>\n",
       "      <td>0.6425</td>\n",
       "      <td>0.5208</td>\n",
       "      <td>0.4176</td>\n",
       "      <td>0.3390</td>\n",
       "      <td>0.2835</td>\n",
       "      <td>0.2357</td>\n",
       "      <td>0.2435</td>\n",
       "      <td>0.2080</td>\n",
       "      <td>...</td>\n",
       "      <td>NaN</td>\n",
       "      <td>NaN</td>\n",
       "      <td>NaN</td>\n",
       "      <td>NaN</td>\n",
       "      <td>NaN</td>\n",
       "      <td>NaN</td>\n",
       "      <td>NaN</td>\n",
       "      <td>NaN</td>\n",
       "      <td>NaN</td>\n",
       "      <td>NaN</td>\n",
       "    </tr>\n",
       "    <tr>\n",
       "      <th>20</th>\n",
       "      <td>2014-04-01</td>\n",
       "      <td>650</td>\n",
       "      <td>0.6354</td>\n",
       "      <td>0.4338</td>\n",
       "      <td>0.3446</td>\n",
       "      <td>0.2938</td>\n",
       "      <td>0.2492</td>\n",
       "      <td>0.2415</td>\n",
       "      <td>0.2354</td>\n",
       "      <td>0.1846</td>\n",
       "      <td>...</td>\n",
       "      <td>NaN</td>\n",
       "      <td>NaN</td>\n",
       "      <td>NaN</td>\n",
       "      <td>NaN</td>\n",
       "      <td>NaN</td>\n",
       "      <td>NaN</td>\n",
       "      <td>NaN</td>\n",
       "      <td>NaN</td>\n",
       "      <td>NaN</td>\n",
       "      <td>NaN</td>\n",
       "    </tr>\n",
       "    <tr>\n",
       "      <th>21</th>\n",
       "      <td>2014-05-01</td>\n",
       "      <td>767</td>\n",
       "      <td>0.5724</td>\n",
       "      <td>0.3937</td>\n",
       "      <td>0.3625</td>\n",
       "      <td>0.3090</td>\n",
       "      <td>0.2816</td>\n",
       "      <td>0.2712</td>\n",
       "      <td>0.2373</td>\n",
       "      <td>0.2503</td>\n",
       "      <td>...</td>\n",
       "      <td>NaN</td>\n",
       "      <td>NaN</td>\n",
       "      <td>NaN</td>\n",
       "      <td>NaN</td>\n",
       "      <td>NaN</td>\n",
       "      <td>NaN</td>\n",
       "      <td>NaN</td>\n",
       "      <td>NaN</td>\n",
       "      <td>NaN</td>\n",
       "      <td>NaN</td>\n",
       "    </tr>\n",
       "    <tr>\n",
       "      <th>22</th>\n",
       "      <td>2014-06-01</td>\n",
       "      <td>461</td>\n",
       "      <td>0.4946</td>\n",
       "      <td>0.4490</td>\n",
       "      <td>0.3297</td>\n",
       "      <td>0.2993</td>\n",
       "      <td>0.2690</td>\n",
       "      <td>0.2603</td>\n",
       "      <td>0.2668</td>\n",
       "      <td>0.2386</td>\n",
       "      <td>...</td>\n",
       "      <td>NaN</td>\n",
       "      <td>NaN</td>\n",
       "      <td>NaN</td>\n",
       "      <td>NaN</td>\n",
       "      <td>NaN</td>\n",
       "      <td>NaN</td>\n",
       "      <td>NaN</td>\n",
       "      <td>NaN</td>\n",
       "      <td>NaN</td>\n",
       "      <td>NaN</td>\n",
       "    </tr>\n",
       "    <tr>\n",
       "      <th>23</th>\n",
       "      <td>2014-07-01</td>\n",
       "      <td>526</td>\n",
       "      <td>0.6065</td>\n",
       "      <td>0.4354</td>\n",
       "      <td>0.3688</td>\n",
       "      <td>0.3327</td>\n",
       "      <td>0.2738</td>\n",
       "      <td>0.2890</td>\n",
       "      <td>0.2662</td>\n",
       "      <td>0.2300</td>\n",
       "      <td>...</td>\n",
       "      <td>NaN</td>\n",
       "      <td>NaN</td>\n",
       "      <td>NaN</td>\n",
       "      <td>NaN</td>\n",
       "      <td>NaN</td>\n",
       "      <td>NaN</td>\n",
       "      <td>NaN</td>\n",
       "      <td>NaN</td>\n",
       "      <td>NaN</td>\n",
       "      <td>NaN</td>\n",
       "    </tr>\n",
       "    <tr>\n",
       "      <th>24</th>\n",
       "      <td>2014-08-01</td>\n",
       "      <td>773</td>\n",
       "      <td>0.6028</td>\n",
       "      <td>0.5265</td>\n",
       "      <td>0.4334</td>\n",
       "      <td>0.3855</td>\n",
       "      <td>0.4010</td>\n",
       "      <td>0.3169</td>\n",
       "      <td>0.2820</td>\n",
       "      <td>0.2600</td>\n",
       "      <td>...</td>\n",
       "      <td>NaN</td>\n",
       "      <td>NaN</td>\n",
       "      <td>NaN</td>\n",
       "      <td>NaN</td>\n",
       "      <td>NaN</td>\n",
       "      <td>NaN</td>\n",
       "      <td>NaN</td>\n",
       "      <td>NaN</td>\n",
       "      <td>NaN</td>\n",
       "      <td>NaN</td>\n",
       "    </tr>\n",
       "    <tr>\n",
       "      <th>25</th>\n",
       "      <td>2014-09-01</td>\n",
       "      <td>738</td>\n",
       "      <td>0.6179</td>\n",
       "      <td>0.5054</td>\n",
       "      <td>0.4255</td>\n",
       "      <td>0.3902</td>\n",
       "      <td>0.3442</td>\n",
       "      <td>0.2778</td>\n",
       "      <td>0.2588</td>\n",
       "      <td>0.2507</td>\n",
       "      <td>...</td>\n",
       "      <td>NaN</td>\n",
       "      <td>NaN</td>\n",
       "      <td>NaN</td>\n",
       "      <td>NaN</td>\n",
       "      <td>NaN</td>\n",
       "      <td>NaN</td>\n",
       "      <td>NaN</td>\n",
       "      <td>NaN</td>\n",
       "      <td>NaN</td>\n",
       "      <td>NaN</td>\n",
       "    </tr>\n",
       "    <tr>\n",
       "      <th>26</th>\n",
       "      <td>2014-10-01</td>\n",
       "      <td>669</td>\n",
       "      <td>0.6502</td>\n",
       "      <td>0.4858</td>\n",
       "      <td>0.4604</td>\n",
       "      <td>0.4036</td>\n",
       "      <td>0.3244</td>\n",
       "      <td>0.3004</td>\n",
       "      <td>0.3079</td>\n",
       "      <td>0.2436</td>\n",
       "      <td>...</td>\n",
       "      <td>NaN</td>\n",
       "      <td>NaN</td>\n",
       "      <td>NaN</td>\n",
       "      <td>NaN</td>\n",
       "      <td>NaN</td>\n",
       "      <td>NaN</td>\n",
       "      <td>NaN</td>\n",
       "      <td>NaN</td>\n",
       "      <td>NaN</td>\n",
       "      <td>NaN</td>\n",
       "    </tr>\n",
       "    <tr>\n",
       "      <th>27</th>\n",
       "      <td>2014-11-01</td>\n",
       "      <td>735</td>\n",
       "      <td>0.5973</td>\n",
       "      <td>0.5306</td>\n",
       "      <td>0.4313</td>\n",
       "      <td>0.3524</td>\n",
       "      <td>0.3374</td>\n",
       "      <td>0.3265</td>\n",
       "      <td>0.2844</td>\n",
       "      <td>0.2367</td>\n",
       "      <td>...</td>\n",
       "      <td>NaN</td>\n",
       "      <td>NaN</td>\n",
       "      <td>NaN</td>\n",
       "      <td>NaN</td>\n",
       "      <td>NaN</td>\n",
       "      <td>NaN</td>\n",
       "      <td>NaN</td>\n",
       "      <td>NaN</td>\n",
       "      <td>NaN</td>\n",
       "      <td>NaN</td>\n",
       "    </tr>\n",
       "    <tr>\n",
       "      <th>28</th>\n",
       "      <td>2014-12-01</td>\n",
       "      <td>965</td>\n",
       "      <td>0.4259</td>\n",
       "      <td>0.3762</td>\n",
       "      <td>0.3181</td>\n",
       "      <td>0.2933</td>\n",
       "      <td>0.2674</td>\n",
       "      <td>0.2280</td>\n",
       "      <td>0.2031</td>\n",
       "      <td>0.1876</td>\n",
       "      <td>...</td>\n",
       "      <td>NaN</td>\n",
       "      <td>NaN</td>\n",
       "      <td>NaN</td>\n",
       "      <td>NaN</td>\n",
       "      <td>NaN</td>\n",
       "      <td>NaN</td>\n",
       "      <td>NaN</td>\n",
       "      <td>NaN</td>\n",
       "      <td>NaN</td>\n",
       "      <td>NaN</td>\n",
       "    </tr>\n",
       "    <tr>\n",
       "      <th>29</th>\n",
       "      <td>2015-01-01</td>\n",
       "      <td>1606</td>\n",
       "      <td>0.6905</td>\n",
       "      <td>0.5342</td>\n",
       "      <td>0.4552</td>\n",
       "      <td>0.4029</td>\n",
       "      <td>0.3356</td>\n",
       "      <td>0.2939</td>\n",
       "      <td>0.2497</td>\n",
       "      <td>0.2335</td>\n",
       "      <td>...</td>\n",
       "      <td>NaN</td>\n",
       "      <td>NaN</td>\n",
       "      <td>NaN</td>\n",
       "      <td>NaN</td>\n",
       "      <td>NaN</td>\n",
       "      <td>NaN</td>\n",
       "      <td>NaN</td>\n",
       "      <td>NaN</td>\n",
       "      <td>NaN</td>\n",
       "      <td>NaN</td>\n",
       "    </tr>\n",
       "    <tr>\n",
       "      <th>...</th>\n",
       "      <td>...</td>\n",
       "      <td>...</td>\n",
       "      <td>...</td>\n",
       "      <td>...</td>\n",
       "      <td>...</td>\n",
       "      <td>...</td>\n",
       "      <td>...</td>\n",
       "      <td>...</td>\n",
       "      <td>...</td>\n",
       "      <td>...</td>\n",
       "      <td>...</td>\n",
       "      <td>...</td>\n",
       "      <td>...</td>\n",
       "      <td>...</td>\n",
       "      <td>...</td>\n",
       "      <td>...</td>\n",
       "      <td>...</td>\n",
       "      <td>...</td>\n",
       "      <td>...</td>\n",
       "      <td>...</td>\n",
       "      <td>...</td>\n",
       "    </tr>\n",
       "    <tr>\n",
       "      <th>44</th>\n",
       "      <td>2016-04-01</td>\n",
       "      <td>4222</td>\n",
       "      <td>0.6085</td>\n",
       "      <td>0.4581</td>\n",
       "      <td>0.3830</td>\n",
       "      <td>0.3018</td>\n",
       "      <td>0.2712</td>\n",
       "      <td>0.2181</td>\n",
       "      <td>0.1919</td>\n",
       "      <td>0.1824</td>\n",
       "      <td>...</td>\n",
       "      <td>NaN</td>\n",
       "      <td>NaN</td>\n",
       "      <td>NaN</td>\n",
       "      <td>NaN</td>\n",
       "      <td>NaN</td>\n",
       "      <td>NaN</td>\n",
       "      <td>NaN</td>\n",
       "      <td>NaN</td>\n",
       "      <td>NaN</td>\n",
       "      <td>NaN</td>\n",
       "    </tr>\n",
       "    <tr>\n",
       "      <th>45</th>\n",
       "      <td>2016-05-01</td>\n",
       "      <td>3808</td>\n",
       "      <td>0.5903</td>\n",
       "      <td>0.4383</td>\n",
       "      <td>0.3322</td>\n",
       "      <td>0.2902</td>\n",
       "      <td>0.2235</td>\n",
       "      <td>0.2017</td>\n",
       "      <td>0.1783</td>\n",
       "      <td>0.1694</td>\n",
       "      <td>...</td>\n",
       "      <td>NaN</td>\n",
       "      <td>NaN</td>\n",
       "      <td>NaN</td>\n",
       "      <td>NaN</td>\n",
       "      <td>NaN</td>\n",
       "      <td>NaN</td>\n",
       "      <td>NaN</td>\n",
       "      <td>NaN</td>\n",
       "      <td>NaN</td>\n",
       "      <td>NaN</td>\n",
       "    </tr>\n",
       "    <tr>\n",
       "      <th>46</th>\n",
       "      <td>2016-06-01</td>\n",
       "      <td>3639</td>\n",
       "      <td>0.6161</td>\n",
       "      <td>0.4361</td>\n",
       "      <td>0.3410</td>\n",
       "      <td>0.2608</td>\n",
       "      <td>0.2262</td>\n",
       "      <td>0.2091</td>\n",
       "      <td>0.1808</td>\n",
       "      <td>0.1599</td>\n",
       "      <td>...</td>\n",
       "      <td>NaN</td>\n",
       "      <td>NaN</td>\n",
       "      <td>NaN</td>\n",
       "      <td>NaN</td>\n",
       "      <td>NaN</td>\n",
       "      <td>NaN</td>\n",
       "      <td>NaN</td>\n",
       "      <td>NaN</td>\n",
       "      <td>NaN</td>\n",
       "      <td>NaN</td>\n",
       "    </tr>\n",
       "    <tr>\n",
       "      <th>47</th>\n",
       "      <td>2016-07-01</td>\n",
       "      <td>4136</td>\n",
       "      <td>0.5498</td>\n",
       "      <td>0.4016</td>\n",
       "      <td>0.2950</td>\n",
       "      <td>0.2495</td>\n",
       "      <td>0.2290</td>\n",
       "      <td>0.1973</td>\n",
       "      <td>0.1719</td>\n",
       "      <td>0.1666</td>\n",
       "      <td>...</td>\n",
       "      <td>NaN</td>\n",
       "      <td>NaN</td>\n",
       "      <td>NaN</td>\n",
       "      <td>NaN</td>\n",
       "      <td>NaN</td>\n",
       "      <td>NaN</td>\n",
       "      <td>NaN</td>\n",
       "      <td>NaN</td>\n",
       "      <td>NaN</td>\n",
       "      <td>NaN</td>\n",
       "    </tr>\n",
       "    <tr>\n",
       "      <th>48</th>\n",
       "      <td>2016-08-01</td>\n",
       "      <td>4582</td>\n",
       "      <td>0.5421</td>\n",
       "      <td>0.3706</td>\n",
       "      <td>0.3095</td>\n",
       "      <td>0.2654</td>\n",
       "      <td>0.2268</td>\n",
       "      <td>0.1910</td>\n",
       "      <td>0.1787</td>\n",
       "      <td>0.1574</td>\n",
       "      <td>...</td>\n",
       "      <td>NaN</td>\n",
       "      <td>NaN</td>\n",
       "      <td>NaN</td>\n",
       "      <td>NaN</td>\n",
       "      <td>NaN</td>\n",
       "      <td>NaN</td>\n",
       "      <td>NaN</td>\n",
       "      <td>NaN</td>\n",
       "      <td>NaN</td>\n",
       "      <td>NaN</td>\n",
       "    </tr>\n",
       "    <tr>\n",
       "      <th>49</th>\n",
       "      <td>2016-09-01</td>\n",
       "      <td>5803</td>\n",
       "      <td>0.5533</td>\n",
       "      <td>0.4063</td>\n",
       "      <td>0.3355</td>\n",
       "      <td>0.2857</td>\n",
       "      <td>0.2449</td>\n",
       "      <td>0.2209</td>\n",
       "      <td>0.1901</td>\n",
       "      <td>0.1730</td>\n",
       "      <td>...</td>\n",
       "      <td>NaN</td>\n",
       "      <td>NaN</td>\n",
       "      <td>NaN</td>\n",
       "      <td>NaN</td>\n",
       "      <td>NaN</td>\n",
       "      <td>NaN</td>\n",
       "      <td>NaN</td>\n",
       "      <td>NaN</td>\n",
       "      <td>NaN</td>\n",
       "      <td>NaN</td>\n",
       "    </tr>\n",
       "    <tr>\n",
       "      <th>50</th>\n",
       "      <td>2016-10-01</td>\n",
       "      <td>4514</td>\n",
       "      <td>0.5735</td>\n",
       "      <td>0.4267</td>\n",
       "      <td>0.3449</td>\n",
       "      <td>0.2831</td>\n",
       "      <td>0.2479</td>\n",
       "      <td>0.2164</td>\n",
       "      <td>0.1865</td>\n",
       "      <td>0.1704</td>\n",
       "      <td>...</td>\n",
       "      <td>NaN</td>\n",
       "      <td>NaN</td>\n",
       "      <td>NaN</td>\n",
       "      <td>NaN</td>\n",
       "      <td>NaN</td>\n",
       "      <td>NaN</td>\n",
       "      <td>NaN</td>\n",
       "      <td>NaN</td>\n",
       "      <td>NaN</td>\n",
       "      <td>NaN</td>\n",
       "    </tr>\n",
       "    <tr>\n",
       "      <th>51</th>\n",
       "      <td>2016-11-01</td>\n",
       "      <td>3042</td>\n",
       "      <td>0.5378</td>\n",
       "      <td>0.3968</td>\n",
       "      <td>0.3126</td>\n",
       "      <td>0.2676</td>\n",
       "      <td>0.2193</td>\n",
       "      <td>0.2035</td>\n",
       "      <td>0.1680</td>\n",
       "      <td>0.1680</td>\n",
       "      <td>...</td>\n",
       "      <td>NaN</td>\n",
       "      <td>NaN</td>\n",
       "      <td>NaN</td>\n",
       "      <td>NaN</td>\n",
       "      <td>NaN</td>\n",
       "      <td>NaN</td>\n",
       "      <td>NaN</td>\n",
       "      <td>NaN</td>\n",
       "      <td>NaN</td>\n",
       "      <td>NaN</td>\n",
       "    </tr>\n",
       "    <tr>\n",
       "      <th>52</th>\n",
       "      <td>2016-12-01</td>\n",
       "      <td>3573</td>\n",
       "      <td>0.4165</td>\n",
       "      <td>0.2950</td>\n",
       "      <td>0.2499</td>\n",
       "      <td>0.2102</td>\n",
       "      <td>0.1875</td>\n",
       "      <td>0.1598</td>\n",
       "      <td>0.1528</td>\n",
       "      <td>0.1341</td>\n",
       "      <td>...</td>\n",
       "      <td>NaN</td>\n",
       "      <td>NaN</td>\n",
       "      <td>NaN</td>\n",
       "      <td>NaN</td>\n",
       "      <td>NaN</td>\n",
       "      <td>NaN</td>\n",
       "      <td>NaN</td>\n",
       "      <td>NaN</td>\n",
       "      <td>NaN</td>\n",
       "      <td>NaN</td>\n",
       "    </tr>\n",
       "    <tr>\n",
       "      <th>53</th>\n",
       "      <td>2017-01-01</td>\n",
       "      <td>5181</td>\n",
       "      <td>0.5667</td>\n",
       "      <td>0.4063</td>\n",
       "      <td>0.3233</td>\n",
       "      <td>0.2660</td>\n",
       "      <td>0.2357</td>\n",
       "      <td>0.2023</td>\n",
       "      <td>0.1712</td>\n",
       "      <td>0.1616</td>\n",
       "      <td>...</td>\n",
       "      <td>NaN</td>\n",
       "      <td>NaN</td>\n",
       "      <td>NaN</td>\n",
       "      <td>NaN</td>\n",
       "      <td>NaN</td>\n",
       "      <td>NaN</td>\n",
       "      <td>NaN</td>\n",
       "      <td>NaN</td>\n",
       "      <td>NaN</td>\n",
       "      <td>NaN</td>\n",
       "    </tr>\n",
       "    <tr>\n",
       "      <th>54</th>\n",
       "      <td>2017-02-01</td>\n",
       "      <td>4890</td>\n",
       "      <td>0.5787</td>\n",
       "      <td>0.3998</td>\n",
       "      <td>0.3151</td>\n",
       "      <td>0.2646</td>\n",
       "      <td>0.2339</td>\n",
       "      <td>0.1863</td>\n",
       "      <td>0.1779</td>\n",
       "      <td>0.1585</td>\n",
       "      <td>...</td>\n",
       "      <td>NaN</td>\n",
       "      <td>NaN</td>\n",
       "      <td>NaN</td>\n",
       "      <td>NaN</td>\n",
       "      <td>NaN</td>\n",
       "      <td>NaN</td>\n",
       "      <td>NaN</td>\n",
       "      <td>NaN</td>\n",
       "      <td>NaN</td>\n",
       "      <td>NaN</td>\n",
       "    </tr>\n",
       "    <tr>\n",
       "      <th>55</th>\n",
       "      <td>2017-03-01</td>\n",
       "      <td>4578</td>\n",
       "      <td>0.5343</td>\n",
       "      <td>0.3917</td>\n",
       "      <td>0.3060</td>\n",
       "      <td>0.2674</td>\n",
       "      <td>0.2211</td>\n",
       "      <td>0.2010</td>\n",
       "      <td>0.1752</td>\n",
       "      <td>0.1522</td>\n",
       "      <td>...</td>\n",
       "      <td>NaN</td>\n",
       "      <td>NaN</td>\n",
       "      <td>NaN</td>\n",
       "      <td>NaN</td>\n",
       "      <td>NaN</td>\n",
       "      <td>NaN</td>\n",
       "      <td>NaN</td>\n",
       "      <td>NaN</td>\n",
       "      <td>NaN</td>\n",
       "      <td>NaN</td>\n",
       "    </tr>\n",
       "    <tr>\n",
       "      <th>56</th>\n",
       "      <td>2017-04-01</td>\n",
       "      <td>3472</td>\n",
       "      <td>0.5274</td>\n",
       "      <td>0.3744</td>\n",
       "      <td>0.2961</td>\n",
       "      <td>0.2287</td>\n",
       "      <td>0.2160</td>\n",
       "      <td>0.1838</td>\n",
       "      <td>0.1668</td>\n",
       "      <td>0.1495</td>\n",
       "      <td>...</td>\n",
       "      <td>NaN</td>\n",
       "      <td>NaN</td>\n",
       "      <td>NaN</td>\n",
       "      <td>NaN</td>\n",
       "      <td>NaN</td>\n",
       "      <td>NaN</td>\n",
       "      <td>NaN</td>\n",
       "      <td>NaN</td>\n",
       "      <td>NaN</td>\n",
       "      <td>NaN</td>\n",
       "    </tr>\n",
       "    <tr>\n",
       "      <th>57</th>\n",
       "      <td>2017-05-01</td>\n",
       "      <td>3244</td>\n",
       "      <td>0.5225</td>\n",
       "      <td>0.3776</td>\n",
       "      <td>0.2756</td>\n",
       "      <td>0.2334</td>\n",
       "      <td>0.1998</td>\n",
       "      <td>0.1625</td>\n",
       "      <td>0.1547</td>\n",
       "      <td>0.1424</td>\n",
       "      <td>...</td>\n",
       "      <td>NaN</td>\n",
       "      <td>NaN</td>\n",
       "      <td>NaN</td>\n",
       "      <td>NaN</td>\n",
       "      <td>NaN</td>\n",
       "      <td>NaN</td>\n",
       "      <td>NaN</td>\n",
       "      <td>NaN</td>\n",
       "      <td>NaN</td>\n",
       "      <td>NaN</td>\n",
       "    </tr>\n",
       "    <tr>\n",
       "      <th>58</th>\n",
       "      <td>2017-06-01</td>\n",
       "      <td>2468</td>\n",
       "      <td>0.5012</td>\n",
       "      <td>0.3327</td>\n",
       "      <td>0.2694</td>\n",
       "      <td>0.2281</td>\n",
       "      <td>0.1896</td>\n",
       "      <td>0.1710</td>\n",
       "      <td>0.1556</td>\n",
       "      <td>0.1438</td>\n",
       "      <td>...</td>\n",
       "      <td>NaN</td>\n",
       "      <td>NaN</td>\n",
       "      <td>NaN</td>\n",
       "      <td>NaN</td>\n",
       "      <td>NaN</td>\n",
       "      <td>NaN</td>\n",
       "      <td>NaN</td>\n",
       "      <td>NaN</td>\n",
       "      <td>NaN</td>\n",
       "      <td>NaN</td>\n",
       "    </tr>\n",
       "    <tr>\n",
       "      <th>59</th>\n",
       "      <td>2017-07-01</td>\n",
       "      <td>2712</td>\n",
       "      <td>0.5240</td>\n",
       "      <td>0.3809</td>\n",
       "      <td>0.2913</td>\n",
       "      <td>0.2290</td>\n",
       "      <td>0.1951</td>\n",
       "      <td>0.1803</td>\n",
       "      <td>0.1608</td>\n",
       "      <td>0.1515</td>\n",
       "      <td>...</td>\n",
       "      <td>NaN</td>\n",
       "      <td>NaN</td>\n",
       "      <td>NaN</td>\n",
       "      <td>NaN</td>\n",
       "      <td>NaN</td>\n",
       "      <td>NaN</td>\n",
       "      <td>NaN</td>\n",
       "      <td>NaN</td>\n",
       "      <td>NaN</td>\n",
       "      <td>NaN</td>\n",
       "    </tr>\n",
       "    <tr>\n",
       "      <th>60</th>\n",
       "      <td>2017-08-01</td>\n",
       "      <td>2715</td>\n",
       "      <td>0.5713</td>\n",
       "      <td>0.3871</td>\n",
       "      <td>0.3024</td>\n",
       "      <td>0.2494</td>\n",
       "      <td>0.2298</td>\n",
       "      <td>0.2004</td>\n",
       "      <td>0.1867</td>\n",
       "      <td>0.1742</td>\n",
       "      <td>...</td>\n",
       "      <td>NaN</td>\n",
       "      <td>NaN</td>\n",
       "      <td>NaN</td>\n",
       "      <td>NaN</td>\n",
       "      <td>NaN</td>\n",
       "      <td>NaN</td>\n",
       "      <td>NaN</td>\n",
       "      <td>NaN</td>\n",
       "      <td>NaN</td>\n",
       "      <td>NaN</td>\n",
       "    </tr>\n",
       "    <tr>\n",
       "      <th>61</th>\n",
       "      <td>2017-09-01</td>\n",
       "      <td>2462</td>\n",
       "      <td>0.5232</td>\n",
       "      <td>0.3538</td>\n",
       "      <td>0.2864</td>\n",
       "      <td>0.2376</td>\n",
       "      <td>0.2063</td>\n",
       "      <td>0.1856</td>\n",
       "      <td>0.1564</td>\n",
       "      <td>0.1409</td>\n",
       "      <td>...</td>\n",
       "      <td>NaN</td>\n",
       "      <td>NaN</td>\n",
       "      <td>NaN</td>\n",
       "      <td>NaN</td>\n",
       "      <td>NaN</td>\n",
       "      <td>NaN</td>\n",
       "      <td>NaN</td>\n",
       "      <td>NaN</td>\n",
       "      <td>NaN</td>\n",
       "      <td>NaN</td>\n",
       "    </tr>\n",
       "    <tr>\n",
       "      <th>62</th>\n",
       "      <td>2017-10-01</td>\n",
       "      <td>1939</td>\n",
       "      <td>0.5008</td>\n",
       "      <td>0.3615</td>\n",
       "      <td>0.2940</td>\n",
       "      <td>0.2439</td>\n",
       "      <td>0.2259</td>\n",
       "      <td>0.1893</td>\n",
       "      <td>0.1753</td>\n",
       "      <td>0.1609</td>\n",
       "      <td>...</td>\n",
       "      <td>NaN</td>\n",
       "      <td>NaN</td>\n",
       "      <td>NaN</td>\n",
       "      <td>NaN</td>\n",
       "      <td>NaN</td>\n",
       "      <td>NaN</td>\n",
       "      <td>NaN</td>\n",
       "      <td>NaN</td>\n",
       "      <td>NaN</td>\n",
       "      <td>NaN</td>\n",
       "    </tr>\n",
       "    <tr>\n",
       "      <th>63</th>\n",
       "      <td>2017-11-01</td>\n",
       "      <td>1626</td>\n",
       "      <td>0.4957</td>\n",
       "      <td>0.3376</td>\n",
       "      <td>0.2626</td>\n",
       "      <td>0.2288</td>\n",
       "      <td>0.2109</td>\n",
       "      <td>0.1673</td>\n",
       "      <td>0.1624</td>\n",
       "      <td>0.1199</td>\n",
       "      <td>...</td>\n",
       "      <td>NaN</td>\n",
       "      <td>NaN</td>\n",
       "      <td>NaN</td>\n",
       "      <td>NaN</td>\n",
       "      <td>NaN</td>\n",
       "      <td>NaN</td>\n",
       "      <td>NaN</td>\n",
       "      <td>NaN</td>\n",
       "      <td>NaN</td>\n",
       "      <td>NaN</td>\n",
       "    </tr>\n",
       "    <tr>\n",
       "      <th>64</th>\n",
       "      <td>2017-12-01</td>\n",
       "      <td>2023</td>\n",
       "      <td>0.4429</td>\n",
       "      <td>0.3030</td>\n",
       "      <td>0.2526</td>\n",
       "      <td>0.2116</td>\n",
       "      <td>0.1878</td>\n",
       "      <td>0.1775</td>\n",
       "      <td>0.1527</td>\n",
       "      <td>0.1270</td>\n",
       "      <td>...</td>\n",
       "      <td>NaN</td>\n",
       "      <td>NaN</td>\n",
       "      <td>NaN</td>\n",
       "      <td>NaN</td>\n",
       "      <td>NaN</td>\n",
       "      <td>NaN</td>\n",
       "      <td>NaN</td>\n",
       "      <td>NaN</td>\n",
       "      <td>NaN</td>\n",
       "      <td>NaN</td>\n",
       "    </tr>\n",
       "    <tr>\n",
       "      <th>65</th>\n",
       "      <td>2018-01-01</td>\n",
       "      <td>2710</td>\n",
       "      <td>0.5657</td>\n",
       "      <td>0.3790</td>\n",
       "      <td>0.3100</td>\n",
       "      <td>0.2439</td>\n",
       "      <td>0.2210</td>\n",
       "      <td>0.1819</td>\n",
       "      <td>0.1554</td>\n",
       "      <td>0.1561</td>\n",
       "      <td>...</td>\n",
       "      <td>NaN</td>\n",
       "      <td>NaN</td>\n",
       "      <td>NaN</td>\n",
       "      <td>NaN</td>\n",
       "      <td>NaN</td>\n",
       "      <td>NaN</td>\n",
       "      <td>NaN</td>\n",
       "      <td>NaN</td>\n",
       "      <td>NaN</td>\n",
       "      <td>NaN</td>\n",
       "    </tr>\n",
       "    <tr>\n",
       "      <th>66</th>\n",
       "      <td>2018-02-01</td>\n",
       "      <td>2151</td>\n",
       "      <td>0.5346</td>\n",
       "      <td>0.3426</td>\n",
       "      <td>0.2794</td>\n",
       "      <td>0.2222</td>\n",
       "      <td>0.1650</td>\n",
       "      <td>0.1353</td>\n",
       "      <td>0.1441</td>\n",
       "      <td>NaN</td>\n",
       "      <td>...</td>\n",
       "      <td>NaN</td>\n",
       "      <td>NaN</td>\n",
       "      <td>NaN</td>\n",
       "      <td>NaN</td>\n",
       "      <td>NaN</td>\n",
       "      <td>NaN</td>\n",
       "      <td>NaN</td>\n",
       "      <td>NaN</td>\n",
       "      <td>NaN</td>\n",
       "      <td>NaN</td>\n",
       "    </tr>\n",
       "    <tr>\n",
       "      <th>67</th>\n",
       "      <td>2018-03-01</td>\n",
       "      <td>1901</td>\n",
       "      <td>0.5092</td>\n",
       "      <td>0.3193</td>\n",
       "      <td>0.2593</td>\n",
       "      <td>0.1904</td>\n",
       "      <td>0.1557</td>\n",
       "      <td>0.1462</td>\n",
       "      <td>NaN</td>\n",
       "      <td>NaN</td>\n",
       "      <td>...</td>\n",
       "      <td>NaN</td>\n",
       "      <td>NaN</td>\n",
       "      <td>NaN</td>\n",
       "      <td>NaN</td>\n",
       "      <td>NaN</td>\n",
       "      <td>NaN</td>\n",
       "      <td>NaN</td>\n",
       "      <td>NaN</td>\n",
       "      <td>NaN</td>\n",
       "      <td>NaN</td>\n",
       "    </tr>\n",
       "    <tr>\n",
       "      <th>68</th>\n",
       "      <td>2018-04-01</td>\n",
       "      <td>1639</td>\n",
       "      <td>0.5381</td>\n",
       "      <td>0.3606</td>\n",
       "      <td>0.2648</td>\n",
       "      <td>0.2062</td>\n",
       "      <td>0.1782</td>\n",
       "      <td>NaN</td>\n",
       "      <td>NaN</td>\n",
       "      <td>NaN</td>\n",
       "      <td>...</td>\n",
       "      <td>NaN</td>\n",
       "      <td>NaN</td>\n",
       "      <td>NaN</td>\n",
       "      <td>NaN</td>\n",
       "      <td>NaN</td>\n",
       "      <td>NaN</td>\n",
       "      <td>NaN</td>\n",
       "      <td>NaN</td>\n",
       "      <td>NaN</td>\n",
       "      <td>NaN</td>\n",
       "    </tr>\n",
       "    <tr>\n",
       "      <th>69</th>\n",
       "      <td>2018-05-01</td>\n",
       "      <td>1553</td>\n",
       "      <td>0.5370</td>\n",
       "      <td>0.3271</td>\n",
       "      <td>0.2428</td>\n",
       "      <td>0.2118</td>\n",
       "      <td>NaN</td>\n",
       "      <td>NaN</td>\n",
       "      <td>NaN</td>\n",
       "      <td>NaN</td>\n",
       "      <td>...</td>\n",
       "      <td>NaN</td>\n",
       "      <td>NaN</td>\n",
       "      <td>NaN</td>\n",
       "      <td>NaN</td>\n",
       "      <td>NaN</td>\n",
       "      <td>NaN</td>\n",
       "      <td>NaN</td>\n",
       "      <td>NaN</td>\n",
       "      <td>NaN</td>\n",
       "      <td>NaN</td>\n",
       "    </tr>\n",
       "    <tr>\n",
       "      <th>70</th>\n",
       "      <td>2018-06-01</td>\n",
       "      <td>1552</td>\n",
       "      <td>0.4968</td>\n",
       "      <td>0.2996</td>\n",
       "      <td>0.2281</td>\n",
       "      <td>NaN</td>\n",
       "      <td>NaN</td>\n",
       "      <td>NaN</td>\n",
       "      <td>NaN</td>\n",
       "      <td>NaN</td>\n",
       "      <td>...</td>\n",
       "      <td>NaN</td>\n",
       "      <td>NaN</td>\n",
       "      <td>NaN</td>\n",
       "      <td>NaN</td>\n",
       "      <td>NaN</td>\n",
       "      <td>NaN</td>\n",
       "      <td>NaN</td>\n",
       "      <td>NaN</td>\n",
       "      <td>NaN</td>\n",
       "      <td>NaN</td>\n",
       "    </tr>\n",
       "    <tr>\n",
       "      <th>71</th>\n",
       "      <td>2018-07-01</td>\n",
       "      <td>1441</td>\n",
       "      <td>0.4990</td>\n",
       "      <td>0.3276</td>\n",
       "      <td>NaN</td>\n",
       "      <td>NaN</td>\n",
       "      <td>NaN</td>\n",
       "      <td>NaN</td>\n",
       "      <td>NaN</td>\n",
       "      <td>NaN</td>\n",
       "      <td>...</td>\n",
       "      <td>NaN</td>\n",
       "      <td>NaN</td>\n",
       "      <td>NaN</td>\n",
       "      <td>NaN</td>\n",
       "      <td>NaN</td>\n",
       "      <td>NaN</td>\n",
       "      <td>NaN</td>\n",
       "      <td>NaN</td>\n",
       "      <td>NaN</td>\n",
       "      <td>NaN</td>\n",
       "    </tr>\n",
       "    <tr>\n",
       "      <th>72</th>\n",
       "      <td>2018-08-01</td>\n",
       "      <td>1384</td>\n",
       "      <td>0.5658</td>\n",
       "      <td>NaN</td>\n",
       "      <td>NaN</td>\n",
       "      <td>NaN</td>\n",
       "      <td>NaN</td>\n",
       "      <td>NaN</td>\n",
       "      <td>NaN</td>\n",
       "      <td>NaN</td>\n",
       "      <td>...</td>\n",
       "      <td>NaN</td>\n",
       "      <td>NaN</td>\n",
       "      <td>NaN</td>\n",
       "      <td>NaN</td>\n",
       "      <td>NaN</td>\n",
       "      <td>NaN</td>\n",
       "      <td>NaN</td>\n",
       "      <td>NaN</td>\n",
       "      <td>NaN</td>\n",
       "      <td>NaN</td>\n",
       "    </tr>\n",
       "    <tr>\n",
       "      <th>73</th>\n",
       "      <td>2018-09-01</td>\n",
       "      <td>1622</td>\n",
       "      <td>NaN</td>\n",
       "      <td>NaN</td>\n",
       "      <td>NaN</td>\n",
       "      <td>NaN</td>\n",
       "      <td>NaN</td>\n",
       "      <td>NaN</td>\n",
       "      <td>NaN</td>\n",
       "      <td>NaN</td>\n",
       "      <td>...</td>\n",
       "      <td>NaN</td>\n",
       "      <td>NaN</td>\n",
       "      <td>NaN</td>\n",
       "      <td>NaN</td>\n",
       "      <td>NaN</td>\n",
       "      <td>NaN</td>\n",
       "      <td>NaN</td>\n",
       "      <td>NaN</td>\n",
       "      <td>NaN</td>\n",
       "      <td>NaN</td>\n",
       "    </tr>\n",
       "  </tbody>\n",
       "</table>\n",
       "<p>74 rows × 75 columns</p>\n",
       "</div>"
      ],
      "text/plain": [
       "   Cohort month  Cohort size       1       2       3       4       5       6  \\\n",
       "0    2012-08-01            1  1.0000  1.0000  1.0000  1.0000  1.0000  1.0000   \n",
       "1    2012-09-01            3  1.0000  1.0000  0.3333  0.6667  0.3333  0.3333   \n",
       "2    2012-10-01            9  0.7778  0.7778  0.7778  0.7778  0.6667  0.5556   \n",
       "3    2012-11-01            8  0.8750  0.7500  0.5000  0.5000  0.3750  0.3750   \n",
       "4    2012-12-01            8  0.6250  0.6250  0.6250  0.2500  0.2500  0.1250   \n",
       "5    2013-01-01           25  0.7200  0.7200  0.6000  0.5600  0.4400  0.4400   \n",
       "6    2013-02-01           39  0.8205  0.7436  0.4872  0.4615  0.3846  0.3846   \n",
       "7    2013-03-01           82  0.7195  0.6098  0.4756  0.4268  0.4024  0.4756   \n",
       "8    2013-04-01           88  0.6818  0.6250  0.5000  0.4432  0.5341  0.3977   \n",
       "9    2013-05-01           62  0.5968  0.4677  0.4677  0.4194  0.3226  0.4032   \n",
       "10   2013-06-01           72  0.6111  0.4444  0.5417  0.3889  0.3333  0.2639   \n",
       "11   2013-07-01          116  0.6638  0.5948  0.5345  0.4397  0.3534  0.3879   \n",
       "12   2013-08-01          152  0.7500  0.6053  0.5132  0.4079  0.4342  0.3618   \n",
       "13   2013-09-01          281  0.7189  0.5943  0.4448  0.4698  0.3701  0.3310   \n",
       "14   2013-10-01          261  0.7050  0.5134  0.5134  0.4368  0.4023  0.3218   \n",
       "15   2013-11-01          253  0.6166  0.5099  0.4269  0.4032  0.3636  0.3478   \n",
       "16   2013-12-01          306  0.4477  0.3497  0.3399  0.2647  0.2582  0.2092   \n",
       "17   2014-01-01          508  0.5866  0.5315  0.4213  0.3780  0.3346  0.2638   \n",
       "18   2014-02-01          484  0.6715  0.5310  0.4607  0.3595  0.3161  0.3058   \n",
       "19   2014-03-01          649  0.6425  0.5208  0.4176  0.3390  0.2835  0.2357   \n",
       "20   2014-04-01          650  0.6354  0.4338  0.3446  0.2938  0.2492  0.2415   \n",
       "21   2014-05-01          767  0.5724  0.3937  0.3625  0.3090  0.2816  0.2712   \n",
       "22   2014-06-01          461  0.4946  0.4490  0.3297  0.2993  0.2690  0.2603   \n",
       "23   2014-07-01          526  0.6065  0.4354  0.3688  0.3327  0.2738  0.2890   \n",
       "24   2014-08-01          773  0.6028  0.5265  0.4334  0.3855  0.4010  0.3169   \n",
       "25   2014-09-01          738  0.6179  0.5054  0.4255  0.3902  0.3442  0.2778   \n",
       "26   2014-10-01          669  0.6502  0.4858  0.4604  0.4036  0.3244  0.3004   \n",
       "27   2014-11-01          735  0.5973  0.5306  0.4313  0.3524  0.3374  0.3265   \n",
       "28   2014-12-01          965  0.4259  0.3762  0.3181  0.2933  0.2674  0.2280   \n",
       "29   2015-01-01         1606  0.6905  0.5342  0.4552  0.4029  0.3356  0.2939   \n",
       "..          ...          ...     ...     ...     ...     ...     ...     ...   \n",
       "44   2016-04-01         4222  0.6085  0.4581  0.3830  0.3018  0.2712  0.2181   \n",
       "45   2016-05-01         3808  0.5903  0.4383  0.3322  0.2902  0.2235  0.2017   \n",
       "46   2016-06-01         3639  0.6161  0.4361  0.3410  0.2608  0.2262  0.2091   \n",
       "47   2016-07-01         4136  0.5498  0.4016  0.2950  0.2495  0.2290  0.1973   \n",
       "48   2016-08-01         4582  0.5421  0.3706  0.3095  0.2654  0.2268  0.1910   \n",
       "49   2016-09-01         5803  0.5533  0.4063  0.3355  0.2857  0.2449  0.2209   \n",
       "50   2016-10-01         4514  0.5735  0.4267  0.3449  0.2831  0.2479  0.2164   \n",
       "51   2016-11-01         3042  0.5378  0.3968  0.3126  0.2676  0.2193  0.2035   \n",
       "52   2016-12-01         3573  0.4165  0.2950  0.2499  0.2102  0.1875  0.1598   \n",
       "53   2017-01-01         5181  0.5667  0.4063  0.3233  0.2660  0.2357  0.2023   \n",
       "54   2017-02-01         4890  0.5787  0.3998  0.3151  0.2646  0.2339  0.1863   \n",
       "55   2017-03-01         4578  0.5343  0.3917  0.3060  0.2674  0.2211  0.2010   \n",
       "56   2017-04-01         3472  0.5274  0.3744  0.2961  0.2287  0.2160  0.1838   \n",
       "57   2017-05-01         3244  0.5225  0.3776  0.2756  0.2334  0.1998  0.1625   \n",
       "58   2017-06-01         2468  0.5012  0.3327  0.2694  0.2281  0.1896  0.1710   \n",
       "59   2017-07-01         2712  0.5240  0.3809  0.2913  0.2290  0.1951  0.1803   \n",
       "60   2017-08-01         2715  0.5713  0.3871  0.3024  0.2494  0.2298  0.2004   \n",
       "61   2017-09-01         2462  0.5232  0.3538  0.2864  0.2376  0.2063  0.1856   \n",
       "62   2017-10-01         1939  0.5008  0.3615  0.2940  0.2439  0.2259  0.1893   \n",
       "63   2017-11-01         1626  0.4957  0.3376  0.2626  0.2288  0.2109  0.1673   \n",
       "64   2017-12-01         2023  0.4429  0.3030  0.2526  0.2116  0.1878  0.1775   \n",
       "65   2018-01-01         2710  0.5657  0.3790  0.3100  0.2439  0.2210  0.1819   \n",
       "66   2018-02-01         2151  0.5346  0.3426  0.2794  0.2222  0.1650  0.1353   \n",
       "67   2018-03-01         1901  0.5092  0.3193  0.2593  0.1904  0.1557  0.1462   \n",
       "68   2018-04-01         1639  0.5381  0.3606  0.2648  0.2062  0.1782     NaN   \n",
       "69   2018-05-01         1553  0.5370  0.3271  0.2428  0.2118     NaN     NaN   \n",
       "70   2018-06-01         1552  0.4968  0.2996  0.2281     NaN     NaN     NaN   \n",
       "71   2018-07-01         1441  0.4990  0.3276     NaN     NaN     NaN     NaN   \n",
       "72   2018-08-01         1384  0.5658     NaN     NaN     NaN     NaN     NaN   \n",
       "73   2018-09-01         1622     NaN     NaN     NaN     NaN     NaN     NaN   \n",
       "\n",
       "         7       8 ...       64      65      66      67      68      69  \\\n",
       "0   0.0000  0.0000 ...   0.0000  0.0000  0.0000  0.0000  0.0000  0.0000   \n",
       "1   0.3333  0.3333 ...   0.0000  0.0000  0.0000  0.0000  0.0000  0.0000   \n",
       "2   0.6667  0.5556 ...   0.2222  0.2222  0.2222  0.1111  0.2222  0.1111   \n",
       "3   0.2500  0.2500 ...   0.0000  0.0000  0.0000  0.1250  0.0000  0.0000   \n",
       "4   0.3750  0.0000 ...   0.0000  0.0000  0.0000  0.0000  0.0000  0.0000   \n",
       "5   0.2800  0.3600 ...   0.0800  0.0800  0.0800  0.1200  0.1600     NaN   \n",
       "6   0.3590  0.2821 ...   0.1282  0.1282  0.1026  0.1026     NaN     NaN   \n",
       "7   0.3415  0.3049 ...   0.0610  0.0610  0.0610     NaN     NaN     NaN   \n",
       "8   0.3636  0.2955 ...   0.1591  0.1250     NaN     NaN     NaN     NaN   \n",
       "9   0.3710  0.3548 ...   0.0484     NaN     NaN     NaN     NaN     NaN   \n",
       "10  0.3194  0.3056 ...      NaN     NaN     NaN     NaN     NaN     NaN   \n",
       "11  0.3448  0.3362 ...      NaN     NaN     NaN     NaN     NaN     NaN   \n",
       "12  0.3355  0.3289 ...      NaN     NaN     NaN     NaN     NaN     NaN   \n",
       "13  0.2847  0.2847 ...      NaN     NaN     NaN     NaN     NaN     NaN   \n",
       "14  0.3295  0.2644 ...      NaN     NaN     NaN     NaN     NaN     NaN   \n",
       "15  0.2964  0.2332 ...      NaN     NaN     NaN     NaN     NaN     NaN   \n",
       "16  0.1961  0.1438 ...      NaN     NaN     NaN     NaN     NaN     NaN   \n",
       "17  0.2362  0.2106 ...      NaN     NaN     NaN     NaN     NaN     NaN   \n",
       "18  0.2438  0.2355 ...      NaN     NaN     NaN     NaN     NaN     NaN   \n",
       "19  0.2435  0.2080 ...      NaN     NaN     NaN     NaN     NaN     NaN   \n",
       "20  0.2354  0.1846 ...      NaN     NaN     NaN     NaN     NaN     NaN   \n",
       "21  0.2373  0.2503 ...      NaN     NaN     NaN     NaN     NaN     NaN   \n",
       "22  0.2668  0.2386 ...      NaN     NaN     NaN     NaN     NaN     NaN   \n",
       "23  0.2662  0.2300 ...      NaN     NaN     NaN     NaN     NaN     NaN   \n",
       "24  0.2820  0.2600 ...      NaN     NaN     NaN     NaN     NaN     NaN   \n",
       "25  0.2588  0.2507 ...      NaN     NaN     NaN     NaN     NaN     NaN   \n",
       "26  0.3079  0.2436 ...      NaN     NaN     NaN     NaN     NaN     NaN   \n",
       "27  0.2844  0.2367 ...      NaN     NaN     NaN     NaN     NaN     NaN   \n",
       "28  0.2031  0.1876 ...      NaN     NaN     NaN     NaN     NaN     NaN   \n",
       "29  0.2497  0.2335 ...      NaN     NaN     NaN     NaN     NaN     NaN   \n",
       "..     ...     ... ...      ...     ...     ...     ...     ...     ...   \n",
       "44  0.1919  0.1824 ...      NaN     NaN     NaN     NaN     NaN     NaN   \n",
       "45  0.1783  0.1694 ...      NaN     NaN     NaN     NaN     NaN     NaN   \n",
       "46  0.1808  0.1599 ...      NaN     NaN     NaN     NaN     NaN     NaN   \n",
       "47  0.1719  0.1666 ...      NaN     NaN     NaN     NaN     NaN     NaN   \n",
       "48  0.1787  0.1574 ...      NaN     NaN     NaN     NaN     NaN     NaN   \n",
       "49  0.1901  0.1730 ...      NaN     NaN     NaN     NaN     NaN     NaN   \n",
       "50  0.1865  0.1704 ...      NaN     NaN     NaN     NaN     NaN     NaN   \n",
       "51  0.1680  0.1680 ...      NaN     NaN     NaN     NaN     NaN     NaN   \n",
       "52  0.1528  0.1341 ...      NaN     NaN     NaN     NaN     NaN     NaN   \n",
       "53  0.1712  0.1616 ...      NaN     NaN     NaN     NaN     NaN     NaN   \n",
       "54  0.1779  0.1585 ...      NaN     NaN     NaN     NaN     NaN     NaN   \n",
       "55  0.1752  0.1522 ...      NaN     NaN     NaN     NaN     NaN     NaN   \n",
       "56  0.1668  0.1495 ...      NaN     NaN     NaN     NaN     NaN     NaN   \n",
       "57  0.1547  0.1424 ...      NaN     NaN     NaN     NaN     NaN     NaN   \n",
       "58  0.1556  0.1438 ...      NaN     NaN     NaN     NaN     NaN     NaN   \n",
       "59  0.1608  0.1515 ...      NaN     NaN     NaN     NaN     NaN     NaN   \n",
       "60  0.1867  0.1742 ...      NaN     NaN     NaN     NaN     NaN     NaN   \n",
       "61  0.1564  0.1409 ...      NaN     NaN     NaN     NaN     NaN     NaN   \n",
       "62  0.1753  0.1609 ...      NaN     NaN     NaN     NaN     NaN     NaN   \n",
       "63  0.1624  0.1199 ...      NaN     NaN     NaN     NaN     NaN     NaN   \n",
       "64  0.1527  0.1270 ...      NaN     NaN     NaN     NaN     NaN     NaN   \n",
       "65  0.1554  0.1561 ...      NaN     NaN     NaN     NaN     NaN     NaN   \n",
       "66  0.1441     NaN ...      NaN     NaN     NaN     NaN     NaN     NaN   \n",
       "67     NaN     NaN ...      NaN     NaN     NaN     NaN     NaN     NaN   \n",
       "68     NaN     NaN ...      NaN     NaN     NaN     NaN     NaN     NaN   \n",
       "69     NaN     NaN ...      NaN     NaN     NaN     NaN     NaN     NaN   \n",
       "70     NaN     NaN ...      NaN     NaN     NaN     NaN     NaN     NaN   \n",
       "71     NaN     NaN ...      NaN     NaN     NaN     NaN     NaN     NaN   \n",
       "72     NaN     NaN ...      NaN     NaN     NaN     NaN     NaN     NaN   \n",
       "73     NaN     NaN ...      NaN     NaN     NaN     NaN     NaN     NaN   \n",
       "\n",
       "        70      71   72   73  \n",
       "0   0.0000  0.0000  0.0  0.0  \n",
       "1   0.0000  0.0000  0.0  NaN  \n",
       "2   0.3333  0.3333  NaN  NaN  \n",
       "3   0.0000     NaN  NaN  NaN  \n",
       "4      NaN     NaN  NaN  NaN  \n",
       "5      NaN     NaN  NaN  NaN  \n",
       "6      NaN     NaN  NaN  NaN  \n",
       "7      NaN     NaN  NaN  NaN  \n",
       "8      NaN     NaN  NaN  NaN  \n",
       "9      NaN     NaN  NaN  NaN  \n",
       "10     NaN     NaN  NaN  NaN  \n",
       "11     NaN     NaN  NaN  NaN  \n",
       "12     NaN     NaN  NaN  NaN  \n",
       "13     NaN     NaN  NaN  NaN  \n",
       "14     NaN     NaN  NaN  NaN  \n",
       "15     NaN     NaN  NaN  NaN  \n",
       "16     NaN     NaN  NaN  NaN  \n",
       "17     NaN     NaN  NaN  NaN  \n",
       "18     NaN     NaN  NaN  NaN  \n",
       "19     NaN     NaN  NaN  NaN  \n",
       "20     NaN     NaN  NaN  NaN  \n",
       "21     NaN     NaN  NaN  NaN  \n",
       "22     NaN     NaN  NaN  NaN  \n",
       "23     NaN     NaN  NaN  NaN  \n",
       "24     NaN     NaN  NaN  NaN  \n",
       "25     NaN     NaN  NaN  NaN  \n",
       "26     NaN     NaN  NaN  NaN  \n",
       "27     NaN     NaN  NaN  NaN  \n",
       "28     NaN     NaN  NaN  NaN  \n",
       "29     NaN     NaN  NaN  NaN  \n",
       "..     ...     ...  ...  ...  \n",
       "44     NaN     NaN  NaN  NaN  \n",
       "45     NaN     NaN  NaN  NaN  \n",
       "46     NaN     NaN  NaN  NaN  \n",
       "47     NaN     NaN  NaN  NaN  \n",
       "48     NaN     NaN  NaN  NaN  \n",
       "49     NaN     NaN  NaN  NaN  \n",
       "50     NaN     NaN  NaN  NaN  \n",
       "51     NaN     NaN  NaN  NaN  \n",
       "52     NaN     NaN  NaN  NaN  \n",
       "53     NaN     NaN  NaN  NaN  \n",
       "54     NaN     NaN  NaN  NaN  \n",
       "55     NaN     NaN  NaN  NaN  \n",
       "56     NaN     NaN  NaN  NaN  \n",
       "57     NaN     NaN  NaN  NaN  \n",
       "58     NaN     NaN  NaN  NaN  \n",
       "59     NaN     NaN  NaN  NaN  \n",
       "60     NaN     NaN  NaN  NaN  \n",
       "61     NaN     NaN  NaN  NaN  \n",
       "62     NaN     NaN  NaN  NaN  \n",
       "63     NaN     NaN  NaN  NaN  \n",
       "64     NaN     NaN  NaN  NaN  \n",
       "65     NaN     NaN  NaN  NaN  \n",
       "66     NaN     NaN  NaN  NaN  \n",
       "67     NaN     NaN  NaN  NaN  \n",
       "68     NaN     NaN  NaN  NaN  \n",
       "69     NaN     NaN  NaN  NaN  \n",
       "70     NaN     NaN  NaN  NaN  \n",
       "71     NaN     NaN  NaN  NaN  \n",
       "72     NaN     NaN  NaN  NaN  \n",
       "73     NaN     NaN  NaN  NaN  \n",
       "\n",
       "[74 rows x 75 columns]"
      ]
     },
     "execution_count": 3,
     "metadata": {},
     "output_type": "execute_result"
    }
   ],
   "source": [
    "company_dfs['Blue Apron']"
   ]
  },
  {
   "cell_type": "code",
   "execution_count": 4,
   "metadata": {
    "ExecuteTime": {
     "end_time": "2019-05-31T23:42:17.841648Z",
     "start_time": "2019-05-31T23:42:17.831146Z"
    }
   },
   "outputs": [],
   "source": [
    "# Convert strings to datetime\n",
    "for company in company_names:\n",
    "    company_dfs[company]['Cohort month'] = pd.to_datetime(company_dfs[company]['Cohort month'])"
   ]
  },
  {
   "cell_type": "code",
   "execution_count": 5,
   "metadata": {
    "ExecuteTime": {
     "end_time": "2019-05-31T23:42:17.885719Z",
     "start_time": "2019-05-31T23:42:17.843648Z"
    }
   },
   "outputs": [],
   "source": [
    "# Calculate cohort retention rate for later use\n",
    "for company in company_names:\n",
    "    cohort_return_array = np.array(company_dfs[company].iloc[:, 2:].multiply(company_dfs[company]['Cohort size'], axis = 0))\n",
    "    # Fill in nan with 0 and flip diagonals\n",
    "    cohort_return_array = np.fliplr(np.nan_to_num(cohort_return_array))\n",
    "    company_dfs[company]['Repeat_customers'] = [np.nan] + \\\n",
    "                                               [np.trace(cohort_return_array, offset = i) for i in range(len(cohort_return_array) - 2, -1, -1)]\n",
    "    company_dfs[company]['Retention_rate'] = company_dfs[company]['Repeat_customers'] / \\\n",
    "                                            (company_dfs[company]['Repeat_customers'].shift(1).fillna(0) + \\\n",
    "                                             company_dfs[company]['Cohort size'].shift(1))"
   ]
  },
  {
   "cell_type": "code",
   "execution_count": 6,
   "metadata": {
    "ExecuteTime": {
     "end_time": "2019-05-31T23:42:17.908146Z",
     "start_time": "2019-05-31T23:42:17.887688Z"
    }
   },
   "outputs": [
    {
     "data": {
      "text/html": [
       "<div>\n",
       "<style scoped>\n",
       "    .dataframe tbody tr th:only-of-type {\n",
       "        vertical-align: middle;\n",
       "    }\n",
       "\n",
       "    .dataframe tbody tr th {\n",
       "        vertical-align: top;\n",
       "    }\n",
       "\n",
       "    .dataframe thead th {\n",
       "        text-align: right;\n",
       "    }\n",
       "</style>\n",
       "<table border=\"1\" class=\"dataframe\">\n",
       "  <thead>\n",
       "    <tr style=\"text-align: right;\">\n",
       "      <th></th>\n",
       "      <th>Cohort month</th>\n",
       "      <th>Cohort size</th>\n",
       "      <th>1</th>\n",
       "      <th>2</th>\n",
       "      <th>3</th>\n",
       "      <th>4</th>\n",
       "      <th>5</th>\n",
       "      <th>6</th>\n",
       "      <th>7</th>\n",
       "      <th>8</th>\n",
       "      <th>...</th>\n",
       "      <th>66</th>\n",
       "      <th>67</th>\n",
       "      <th>68</th>\n",
       "      <th>69</th>\n",
       "      <th>70</th>\n",
       "      <th>71</th>\n",
       "      <th>72</th>\n",
       "      <th>73</th>\n",
       "      <th>Repeat_customers</th>\n",
       "      <th>Retention_rate</th>\n",
       "    </tr>\n",
       "  </thead>\n",
       "  <tbody>\n",
       "    <tr>\n",
       "      <th>0</th>\n",
       "      <td>2012-08-01</td>\n",
       "      <td>1</td>\n",
       "      <td>1.0000</td>\n",
       "      <td>1.0000</td>\n",
       "      <td>1.0000</td>\n",
       "      <td>1.0000</td>\n",
       "      <td>1.0000</td>\n",
       "      <td>1.0000</td>\n",
       "      <td>0.0000</td>\n",
       "      <td>0.0000</td>\n",
       "      <td>...</td>\n",
       "      <td>0.0000</td>\n",
       "      <td>0.0000</td>\n",
       "      <td>0.0000</td>\n",
       "      <td>0.0000</td>\n",
       "      <td>0.0000</td>\n",
       "      <td>0.0000</td>\n",
       "      <td>0.0</td>\n",
       "      <td>0.0</td>\n",
       "      <td>NaN</td>\n",
       "      <td>NaN</td>\n",
       "    </tr>\n",
       "    <tr>\n",
       "      <th>1</th>\n",
       "      <td>2012-09-01</td>\n",
       "      <td>3</td>\n",
       "      <td>1.0000</td>\n",
       "      <td>1.0000</td>\n",
       "      <td>0.3333</td>\n",
       "      <td>0.6667</td>\n",
       "      <td>0.3333</td>\n",
       "      <td>0.3333</td>\n",
       "      <td>0.3333</td>\n",
       "      <td>0.3333</td>\n",
       "      <td>...</td>\n",
       "      <td>0.0000</td>\n",
       "      <td>0.0000</td>\n",
       "      <td>0.0000</td>\n",
       "      <td>0.0000</td>\n",
       "      <td>0.0000</td>\n",
       "      <td>0.0000</td>\n",
       "      <td>0.0</td>\n",
       "      <td>NaN</td>\n",
       "      <td>1.0000</td>\n",
       "      <td>1.000000</td>\n",
       "    </tr>\n",
       "    <tr>\n",
       "      <th>2</th>\n",
       "      <td>2012-10-01</td>\n",
       "      <td>9</td>\n",
       "      <td>0.7778</td>\n",
       "      <td>0.7778</td>\n",
       "      <td>0.7778</td>\n",
       "      <td>0.7778</td>\n",
       "      <td>0.6667</td>\n",
       "      <td>0.5556</td>\n",
       "      <td>0.6667</td>\n",
       "      <td>0.5556</td>\n",
       "      <td>...</td>\n",
       "      <td>0.2222</td>\n",
       "      <td>0.1111</td>\n",
       "      <td>0.2222</td>\n",
       "      <td>0.1111</td>\n",
       "      <td>0.3333</td>\n",
       "      <td>0.3333</td>\n",
       "      <td>NaN</td>\n",
       "      <td>NaN</td>\n",
       "      <td>4.0000</td>\n",
       "      <td>1.000000</td>\n",
       "    </tr>\n",
       "    <tr>\n",
       "      <th>3</th>\n",
       "      <td>2012-11-01</td>\n",
       "      <td>8</td>\n",
       "      <td>0.8750</td>\n",
       "      <td>0.7500</td>\n",
       "      <td>0.5000</td>\n",
       "      <td>0.5000</td>\n",
       "      <td>0.3750</td>\n",
       "      <td>0.3750</td>\n",
       "      <td>0.2500</td>\n",
       "      <td>0.2500</td>\n",
       "      <td>...</td>\n",
       "      <td>0.0000</td>\n",
       "      <td>0.1250</td>\n",
       "      <td>0.0000</td>\n",
       "      <td>0.0000</td>\n",
       "      <td>0.0000</td>\n",
       "      <td>NaN</td>\n",
       "      <td>NaN</td>\n",
       "      <td>NaN</td>\n",
       "      <td>11.0002</td>\n",
       "      <td>0.846169</td>\n",
       "    </tr>\n",
       "    <tr>\n",
       "      <th>4</th>\n",
       "      <td>2012-12-01</td>\n",
       "      <td>8</td>\n",
       "      <td>0.6250</td>\n",
       "      <td>0.6250</td>\n",
       "      <td>0.6250</td>\n",
       "      <td>0.2500</td>\n",
       "      <td>0.2500</td>\n",
       "      <td>0.1250</td>\n",
       "      <td>0.3750</td>\n",
       "      <td>0.0000</td>\n",
       "      <td>...</td>\n",
       "      <td>0.0000</td>\n",
       "      <td>0.0000</td>\n",
       "      <td>0.0000</td>\n",
       "      <td>0.0000</td>\n",
       "      <td>NaN</td>\n",
       "      <td>NaN</td>\n",
       "      <td>NaN</td>\n",
       "      <td>NaN</td>\n",
       "      <td>16.0001</td>\n",
       "      <td>0.842102</td>\n",
       "    </tr>\n",
       "  </tbody>\n",
       "</table>\n",
       "<p>5 rows × 77 columns</p>\n",
       "</div>"
      ],
      "text/plain": [
       "  Cohort month  Cohort size       1       2       3       4       5       6  \\\n",
       "0   2012-08-01            1  1.0000  1.0000  1.0000  1.0000  1.0000  1.0000   \n",
       "1   2012-09-01            3  1.0000  1.0000  0.3333  0.6667  0.3333  0.3333   \n",
       "2   2012-10-01            9  0.7778  0.7778  0.7778  0.7778  0.6667  0.5556   \n",
       "3   2012-11-01            8  0.8750  0.7500  0.5000  0.5000  0.3750  0.3750   \n",
       "4   2012-12-01            8  0.6250  0.6250  0.6250  0.2500  0.2500  0.1250   \n",
       "\n",
       "        7       8       ...            66      67      68      69      70  \\\n",
       "0  0.0000  0.0000       ...        0.0000  0.0000  0.0000  0.0000  0.0000   \n",
       "1  0.3333  0.3333       ...        0.0000  0.0000  0.0000  0.0000  0.0000   \n",
       "2  0.6667  0.5556       ...        0.2222  0.1111  0.2222  0.1111  0.3333   \n",
       "3  0.2500  0.2500       ...        0.0000  0.1250  0.0000  0.0000  0.0000   \n",
       "4  0.3750  0.0000       ...        0.0000  0.0000  0.0000  0.0000     NaN   \n",
       "\n",
       "       71   72   73  Repeat_customers  Retention_rate  \n",
       "0  0.0000  0.0  0.0               NaN             NaN  \n",
       "1  0.0000  0.0  NaN            1.0000        1.000000  \n",
       "2  0.3333  NaN  NaN            4.0000        1.000000  \n",
       "3     NaN  NaN  NaN           11.0002        0.846169  \n",
       "4     NaN  NaN  NaN           16.0001        0.842102  \n",
       "\n",
       "[5 rows x 77 columns]"
      ]
     },
     "execution_count": 6,
     "metadata": {},
     "output_type": "execute_result"
    }
   ],
   "source": [
    "company_dfs['Blue Apron'].head()"
   ]
  },
  {
   "cell_type": "code",
   "execution_count": 7,
   "metadata": {
    "ExecuteTime": {
     "end_time": "2019-05-31T23:42:18.281146Z",
     "start_time": "2019-05-31T23:42:17.909646Z"
    }
   },
   "outputs": [
    {
     "name": "stdout",
     "output_type": "stream",
     "text": [
      "(837, 5)\n"
     ]
    },
    {
     "data": {
      "text/html": [
       "<div>\n",
       "<style scoped>\n",
       "    .dataframe tbody tr th:only-of-type {\n",
       "        vertical-align: middle;\n",
       "    }\n",
       "\n",
       "    .dataframe tbody tr th {\n",
       "        vertical-align: top;\n",
       "    }\n",
       "\n",
       "    .dataframe thead th {\n",
       "        text-align: right;\n",
       "    }\n",
       "</style>\n",
       "<table border=\"1\" class=\"dataframe\">\n",
       "  <thead>\n",
       "    <tr style=\"text-align: right;\">\n",
       "      <th></th>\n",
       "      <th>Company</th>\n",
       "      <th>Month</th>\n",
       "      <th>Sales</th>\n",
       "      <th>Customers</th>\n",
       "      <th>Transactions</th>\n",
       "    </tr>\n",
       "  </thead>\n",
       "  <tbody>\n",
       "    <tr>\n",
       "      <th>0</th>\n",
       "      <td>Blue Apron</td>\n",
       "      <td>2011-01-01</td>\n",
       "      <td>0</td>\n",
       "      <td>0</td>\n",
       "      <td>0</td>\n",
       "    </tr>\n",
       "    <tr>\n",
       "      <th>1</th>\n",
       "      <td>Blue Apron</td>\n",
       "      <td>2011-02-01</td>\n",
       "      <td>0</td>\n",
       "      <td>0</td>\n",
       "      <td>0</td>\n",
       "    </tr>\n",
       "    <tr>\n",
       "      <th>2</th>\n",
       "      <td>Blue Apron</td>\n",
       "      <td>2011-03-01</td>\n",
       "      <td>0</td>\n",
       "      <td>0</td>\n",
       "      <td>0</td>\n",
       "    </tr>\n",
       "    <tr>\n",
       "      <th>3</th>\n",
       "      <td>Blue Apron</td>\n",
       "      <td>2011-04-01</td>\n",
       "      <td>0</td>\n",
       "      <td>0</td>\n",
       "      <td>0</td>\n",
       "    </tr>\n",
       "    <tr>\n",
       "      <th>4</th>\n",
       "      <td>Blue Apron</td>\n",
       "      <td>2011-05-01</td>\n",
       "      <td>0</td>\n",
       "      <td>0</td>\n",
       "      <td>0</td>\n",
       "    </tr>\n",
       "  </tbody>\n",
       "</table>\n",
       "</div>"
      ],
      "text/plain": [
       "      Company      Month  Sales  Customers  Transactions\n",
       "0  Blue Apron 2011-01-01      0          0             0\n",
       "1  Blue Apron 2011-02-01      0          0             0\n",
       "2  Blue Apron 2011-03-01      0          0             0\n",
       "3  Blue Apron 2011-04-01      0          0             0\n",
       "4  Blue Apron 2011-05-01      0          0             0"
      ]
     },
     "execution_count": 7,
     "metadata": {},
     "output_type": "execute_result"
    }
   ],
   "source": [
    "# Read in company sales data\n",
    "sales_df = pd.read_excel('../data/Commerce analysis - full sales data.xlsx', sheet_name = 'Sales')\n",
    "print(sales_df.shape)\n",
    "sales_df.head()"
   ]
  },
  {
   "cell_type": "code",
   "execution_count": 8,
   "metadata": {
    "ExecuteTime": {
     "end_time": "2019-05-31T23:42:18.287152Z",
     "start_time": "2019-05-31T23:42:18.283151Z"
    }
   },
   "outputs": [],
   "source": [
    "sales_df.Month = pd.to_datetime(sales_df.Month)"
   ]
  },
  {
   "cell_type": "code",
   "execution_count": 9,
   "metadata": {
    "ExecuteTime": {
     "end_time": "2019-05-31T23:42:18.303687Z",
     "start_time": "2019-05-31T23:42:18.289187Z"
    }
   },
   "outputs": [],
   "source": [
    "# We could get these dates of first sales from the cohort tabs, but will approach this in a generalizable way\n",
    "first_sales_dates = {}\n",
    "for company in sales_df.Company.unique():\n",
    "    first_sales_dates[company] = sales_df.Month[np.where((sales_df.Sales > 0) & (sales_df.Company == company))[0][0]]"
   ]
  },
  {
   "cell_type": "code",
   "execution_count": 10,
   "metadata": {
    "ExecuteTime": {
     "end_time": "2019-05-31T23:42:18.324685Z",
     "start_time": "2019-05-31T23:42:18.305146Z"
    }
   },
   "outputs": [
    {
     "name": "stdout",
     "output_type": "stream",
     "text": [
      "(691, 6)\n"
     ]
    },
    {
     "data": {
      "text/html": [
       "<div>\n",
       "<style scoped>\n",
       "    .dataframe tbody tr th:only-of-type {\n",
       "        vertical-align: middle;\n",
       "    }\n",
       "\n",
       "    .dataframe tbody tr th {\n",
       "        vertical-align: top;\n",
       "    }\n",
       "\n",
       "    .dataframe thead th {\n",
       "        text-align: right;\n",
       "    }\n",
       "</style>\n",
       "<table border=\"1\" class=\"dataframe\">\n",
       "  <thead>\n",
       "    <tr style=\"text-align: right;\">\n",
       "      <th></th>\n",
       "      <th>Company</th>\n",
       "      <th>Month</th>\n",
       "      <th>Sales</th>\n",
       "      <th>Customers</th>\n",
       "      <th>Transactions</th>\n",
       "      <th>First_Month</th>\n",
       "    </tr>\n",
       "  </thead>\n",
       "  <tbody>\n",
       "    <tr>\n",
       "      <th>0</th>\n",
       "      <td>Blue Apron</td>\n",
       "      <td>2012-08-01</td>\n",
       "      <td>56</td>\n",
       "      <td>1</td>\n",
       "      <td>1</td>\n",
       "      <td>2012-08-01</td>\n",
       "    </tr>\n",
       "    <tr>\n",
       "      <th>1</th>\n",
       "      <td>Blue Apron</td>\n",
       "      <td>2012-09-01</td>\n",
       "      <td>845</td>\n",
       "      <td>4</td>\n",
       "      <td>13</td>\n",
       "      <td>2012-08-01</td>\n",
       "    </tr>\n",
       "    <tr>\n",
       "      <th>2</th>\n",
       "      <td>Blue Apron</td>\n",
       "      <td>2012-10-01</td>\n",
       "      <td>2192</td>\n",
       "      <td>13</td>\n",
       "      <td>34</td>\n",
       "      <td>2012-08-01</td>\n",
       "    </tr>\n",
       "    <tr>\n",
       "      <th>3</th>\n",
       "      <td>Blue Apron</td>\n",
       "      <td>2012-11-01</td>\n",
       "      <td>2468</td>\n",
       "      <td>20</td>\n",
       "      <td>41</td>\n",
       "      <td>2012-08-01</td>\n",
       "    </tr>\n",
       "    <tr>\n",
       "      <th>4</th>\n",
       "      <td>Blue Apron</td>\n",
       "      <td>2012-12-01</td>\n",
       "      <td>2789</td>\n",
       "      <td>24</td>\n",
       "      <td>43</td>\n",
       "      <td>2012-08-01</td>\n",
       "    </tr>\n",
       "  </tbody>\n",
       "</table>\n",
       "</div>"
      ],
      "text/plain": [
       "      Company      Month  Sales  Customers  Transactions First_Month\n",
       "0  Blue Apron 2012-08-01     56          1             1  2012-08-01\n",
       "1  Blue Apron 2012-09-01    845          4            13  2012-08-01\n",
       "2  Blue Apron 2012-10-01   2192         13            34  2012-08-01\n",
       "3  Blue Apron 2012-11-01   2468         20            41  2012-08-01\n",
       "4  Blue Apron 2012-12-01   2789         24            43  2012-08-01"
      ]
     },
     "execution_count": 10,
     "metadata": {},
     "output_type": "execute_result"
    }
   ],
   "source": [
    "sales_df['First_Month'] = [first_sales_dates[company] for company in sales_df.Company]\n",
    "sales_df = sales_df[sales_df.Month >= sales_df.First_Month].reset_index(drop = True)\n",
    "print(sales_df.shape)\n",
    "sales_df.head()"
   ]
  },
  {
   "cell_type": "code",
   "execution_count": 11,
   "metadata": {
    "ExecuteTime": {
     "end_time": "2019-05-31T23:42:18.339652Z",
     "start_time": "2019-05-31T23:42:18.326686Z"
    },
    "scrolled": true
   },
   "outputs": [
    {
     "data": {
      "text/plain": [
       "0     9\n",
       "7     9\n",
       "13    9\n",
       "12    9\n",
       "11    9\n",
       "Name: Months_since_first, dtype: int64"
      ]
     },
     "execution_count": 11,
     "metadata": {},
     "output_type": "execute_result"
    }
   ],
   "source": [
    "def diff_month(d1, d2):\n",
    "    return (d1.year - d2.year) * 12 + d1.month - d2.month\n",
    "sales_df['Months_since_first'] = [diff_month(d1, d2) for d1, d2 in zip(sales_df['Month'], sales_df['First_Month'])]\n",
    "sales_df['Months_since_first'].value_counts().head()"
   ]
  },
  {
   "cell_type": "code",
   "execution_count": 12,
   "metadata": {
    "ExecuteTime": {
     "end_time": "2019-05-31T23:42:18.353151Z",
     "start_time": "2019-05-31T23:42:18.343648Z"
    },
    "scrolled": true
   },
   "outputs": [
    {
     "data": {
      "text/plain": [
       "0    27\n",
       "1    27\n",
       "2    27\n",
       "3    27\n",
       "4    27\n",
       "Name: Quarters_since_first, dtype: int64"
      ]
     },
     "execution_count": 12,
     "metadata": {},
     "output_type": "execute_result"
    }
   ],
   "source": [
    "sales_df['Quarters_since_first'] = [floor(x/3) for x in sales_df['Months_since_first']]\n",
    "sales_df['Quarters_since_first'].value_counts().head()"
   ]
  },
  {
   "cell_type": "code",
   "execution_count": 13,
   "metadata": {
    "ExecuteTime": {
     "end_time": "2019-05-31T23:42:18.365148Z",
     "start_time": "2019-05-31T23:42:18.355150Z"
    }
   },
   "outputs": [
    {
     "data": {
      "text/plain": [
       "0    108\n",
       "1     99\n",
       "4     96\n",
       "3     96\n",
       "2     96\n",
       "Name: Years_since_first, dtype: int64"
      ]
     },
     "execution_count": 13,
     "metadata": {},
     "output_type": "execute_result"
    }
   ],
   "source": [
    "sales_df['Years_since_first'] = [floor(x/12) for x in sales_df['Months_since_first']]\n",
    "sales_df['Years_since_first'].value_counts().head()"
   ]
  },
  {
   "cell_type": "code",
   "execution_count": 14,
   "metadata": {
    "ExecuteTime": {
     "end_time": "2019-05-31T23:42:18.374192Z",
     "start_time": "2019-05-31T23:42:18.367655Z"
    }
   },
   "outputs": [],
   "source": [
    "sales_df['Monthly_revenue_per_cust'] = sales_df.Sales / sales_df.Customers"
   ]
  },
  {
   "cell_type": "code",
   "execution_count": 15,
   "metadata": {
    "ExecuteTime": {
     "end_time": "2019-05-31T23:42:18.916659Z",
     "start_time": "2019-05-31T23:42:18.376646Z"
    }
   },
   "outputs": [
    {
     "name": "stderr",
     "output_type": "stream",
     "text": [
      "100%|██████████████████████████████████████████████████████████████████████████████| 691/691 [00:00<00:00, 1302.56it/s]\n"
     ]
    }
   ],
   "source": [
    "# Get retention rate data from cohort tabs of original Excel\n",
    "retention_rates = []\n",
    "for idx in tqdm(range(len(sales_df))):\n",
    "    company = sales_df['Company'][idx]\n",
    "    retention_rates.append(company_dfs[company]['Retention_rate'][company_dfs[company]['Cohort month'] == sales_df['Month'][idx]].values[0])"
   ]
  },
  {
   "cell_type": "code",
   "execution_count": 16,
   "metadata": {
    "ExecuteTime": {
     "end_time": "2019-05-31T23:42:18.982148Z",
     "start_time": "2019-05-31T23:42:18.919146Z"
    }
   },
   "outputs": [
    {
     "name": "stdout",
     "output_type": "stream",
     "text": [
      "Proportion of months with retention rate greater than cutoff of 0.98: 0.04341534008683068\n"
     ]
    },
    {
     "name": "stderr",
     "output_type": "stream",
     "text": [
      "C:\\Users\\ezhang\\Anaconda3\\lib\\site-packages\\ipykernel\\__main__.py:6: SettingWithCopyWarning: \n",
      "A value is trying to be set on a copy of a slice from a DataFrame\n",
      "\n",
      "See the caveats in the documentation: http://pandas.pydata.org/pandas-docs/stable/indexing.html#indexing-view-versus-copy\n"
     ]
    },
    {
     "data": {
      "text/html": [
       "<div>\n",
       "<style scoped>\n",
       "    .dataframe tbody tr th:only-of-type {\n",
       "        vertical-align: middle;\n",
       "    }\n",
       "\n",
       "    .dataframe tbody tr th {\n",
       "        vertical-align: top;\n",
       "    }\n",
       "\n",
       "    .dataframe thead th {\n",
       "        text-align: right;\n",
       "    }\n",
       "</style>\n",
       "<table border=\"1\" class=\"dataframe\">\n",
       "  <thead>\n",
       "    <tr style=\"text-align: right;\">\n",
       "      <th></th>\n",
       "      <th>Company</th>\n",
       "      <th>Month</th>\n",
       "      <th>Sales</th>\n",
       "      <th>Customers</th>\n",
       "      <th>Transactions</th>\n",
       "      <th>First_Month</th>\n",
       "      <th>Months_since_first</th>\n",
       "      <th>Quarters_since_first</th>\n",
       "      <th>Years_since_first</th>\n",
       "      <th>Monthly_revenue_per_cust</th>\n",
       "      <th>Retention_rate</th>\n",
       "    </tr>\n",
       "  </thead>\n",
       "  <tbody>\n",
       "    <tr>\n",
       "      <th>0</th>\n",
       "      <td>Blue Apron</td>\n",
       "      <td>2012-08-01</td>\n",
       "      <td>56</td>\n",
       "      <td>1</td>\n",
       "      <td>1</td>\n",
       "      <td>2012-08-01</td>\n",
       "      <td>0</td>\n",
       "      <td>0</td>\n",
       "      <td>0</td>\n",
       "      <td>56.000000</td>\n",
       "      <td>NaN</td>\n",
       "    </tr>\n",
       "    <tr>\n",
       "      <th>1</th>\n",
       "      <td>Blue Apron</td>\n",
       "      <td>2012-09-01</td>\n",
       "      <td>845</td>\n",
       "      <td>4</td>\n",
       "      <td>13</td>\n",
       "      <td>2012-08-01</td>\n",
       "      <td>1</td>\n",
       "      <td>0</td>\n",
       "      <td>0</td>\n",
       "      <td>211.250000</td>\n",
       "      <td>0.980000</td>\n",
       "    </tr>\n",
       "    <tr>\n",
       "      <th>2</th>\n",
       "      <td>Blue Apron</td>\n",
       "      <td>2012-10-01</td>\n",
       "      <td>2192</td>\n",
       "      <td>13</td>\n",
       "      <td>34</td>\n",
       "      <td>2012-08-01</td>\n",
       "      <td>2</td>\n",
       "      <td>0</td>\n",
       "      <td>0</td>\n",
       "      <td>168.615385</td>\n",
       "      <td>0.980000</td>\n",
       "    </tr>\n",
       "    <tr>\n",
       "      <th>3</th>\n",
       "      <td>Blue Apron</td>\n",
       "      <td>2012-11-01</td>\n",
       "      <td>2468</td>\n",
       "      <td>20</td>\n",
       "      <td>41</td>\n",
       "      <td>2012-08-01</td>\n",
       "      <td>3</td>\n",
       "      <td>1</td>\n",
       "      <td>0</td>\n",
       "      <td>123.400000</td>\n",
       "      <td>0.846169</td>\n",
       "    </tr>\n",
       "    <tr>\n",
       "      <th>4</th>\n",
       "      <td>Blue Apron</td>\n",
       "      <td>2012-12-01</td>\n",
       "      <td>2789</td>\n",
       "      <td>24</td>\n",
       "      <td>43</td>\n",
       "      <td>2012-08-01</td>\n",
       "      <td>4</td>\n",
       "      <td>1</td>\n",
       "      <td>0</td>\n",
       "      <td>116.208333</td>\n",
       "      <td>0.842102</td>\n",
       "    </tr>\n",
       "  </tbody>\n",
       "</table>\n",
       "</div>"
      ],
      "text/plain": [
       "      Company      Month  Sales  Customers  Transactions First_Month  \\\n",
       "0  Blue Apron 2012-08-01     56          1             1  2012-08-01   \n",
       "1  Blue Apron 2012-09-01    845          4            13  2012-08-01   \n",
       "2  Blue Apron 2012-10-01   2192         13            34  2012-08-01   \n",
       "3  Blue Apron 2012-11-01   2468         20            41  2012-08-01   \n",
       "4  Blue Apron 2012-12-01   2789         24            43  2012-08-01   \n",
       "\n",
       "   Months_since_first  Quarters_since_first  Years_since_first  \\\n",
       "0                   0                     0                  0   \n",
       "1                   1                     0                  0   \n",
       "2                   2                     0                  0   \n",
       "3                   3                     1                  0   \n",
       "4                   4                     1                  0   \n",
       "\n",
       "   Monthly_revenue_per_cust  Retention_rate  \n",
       "0                 56.000000             NaN  \n",
       "1                211.250000        0.980000  \n",
       "2                168.615385        0.980000  \n",
       "3                123.400000        0.846169  \n",
       "4                116.208333        0.842102  "
      ]
     },
     "execution_count": 16,
     "metadata": {},
     "output_type": "execute_result"
    }
   ],
   "source": [
    "sales_df['Retention_rate'] = retention_rates\n",
    "# Cap monthly retention rate at 98% for realistic lifetime value projections, higher is due to noise from returning lapsed members of earlier cohorts\n",
    "cutoff = .98\n",
    "print('Proportion of months with retention rate greater than cutoff of ' + str(cutoff) + ':',\n",
    "      (sales_df['Retention_rate'] > cutoff).sum() / len(sales_df))\n",
    "sales_df['Retention_rate'][sales_df['Retention_rate'] > cutoff] = cutoff\n",
    "sales_df.head()"
   ]
  },
  {
   "cell_type": "code",
   "execution_count": 17,
   "metadata": {
    "ExecuteTime": {
     "end_time": "2019-05-31T23:42:19.057659Z",
     "start_time": "2019-05-31T23:42:18.984656Z"
    }
   },
   "outputs": [
    {
     "name": "stdout",
     "output_type": "stream",
     "text": [
      "Blue Apron proportion of retention rates reduced to 0.98: 0.02702702702702703\n",
      "Brandless proportion of retention rates reduced to 0.98: 0.0\n",
      "Chewy proportion of retention rates reduced to 0.98: 0.047058823529411764\n",
      "Dollar Shave Club proportion of retention rates reduced to 0.98: 0.08139534883720931\n",
      "Peloton proportion of retention rates reduced to 0.98: 0.03076923076923077\n",
      "Ring proportion of retention rates reduced to 0.98: 0.13978494623655913\n",
      "Stitch Fix proportion of retention rates reduced to 0.98: 0.0\n",
      "Warby Parker proportion of retention rates reduced to 0.98: 0.0\n",
      "Wish proportion of retention rates reduced to 0.98: 0.021505376344086023\n"
     ]
    }
   ],
   "source": [
    "# Ring data is messy due to long ramp-up period with single-digit cohort sizes\n",
    "for company in company_names:\n",
    "    print(company, 'proportion of retention rates reduced to', str(cutoff) + ':',\n",
    "          (sales_df[sales_df.Company == company].Retention_rate == .98).sum() / (sales_df.Company == company).sum())"
   ]
  },
  {
   "cell_type": "code",
   "execution_count": 18,
   "metadata": {
    "ExecuteTime": {
     "end_time": "2019-05-31T23:42:19.071146Z",
     "start_time": "2019-05-31T23:42:19.061649Z"
    }
   },
   "outputs": [
    {
     "data": {
      "text/plain": [
       "Company\n",
       "Blue Apron           0.817230\n",
       "Brandless            0.336653\n",
       "Chewy                0.845284\n",
       "Dollar Shave Club    0.926212\n",
       "Peloton              0.853331\n",
       "Ring                 0.671836\n",
       "Stitch Fix           0.817453\n",
       "Warby Parker         0.300812\n",
       "Wish                 0.593625\n",
       "Name: Retention_rate, dtype: float64"
      ]
     },
     "execution_count": 18,
     "metadata": {},
     "output_type": "execute_result"
    }
   ],
   "source": [
    "# Values have not changed much from previous approach just taking new vs. repeat customers\n",
    "# This is probably because breaking down the cohort data does the same thing as looking at the overall new vs. repeat changes\n",
    "# Subset minimum number of customers to 100 to avoid noisy early starts\n",
    "sales_df[sales_df.Customers > 100].groupby('Company')['Retention_rate'].mean()"
   ]
  },
  {
   "cell_type": "code",
   "execution_count": 19,
   "metadata": {
    "ExecuteTime": {
     "end_time": "2019-05-31T23:42:19.079156Z",
     "start_time": "2019-05-31T23:42:19.073660Z"
    }
   },
   "outputs": [],
   "source": [
    "sales_df['CLV'] = sales_df.Monthly_revenue_per_cust * (1/(1-sales_df.Retention_rate))"
   ]
  },
  {
   "cell_type": "code",
   "execution_count": 20,
   "metadata": {
    "ExecuteTime": {
     "end_time": "2019-05-31T23:42:19.092659Z",
     "start_time": "2019-05-31T23:42:19.081650Z"
    }
   },
   "outputs": [
    {
     "data": {
      "text/plain": [
       "Company\n",
       "Blue Apron           1114.465039\n",
       "Brandless              66.239734\n",
       "Chewy                 796.809770\n",
       "Dollar Shave Club     197.071515\n",
       "Peloton              3339.511028\n",
       "Ring                 1658.196389\n",
       "Stitch Fix            710.533406\n",
       "Warby Parker          217.799572\n",
       "Wish                  244.081077\n",
       "Name: CLV, dtype: float64"
      ]
     },
     "execution_count": 20,
     "metadata": {},
     "output_type": "execute_result"
    }
   ],
   "source": [
    "sales_df.groupby('Company')['CLV'].mean()"
   ]
  },
  {
   "cell_type": "code",
   "execution_count": 21,
   "metadata": {
    "ExecuteTime": {
     "end_time": "2019-05-31T23:42:19.101649Z",
     "start_time": "2019-05-31T23:42:19.094648Z"
    }
   },
   "outputs": [
    {
     "data": {
      "text/plain": [
       "Company\n",
       "Blue Apron           2136.339520\n",
       "Brandless              66.239734\n",
       "Chewy                1178.200188\n",
       "Dollar Shave Club      89.630529\n",
       "Peloton              7722.904366\n",
       "Ring                 2695.914141\n",
       "Stitch Fix            200.153157\n",
       "Warby Parker          127.068768\n",
       "Wish                  766.231061\n",
       "Name: CLV, dtype: float64"
      ]
     },
     "execution_count": 21,
     "metadata": {},
     "output_type": "execute_result"
    }
   ],
   "source": [
    "sales_df[sales_df.Months_since_first < 15].groupby('Company')['CLV'].mean()"
   ]
  },
  {
   "cell_type": "code",
   "execution_count": 22,
   "metadata": {
    "ExecuteTime": {
     "end_time": "2019-05-31T23:42:19.125148Z",
     "start_time": "2019-05-31T23:42:19.103653Z"
    },
    "scrolled": true
   },
   "outputs": [
    {
     "data": {
      "text/html": [
       "<div>\n",
       "<style scoped>\n",
       "    .dataframe tbody tr th:only-of-type {\n",
       "        vertical-align: middle;\n",
       "    }\n",
       "\n",
       "    .dataframe tbody tr th {\n",
       "        vertical-align: top;\n",
       "    }\n",
       "\n",
       "    .dataframe thead th {\n",
       "        text-align: right;\n",
       "    }\n",
       "</style>\n",
       "<table border=\"1\" class=\"dataframe\">\n",
       "  <thead>\n",
       "    <tr style=\"text-align: right;\">\n",
       "      <th></th>\n",
       "      <th>Company</th>\n",
       "      <th>Month</th>\n",
       "      <th>Sales</th>\n",
       "      <th>Customers</th>\n",
       "      <th>Transactions</th>\n",
       "      <th>First_Month</th>\n",
       "      <th>Months_since_first</th>\n",
       "      <th>Quarters_since_first</th>\n",
       "      <th>Years_since_first</th>\n",
       "      <th>Monthly_revenue_per_cust</th>\n",
       "      <th>Retention_rate</th>\n",
       "      <th>CLV</th>\n",
       "    </tr>\n",
       "  </thead>\n",
       "  <tbody>\n",
       "    <tr>\n",
       "      <th>74</th>\n",
       "      <td>Brandless</td>\n",
       "      <td>2017-07-01</td>\n",
       "      <td>16768</td>\n",
       "      <td>419</td>\n",
       "      <td>459</td>\n",
       "      <td>2017-07-01</td>\n",
       "      <td>0</td>\n",
       "      <td>0</td>\n",
       "      <td>0</td>\n",
       "      <td>40.019093</td>\n",
       "      <td>NaN</td>\n",
       "      <td>NaN</td>\n",
       "    </tr>\n",
       "    <tr>\n",
       "      <th>75</th>\n",
       "      <td>Brandless</td>\n",
       "      <td>2017-08-01</td>\n",
       "      <td>15735</td>\n",
       "      <td>372</td>\n",
       "      <td>414</td>\n",
       "      <td>2017-07-01</td>\n",
       "      <td>1</td>\n",
       "      <td>0</td>\n",
       "      <td>0</td>\n",
       "      <td>42.298387</td>\n",
       "      <td>0.085900</td>\n",
       "      <td>46.273260</td>\n",
       "    </tr>\n",
       "    <tr>\n",
       "      <th>76</th>\n",
       "      <td>Brandless</td>\n",
       "      <td>2017-09-01</td>\n",
       "      <td>16048</td>\n",
       "      <td>311</td>\n",
       "      <td>352</td>\n",
       "      <td>2017-07-01</td>\n",
       "      <td>2</td>\n",
       "      <td>0</td>\n",
       "      <td>0</td>\n",
       "      <td>51.601286</td>\n",
       "      <td>0.188686</td>\n",
       "      <td>63.602154</td>\n",
       "    </tr>\n",
       "    <tr>\n",
       "      <th>77</th>\n",
       "      <td>Brandless</td>\n",
       "      <td>2017-10-01</td>\n",
       "      <td>18946</td>\n",
       "      <td>461</td>\n",
       "      <td>501</td>\n",
       "      <td>2017-07-01</td>\n",
       "      <td>3</td>\n",
       "      <td>1</td>\n",
       "      <td>0</td>\n",
       "      <td>41.097614</td>\n",
       "      <td>0.340862</td>\n",
       "      <td>62.350548</td>\n",
       "    </tr>\n",
       "    <tr>\n",
       "      <th>78</th>\n",
       "      <td>Brandless</td>\n",
       "      <td>2017-11-01</td>\n",
       "      <td>19536</td>\n",
       "      <td>455</td>\n",
       "      <td>502</td>\n",
       "      <td>2017-07-01</td>\n",
       "      <td>4</td>\n",
       "      <td>1</td>\n",
       "      <td>0</td>\n",
       "      <td>42.936264</td>\n",
       "      <td>0.332608</td>\n",
       "      <td>64.334440</td>\n",
       "    </tr>\n",
       "    <tr>\n",
       "      <th>79</th>\n",
       "      <td>Brandless</td>\n",
       "      <td>2017-12-01</td>\n",
       "      <td>19594</td>\n",
       "      <td>430</td>\n",
       "      <td>484</td>\n",
       "      <td>2017-07-01</td>\n",
       "      <td>5</td>\n",
       "      <td>1</td>\n",
       "      <td>0</td>\n",
       "      <td>45.567442</td>\n",
       "      <td>0.238940</td>\n",
       "      <td>59.873689</td>\n",
       "    </tr>\n",
       "    <tr>\n",
       "      <th>80</th>\n",
       "      <td>Brandless</td>\n",
       "      <td>2018-01-01</td>\n",
       "      <td>31500</td>\n",
       "      <td>782</td>\n",
       "      <td>857</td>\n",
       "      <td>2017-07-01</td>\n",
       "      <td>6</td>\n",
       "      <td>2</td>\n",
       "      <td>0</td>\n",
       "      <td>40.281330</td>\n",
       "      <td>0.417238</td>\n",
       "      <td>69.121361</td>\n",
       "    </tr>\n",
       "    <tr>\n",
       "      <th>81</th>\n",
       "      <td>Brandless</td>\n",
       "      <td>2018-02-01</td>\n",
       "      <td>30761</td>\n",
       "      <td>734</td>\n",
       "      <td>813</td>\n",
       "      <td>2017-07-01</td>\n",
       "      <td>7</td>\n",
       "      <td>2</td>\n",
       "      <td>0</td>\n",
       "      <td>41.908719</td>\n",
       "      <td>0.317563</td>\n",
       "      <td>61.410413</td>\n",
       "    </tr>\n",
       "    <tr>\n",
       "      <th>82</th>\n",
       "      <td>Brandless</td>\n",
       "      <td>2018-03-01</td>\n",
       "      <td>37395</td>\n",
       "      <td>857</td>\n",
       "      <td>970</td>\n",
       "      <td>2017-07-01</td>\n",
       "      <td>8</td>\n",
       "      <td>2</td>\n",
       "      <td>0</td>\n",
       "      <td>43.634772</td>\n",
       "      <td>0.350591</td>\n",
       "      <td>67.191525</td>\n",
       "    </tr>\n",
       "    <tr>\n",
       "      <th>83</th>\n",
       "      <td>Brandless</td>\n",
       "      <td>2018-04-01</td>\n",
       "      <td>46011</td>\n",
       "      <td>1130</td>\n",
       "      <td>1298</td>\n",
       "      <td>2017-07-01</td>\n",
       "      <td>9</td>\n",
       "      <td>3</td>\n",
       "      <td>0</td>\n",
       "      <td>40.717699</td>\n",
       "      <td>0.485946</td>\n",
       "      <td>79.208918</td>\n",
       "    </tr>\n",
       "    <tr>\n",
       "      <th>84</th>\n",
       "      <td>Brandless</td>\n",
       "      <td>2018-05-01</td>\n",
       "      <td>47722</td>\n",
       "      <td>1109</td>\n",
       "      <td>1233</td>\n",
       "      <td>2017-07-01</td>\n",
       "      <td>10</td>\n",
       "      <td>3</td>\n",
       "      <td>0</td>\n",
       "      <td>43.031560</td>\n",
       "      <td>0.391726</td>\n",
       "      <td>70.743734</td>\n",
       "    </tr>\n",
       "    <tr>\n",
       "      <th>85</th>\n",
       "      <td>Brandless</td>\n",
       "      <td>2018-06-01</td>\n",
       "      <td>40644</td>\n",
       "      <td>965</td>\n",
       "      <td>1122</td>\n",
       "      <td>2017-07-01</td>\n",
       "      <td>11</td>\n",
       "      <td>3</td>\n",
       "      <td>0</td>\n",
       "      <td>42.118135</td>\n",
       "      <td>0.312896</td>\n",
       "      <td>61.298076</td>\n",
       "    </tr>\n",
       "    <tr>\n",
       "      <th>86</th>\n",
       "      <td>Brandless</td>\n",
       "      <td>2018-07-01</td>\n",
       "      <td>46352</td>\n",
       "      <td>1119</td>\n",
       "      <td>1285</td>\n",
       "      <td>2017-07-01</td>\n",
       "      <td>12</td>\n",
       "      <td>4</td>\n",
       "      <td>1</td>\n",
       "      <td>41.422699</td>\n",
       "      <td>0.467234</td>\n",
       "      <td>77.750276</td>\n",
       "    </tr>\n",
       "    <tr>\n",
       "      <th>87</th>\n",
       "      <td>Brandless</td>\n",
       "      <td>2018-08-01</td>\n",
       "      <td>51401</td>\n",
       "      <td>1167</td>\n",
       "      <td>1338</td>\n",
       "      <td>2017-07-01</td>\n",
       "      <td>13</td>\n",
       "      <td>4</td>\n",
       "      <td>1</td>\n",
       "      <td>44.045416</td>\n",
       "      <td>0.379029</td>\n",
       "      <td>70.929852</td>\n",
       "    </tr>\n",
       "    <tr>\n",
       "      <th>88</th>\n",
       "      <td>Brandless</td>\n",
       "      <td>2018-09-01</td>\n",
       "      <td>60968</td>\n",
       "      <td>1396</td>\n",
       "      <td>1598</td>\n",
       "      <td>2017-07-01</td>\n",
       "      <td>14</td>\n",
       "      <td>4</td>\n",
       "      <td>1</td>\n",
       "      <td>43.673352</td>\n",
       "      <td>0.403923</td>\n",
       "      <td>73.268025</td>\n",
       "    </tr>\n",
       "  </tbody>\n",
       "</table>\n",
       "</div>"
      ],
      "text/plain": [
       "      Company      Month  Sales  Customers  Transactions First_Month  \\\n",
       "74  Brandless 2017-07-01  16768        419           459  2017-07-01   \n",
       "75  Brandless 2017-08-01  15735        372           414  2017-07-01   \n",
       "76  Brandless 2017-09-01  16048        311           352  2017-07-01   \n",
       "77  Brandless 2017-10-01  18946        461           501  2017-07-01   \n",
       "78  Brandless 2017-11-01  19536        455           502  2017-07-01   \n",
       "79  Brandless 2017-12-01  19594        430           484  2017-07-01   \n",
       "80  Brandless 2018-01-01  31500        782           857  2017-07-01   \n",
       "81  Brandless 2018-02-01  30761        734           813  2017-07-01   \n",
       "82  Brandless 2018-03-01  37395        857           970  2017-07-01   \n",
       "83  Brandless 2018-04-01  46011       1130          1298  2017-07-01   \n",
       "84  Brandless 2018-05-01  47722       1109          1233  2017-07-01   \n",
       "85  Brandless 2018-06-01  40644        965          1122  2017-07-01   \n",
       "86  Brandless 2018-07-01  46352       1119          1285  2017-07-01   \n",
       "87  Brandless 2018-08-01  51401       1167          1338  2017-07-01   \n",
       "88  Brandless 2018-09-01  60968       1396          1598  2017-07-01   \n",
       "\n",
       "    Months_since_first  Quarters_since_first  Years_since_first  \\\n",
       "74                   0                     0                  0   \n",
       "75                   1                     0                  0   \n",
       "76                   2                     0                  0   \n",
       "77                   3                     1                  0   \n",
       "78                   4                     1                  0   \n",
       "79                   5                     1                  0   \n",
       "80                   6                     2                  0   \n",
       "81                   7                     2                  0   \n",
       "82                   8                     2                  0   \n",
       "83                   9                     3                  0   \n",
       "84                  10                     3                  0   \n",
       "85                  11                     3                  0   \n",
       "86                  12                     4                  1   \n",
       "87                  13                     4                  1   \n",
       "88                  14                     4                  1   \n",
       "\n",
       "    Monthly_revenue_per_cust  Retention_rate        CLV  \n",
       "74                 40.019093             NaN        NaN  \n",
       "75                 42.298387        0.085900  46.273260  \n",
       "76                 51.601286        0.188686  63.602154  \n",
       "77                 41.097614        0.340862  62.350548  \n",
       "78                 42.936264        0.332608  64.334440  \n",
       "79                 45.567442        0.238940  59.873689  \n",
       "80                 40.281330        0.417238  69.121361  \n",
       "81                 41.908719        0.317563  61.410413  \n",
       "82                 43.634772        0.350591  67.191525  \n",
       "83                 40.717699        0.485946  79.208918  \n",
       "84                 43.031560        0.391726  70.743734  \n",
       "85                 42.118135        0.312896  61.298076  \n",
       "86                 41.422699        0.467234  77.750276  \n",
       "87                 44.045416        0.379029  70.929852  \n",
       "88                 43.673352        0.403923  73.268025  "
      ]
     },
     "execution_count": 22,
     "metadata": {},
     "output_type": "execute_result"
    }
   ],
   "source": [
    "sales_df[sales_df.Company == 'Brandless']"
   ]
  },
  {
   "cell_type": "code",
   "execution_count": 23,
   "metadata": {
    "ExecuteTime": {
     "end_time": "2019-05-31T23:42:19.159148Z",
     "start_time": "2019-05-31T23:42:19.127147Z"
    },
    "scrolled": true
   },
   "outputs": [
    {
     "data": {
      "text/html": [
       "<div>\n",
       "<style scoped>\n",
       "    .dataframe tbody tr th:only-of-type {\n",
       "        vertical-align: middle;\n",
       "    }\n",
       "\n",
       "    .dataframe tbody tr th {\n",
       "        vertical-align: top;\n",
       "    }\n",
       "\n",
       "    .dataframe thead th {\n",
       "        text-align: right;\n",
       "    }\n",
       "</style>\n",
       "<table border=\"1\" class=\"dataframe\">\n",
       "  <thead>\n",
       "    <tr style=\"text-align: right;\">\n",
       "      <th></th>\n",
       "      <th>Cohort month</th>\n",
       "      <th>Cohort size</th>\n",
       "      <th>1</th>\n",
       "      <th>2</th>\n",
       "      <th>3</th>\n",
       "      <th>4</th>\n",
       "      <th>5</th>\n",
       "      <th>6</th>\n",
       "      <th>7</th>\n",
       "      <th>8</th>\n",
       "      <th>9</th>\n",
       "      <th>10</th>\n",
       "      <th>11</th>\n",
       "      <th>12</th>\n",
       "      <th>13</th>\n",
       "      <th>14</th>\n",
       "      <th>Repeat_customers</th>\n",
       "      <th>Retention_rate</th>\n",
       "    </tr>\n",
       "  </thead>\n",
       "  <tbody>\n",
       "    <tr>\n",
       "      <th>0</th>\n",
       "      <td>2017-07-01</td>\n",
       "      <td>419</td>\n",
       "      <td>0.0859</td>\n",
       "      <td>0.0788</td>\n",
       "      <td>0.0764</td>\n",
       "      <td>0.0859</td>\n",
       "      <td>0.0453</td>\n",
       "      <td>0.0907</td>\n",
       "      <td>0.0573</td>\n",
       "      <td>0.0525</td>\n",
       "      <td>0.0835</td>\n",
       "      <td>0.1026</td>\n",
       "      <td>0.0501</td>\n",
       "      <td>0.0573</td>\n",
       "      <td>0.0382</td>\n",
       "      <td>0.0453</td>\n",
       "      <td>NaN</td>\n",
       "      <td>NaN</td>\n",
       "    </tr>\n",
       "    <tr>\n",
       "      <th>1</th>\n",
       "      <td>2017-08-01</td>\n",
       "      <td>335</td>\n",
       "      <td>0.1104</td>\n",
       "      <td>0.1224</td>\n",
       "      <td>0.0896</td>\n",
       "      <td>0.0507</td>\n",
       "      <td>0.0597</td>\n",
       "      <td>0.0478</td>\n",
       "      <td>0.0567</td>\n",
       "      <td>0.0776</td>\n",
       "      <td>0.0597</td>\n",
       "      <td>0.0358</td>\n",
       "      <td>0.0448</td>\n",
       "      <td>0.0448</td>\n",
       "      <td>0.0597</td>\n",
       "      <td>NaN</td>\n",
       "      <td>35.9921</td>\n",
       "      <td>0.085900</td>\n",
       "    </tr>\n",
       "    <tr>\n",
       "      <th>2</th>\n",
       "      <td>2017-09-01</td>\n",
       "      <td>241</td>\n",
       "      <td>0.1369</td>\n",
       "      <td>0.0954</td>\n",
       "      <td>0.0581</td>\n",
       "      <td>0.0664</td>\n",
       "      <td>0.0705</td>\n",
       "      <td>0.0747</td>\n",
       "      <td>0.1203</td>\n",
       "      <td>0.0913</td>\n",
       "      <td>0.0498</td>\n",
       "      <td>0.0498</td>\n",
       "      <td>0.0415</td>\n",
       "      <td>0.0539</td>\n",
       "      <td>NaN</td>\n",
       "      <td>NaN</td>\n",
       "      <td>70.0012</td>\n",
       "      <td>0.188686</td>\n",
       "    </tr>\n",
       "    <tr>\n",
       "      <th>3</th>\n",
       "      <td>2017-10-01</td>\n",
       "      <td>354</td>\n",
       "      <td>0.1808</td>\n",
       "      <td>0.0932</td>\n",
       "      <td>0.0847</td>\n",
       "      <td>0.0989</td>\n",
       "      <td>0.0621</td>\n",
       "      <td>0.0791</td>\n",
       "      <td>0.0706</td>\n",
       "      <td>0.0424</td>\n",
       "      <td>0.0621</td>\n",
       "      <td>0.0508</td>\n",
       "      <td>0.0565</td>\n",
       "      <td>NaN</td>\n",
       "      <td>NaN</td>\n",
       "      <td>NaN</td>\n",
       "      <td>106.0085</td>\n",
       "      <td>0.340862</td>\n",
       "    </tr>\n",
       "    <tr>\n",
       "      <th>4</th>\n",
       "      <td>2017-11-01</td>\n",
       "      <td>303</td>\n",
       "      <td>0.0858</td>\n",
       "      <td>0.1254</td>\n",
       "      <td>0.1419</td>\n",
       "      <td>0.1056</td>\n",
       "      <td>0.1221</td>\n",
       "      <td>0.0858</td>\n",
       "      <td>0.0693</td>\n",
       "      <td>0.0726</td>\n",
       "      <td>0.0594</td>\n",
       "      <td>0.0264</td>\n",
       "      <td>NaN</td>\n",
       "      <td>NaN</td>\n",
       "      <td>NaN</td>\n",
       "      <td>NaN</td>\n",
       "      <td>153.0027</td>\n",
       "      <td>0.332608</td>\n",
       "    </tr>\n",
       "    <tr>\n",
       "      <th>5</th>\n",
       "      <td>2017-12-01</td>\n",
       "      <td>320</td>\n",
       "      <td>0.1156</td>\n",
       "      <td>0.1281</td>\n",
       "      <td>0.0938</td>\n",
       "      <td>0.1500</td>\n",
       "      <td>0.1156</td>\n",
       "      <td>0.0688</td>\n",
       "      <td>0.0688</td>\n",
       "      <td>0.0656</td>\n",
       "      <td>0.0438</td>\n",
       "      <td>NaN</td>\n",
       "      <td>NaN</td>\n",
       "      <td>NaN</td>\n",
       "      <td>NaN</td>\n",
       "      <td>NaN</td>\n",
       "      <td>108.9575</td>\n",
       "      <td>0.238940</td>\n",
       "    </tr>\n",
       "    <tr>\n",
       "      <th>6</th>\n",
       "      <td>2018-01-01</td>\n",
       "      <td>602</td>\n",
       "      <td>0.1196</td>\n",
       "      <td>0.0864</td>\n",
       "      <td>0.0997</td>\n",
       "      <td>0.1080</td>\n",
       "      <td>0.0449</td>\n",
       "      <td>0.0498</td>\n",
       "      <td>0.0631</td>\n",
       "      <td>0.0449</td>\n",
       "      <td>NaN</td>\n",
       "      <td>NaN</td>\n",
       "      <td>NaN</td>\n",
       "      <td>NaN</td>\n",
       "      <td>NaN</td>\n",
       "      <td>NaN</td>\n",
       "      <td>178.9772</td>\n",
       "      <td>0.417238</td>\n",
       "    </tr>\n",
       "    <tr>\n",
       "      <th>7</th>\n",
       "      <td>2018-02-01</td>\n",
       "      <td>485</td>\n",
       "      <td>0.1278</td>\n",
       "      <td>0.1567</td>\n",
       "      <td>0.0887</td>\n",
       "      <td>0.0660</td>\n",
       "      <td>0.0536</td>\n",
       "      <td>0.0598</td>\n",
       "      <td>0.0515</td>\n",
       "      <td>NaN</td>\n",
       "      <td>NaN</td>\n",
       "      <td>NaN</td>\n",
       "      <td>NaN</td>\n",
       "      <td>NaN</td>\n",
       "      <td>NaN</td>\n",
       "      <td>NaN</td>\n",
       "      <td>248.0097</td>\n",
       "      <td>0.317563</td>\n",
       "    </tr>\n",
       "    <tr>\n",
       "      <th>8</th>\n",
       "      <td>2018-03-01</td>\n",
       "      <td>599</td>\n",
       "      <td>0.1285</td>\n",
       "      <td>0.1202</td>\n",
       "      <td>0.0634</td>\n",
       "      <td>0.0768</td>\n",
       "      <td>0.0434</td>\n",
       "      <td>0.0384</td>\n",
       "      <td>NaN</td>\n",
       "      <td>NaN</td>\n",
       "      <td>NaN</td>\n",
       "      <td>NaN</td>\n",
       "      <td>NaN</td>\n",
       "      <td>NaN</td>\n",
       "      <td>NaN</td>\n",
       "      <td>NaN</td>\n",
       "      <td>256.9867</td>\n",
       "      <td>0.350591</td>\n",
       "    </tr>\n",
       "    <tr>\n",
       "      <th>9</th>\n",
       "      <td>2018-04-01</td>\n",
       "      <td>715</td>\n",
       "      <td>0.1259</td>\n",
       "      <td>0.0951</td>\n",
       "      <td>0.0587</td>\n",
       "      <td>0.0615</td>\n",
       "      <td>0.0503</td>\n",
       "      <td>NaN</td>\n",
       "      <td>NaN</td>\n",
       "      <td>NaN</td>\n",
       "      <td>NaN</td>\n",
       "      <td>NaN</td>\n",
       "      <td>NaN</td>\n",
       "      <td>NaN</td>\n",
       "      <td>NaN</td>\n",
       "      <td>NaN</td>\n",
       "      <td>415.9629</td>\n",
       "      <td>0.485946</td>\n",
       "    </tr>\n",
       "    <tr>\n",
       "      <th>10</th>\n",
       "      <td>2018-05-01</td>\n",
       "      <td>666</td>\n",
       "      <td>0.1186</td>\n",
       "      <td>0.1096</td>\n",
       "      <td>0.0541</td>\n",
       "      <td>0.0736</td>\n",
       "      <td>NaN</td>\n",
       "      <td>NaN</td>\n",
       "      <td>NaN</td>\n",
       "      <td>NaN</td>\n",
       "      <td>NaN</td>\n",
       "      <td>NaN</td>\n",
       "      <td>NaN</td>\n",
       "      <td>NaN</td>\n",
       "      <td>NaN</td>\n",
       "      <td>NaN</td>\n",
       "      <td>443.0278</td>\n",
       "      <td>0.391726</td>\n",
       "    </tr>\n",
       "    <tr>\n",
       "      <th>11</th>\n",
       "      <td>2018-06-01</td>\n",
       "      <td>616</td>\n",
       "      <td>0.1883</td>\n",
       "      <td>0.0942</td>\n",
       "      <td>0.0763</td>\n",
       "      <td>NaN</td>\n",
       "      <td>NaN</td>\n",
       "      <td>NaN</td>\n",
       "      <td>NaN</td>\n",
       "      <td>NaN</td>\n",
       "      <td>NaN</td>\n",
       "      <td>NaN</td>\n",
       "      <td>NaN</td>\n",
       "      <td>NaN</td>\n",
       "      <td>NaN</td>\n",
       "      <td>NaN</td>\n",
       "      <td>347.0107</td>\n",
       "      <td>0.312896</td>\n",
       "    </tr>\n",
       "    <tr>\n",
       "      <th>12</th>\n",
       "      <td>2018-07-01</td>\n",
       "      <td>666</td>\n",
       "      <td>0.1411</td>\n",
       "      <td>0.0976</td>\n",
       "      <td>NaN</td>\n",
       "      <td>NaN</td>\n",
       "      <td>NaN</td>\n",
       "      <td>NaN</td>\n",
       "      <td>NaN</td>\n",
       "      <td>NaN</td>\n",
       "      <td>NaN</td>\n",
       "      <td>NaN</td>\n",
       "      <td>NaN</td>\n",
       "      <td>NaN</td>\n",
       "      <td>NaN</td>\n",
       "      <td>NaN</td>\n",
       "      <td>449.9514</td>\n",
       "      <td>0.467234</td>\n",
       "    </tr>\n",
       "    <tr>\n",
       "      <th>13</th>\n",
       "      <td>2018-08-01</td>\n",
       "      <td>743</td>\n",
       "      <td>0.1413</td>\n",
       "      <td>NaN</td>\n",
       "      <td>NaN</td>\n",
       "      <td>NaN</td>\n",
       "      <td>NaN</td>\n",
       "      <td>NaN</td>\n",
       "      <td>NaN</td>\n",
       "      <td>NaN</td>\n",
       "      <td>NaN</td>\n",
       "      <td>NaN</td>\n",
       "      <td>NaN</td>\n",
       "      <td>NaN</td>\n",
       "      <td>NaN</td>\n",
       "      <td>NaN</td>\n",
       "      <td>422.9774</td>\n",
       "      <td>0.379029</td>\n",
       "    </tr>\n",
       "    <tr>\n",
       "      <th>14</th>\n",
       "      <td>2018-09-01</td>\n",
       "      <td>919</td>\n",
       "      <td>NaN</td>\n",
       "      <td>NaN</td>\n",
       "      <td>NaN</td>\n",
       "      <td>NaN</td>\n",
       "      <td>NaN</td>\n",
       "      <td>NaN</td>\n",
       "      <td>NaN</td>\n",
       "      <td>NaN</td>\n",
       "      <td>NaN</td>\n",
       "      <td>NaN</td>\n",
       "      <td>NaN</td>\n",
       "      <td>NaN</td>\n",
       "      <td>NaN</td>\n",
       "      <td>NaN</td>\n",
       "      <td>470.9656</td>\n",
       "      <td>0.403923</td>\n",
       "    </tr>\n",
       "  </tbody>\n",
       "</table>\n",
       "</div>"
      ],
      "text/plain": [
       "   Cohort month  Cohort size       1       2       3       4       5       6  \\\n",
       "0    2017-07-01          419  0.0859  0.0788  0.0764  0.0859  0.0453  0.0907   \n",
       "1    2017-08-01          335  0.1104  0.1224  0.0896  0.0507  0.0597  0.0478   \n",
       "2    2017-09-01          241  0.1369  0.0954  0.0581  0.0664  0.0705  0.0747   \n",
       "3    2017-10-01          354  0.1808  0.0932  0.0847  0.0989  0.0621  0.0791   \n",
       "4    2017-11-01          303  0.0858  0.1254  0.1419  0.1056  0.1221  0.0858   \n",
       "5    2017-12-01          320  0.1156  0.1281  0.0938  0.1500  0.1156  0.0688   \n",
       "6    2018-01-01          602  0.1196  0.0864  0.0997  0.1080  0.0449  0.0498   \n",
       "7    2018-02-01          485  0.1278  0.1567  0.0887  0.0660  0.0536  0.0598   \n",
       "8    2018-03-01          599  0.1285  0.1202  0.0634  0.0768  0.0434  0.0384   \n",
       "9    2018-04-01          715  0.1259  0.0951  0.0587  0.0615  0.0503     NaN   \n",
       "10   2018-05-01          666  0.1186  0.1096  0.0541  0.0736     NaN     NaN   \n",
       "11   2018-06-01          616  0.1883  0.0942  0.0763     NaN     NaN     NaN   \n",
       "12   2018-07-01          666  0.1411  0.0976     NaN     NaN     NaN     NaN   \n",
       "13   2018-08-01          743  0.1413     NaN     NaN     NaN     NaN     NaN   \n",
       "14   2018-09-01          919     NaN     NaN     NaN     NaN     NaN     NaN   \n",
       "\n",
       "         7       8       9      10      11      12      13      14  \\\n",
       "0   0.0573  0.0525  0.0835  0.1026  0.0501  0.0573  0.0382  0.0453   \n",
       "1   0.0567  0.0776  0.0597  0.0358  0.0448  0.0448  0.0597     NaN   \n",
       "2   0.1203  0.0913  0.0498  0.0498  0.0415  0.0539     NaN     NaN   \n",
       "3   0.0706  0.0424  0.0621  0.0508  0.0565     NaN     NaN     NaN   \n",
       "4   0.0693  0.0726  0.0594  0.0264     NaN     NaN     NaN     NaN   \n",
       "5   0.0688  0.0656  0.0438     NaN     NaN     NaN     NaN     NaN   \n",
       "6   0.0631  0.0449     NaN     NaN     NaN     NaN     NaN     NaN   \n",
       "7   0.0515     NaN     NaN     NaN     NaN     NaN     NaN     NaN   \n",
       "8      NaN     NaN     NaN     NaN     NaN     NaN     NaN     NaN   \n",
       "9      NaN     NaN     NaN     NaN     NaN     NaN     NaN     NaN   \n",
       "10     NaN     NaN     NaN     NaN     NaN     NaN     NaN     NaN   \n",
       "11     NaN     NaN     NaN     NaN     NaN     NaN     NaN     NaN   \n",
       "12     NaN     NaN     NaN     NaN     NaN     NaN     NaN     NaN   \n",
       "13     NaN     NaN     NaN     NaN     NaN     NaN     NaN     NaN   \n",
       "14     NaN     NaN     NaN     NaN     NaN     NaN     NaN     NaN   \n",
       "\n",
       "    Repeat_customers  Retention_rate  \n",
       "0                NaN             NaN  \n",
       "1            35.9921        0.085900  \n",
       "2            70.0012        0.188686  \n",
       "3           106.0085        0.340862  \n",
       "4           153.0027        0.332608  \n",
       "5           108.9575        0.238940  \n",
       "6           178.9772        0.417238  \n",
       "7           248.0097        0.317563  \n",
       "8           256.9867        0.350591  \n",
       "9           415.9629        0.485946  \n",
       "10          443.0278        0.391726  \n",
       "11          347.0107        0.312896  \n",
       "12          449.9514        0.467234  \n",
       "13          422.9774        0.379029  \n",
       "14          470.9656        0.403923  "
      ]
     },
     "execution_count": 23,
     "metadata": {},
     "output_type": "execute_result"
    }
   ],
   "source": [
    "company_dfs['Brandless']"
   ]
  },
  {
   "cell_type": "markdown",
   "metadata": {},
   "source": [
    "# Clustering"
   ]
  },
  {
   "cell_type": "markdown",
   "metadata": {},
   "source": [
    "In this section we extract a set of similar company comparisons to use in model training."
   ]
  },
  {
   "cell_type": "code",
   "execution_count": 24,
   "metadata": {
    "ExecuteTime": {
     "end_time": "2019-05-31T23:42:19.178147Z",
     "start_time": "2019-05-31T23:42:19.163149Z"
    }
   },
   "outputs": [],
   "source": [
    "class CandidateExtractor:\n",
    "    \"\"\" This class can be used to identify the time series subsequence for each potential comparison company \n",
    "    with the smallest distance from the series to forecast that fits specified constraints\n",
    "    \n",
    "    Initial inputs:\n",
    "        ts_to_match (np.array): contains the time series to forecast, monthly data points\n",
    "        ts_candidates (list of np.arrays): contains the time series for the potential company comparisons, monthly data points\n",
    "        candidate_names (list of str): contains the names of the candidates corresponding to ts_candidates, default numeric index\n",
    "    \"\"\"\n",
    "    \n",
    "    def __init__(self, ts_to_match, ts_candidates, candidate_names = None):\n",
    "        self.forecast_lag_months = 12\n",
    "        \n",
    "        self.ts_to_match = ts_to_match\n",
    "        # Assign names to track original candidate order relative to any sorted lists\n",
    "        if not candidate_names:\n",
    "            candidate_names = np.array(range(len(ts_candidates)))\n",
    "            \n",
    "        # Remove any candidates that are not long enough (and their corresponding names)\n",
    "        ts_to_keep = np.where([len(ts) >= len(ts_to_match) + self.forecast_lag_months for ts in ts_candidates])[0]\n",
    "        ts_candidates = np.array(ts_candidates)[ts_to_keep]\n",
    "        self.candidate_names = np.array(candidate_names)[ts_to_keep]\n",
    "        \n",
    "        # Remove the last year of data points from each candidate since we do not have forecasts for those\n",
    "        self.ts_candidates = np.array([ts[:-self.forecast_lag_months] for ts in ts_candidates])\n",
    "        # Get values to forecast from same time series, excluding the length of the time series to predict and forecast lag\n",
    "        self.forecast_vals = np.array([ts[len(ts_to_match) + self.forecast_lag_months - 1:] for ts in ts_candidates])\n",
    "        \n",
    "        # Set default indices for when `filter_ts_candidates` function is not used\n",
    "        self.start_indices = [0] * len(ts_candidates)\n",
    "        self.end_indices = [len(ts) for ts in ts_candidates]\n",
    "        \n",
    "    def filter_ts_candidates(self, min_val, max_val):\n",
    "        \"\"\" Remove subsequences that do not meet criteria\n",
    "        \n",
    "        Inputs:\n",
    "            min_val (int): time series subsequence must start and remain above this value\n",
    "            max_val (int): time series subsequence must not go above this value\n",
    "        \"\"\"\n",
    "        self.start_indices = []\n",
    "        self.end_indices = []\n",
    "        for ts in self.ts_candidates:\n",
    "            try:\n",
    "                start_idx = np.where(ts < min_val)[0][-1] + 1\n",
    "            except IndexError:\n",
    "                start_idx = 0\n",
    "            try:\n",
    "                end_idx = np.where(ts > max_val)[0][0]\n",
    "            except IndexError:\n",
    "                end_idx = len(ts)\n",
    "            self.start_indices.append(start_idx)\n",
    "            self.end_indices.append(end_idx)\n",
    "        \n",
    "        self.forecast_vals = [val[start_idx:end_idx] for val, start_idx, end_idx in zip(self.forecast_vals, \n",
    "                                                                                        self.start_indices,\n",
    "                                                                                        self.end_indices)]\n",
    "        self.ts_candidates = [ts[start_idx:end_idx] for ts, start_idx, end_idx in zip(self.ts_candidates, \n",
    "                                                                                      self.start_indices,\n",
    "                                                                                      self.end_indices)]\n",
    "        \n",
    "        # Remove any candidates that are not long enough (and their corresponding names/forecasts) after filtering\n",
    "        ts_to_keep = np.where([len(ts) >= len(self.ts_to_match) for ts in self.ts_candidates])[0]\n",
    "        self.ts_candidates = np.array(self.ts_candidates)[ts_to_keep]\n",
    "        self.candidate_names = np.array(self.candidate_names)[ts_to_keep]\n",
    "        self.forecast_vals = np.array(self.forecast_vals)[ts_to_keep]\n",
    "    \n",
    "    def get_best_candidates(self, num_comps, norm = False, dtw = False):\n",
    "        \"\"\" Extract the time series with the lowest distance to the time series to forecast\n",
    "        \n",
    "        Inputs:\n",
    "            num_comps (int): number of time series subsequences to return, one per company comparison\n",
    "            norm (bool): if True, normalize time series to forecast and candidates when calculating distance\n",
    "            dtw (bool): if True, use dynamic-time-warping distance metric; else, use Euclidean default\n",
    "        \n",
    "        Returns:\n",
    "            best_candidates (list of np. arrays): len of num_comps, contains best subsequences with same length as ts_to_match,\n",
    "                                                  one per potential company comparison, sorted ascending by distance\n",
    "            best_distances (list of floats): contains the distance values for each candidate\n",
    "            best_indices (list of int duples): contains the indices of the best_candidates, to sync with other features (start, end)\n",
    "            forecast_vals (list of floats): contains values to be used as truth for training forecasting model\n",
    "            candidate_order (list of str): sorted to correspond to the order of the time series in best_candidates\n",
    "        \"\"\"\n",
    "        # Generate all possible stepwise time series with the length of `ts_to_match`\n",
    "        expanded_ts_candidates = []\n",
    "        for ts, candidate_name in zip(self.ts_candidates, self.candidate_names):\n",
    "            expanded_ts_candidates.append([ts[x:len(self.ts_to_match)+x] for x in range(len(ts)-len(self.ts_to_match)+1)])\n",
    "        \n",
    "        # Calculate distance, normalizing if specified, and get ts, indices, forecast values corresponding to the best distance\n",
    "        best_candidates, best_distances, best_indices, forecast_vals = [], [], [], []\n",
    "        for expansion, forecast_val, start_idx in zip(expanded_ts_candidates, self.forecast_vals, self.start_indices):\n",
    "            if dtw:\n",
    "                if norm:\n",
    "                    dist = [sqrt(fastdtw(ts / ts[0], self.ts_to_match / self.ts_to_match[0])[0]) for ts in expansion]\n",
    "                else:\n",
    "                    dist = [sqrt(fastdtw(ts, self.ts_to_match)[0]) for ts in expansion]\n",
    "            else:\n",
    "                if norm:\n",
    "                    dist = [np.linalg.norm(ts / ts[0] - self.ts_to_match / self.ts_to_match[0]) for ts in expansion] \n",
    "                else:\n",
    "                    dist = [np.linalg.norm(ts - self.ts_to_match) for ts in expansion]\n",
    "            best_candidate_idx = np.argmin(dist)\n",
    "            best_candidates.append(expansion[best_candidate_idx])\n",
    "            best_distances.append(np.min(dist))\n",
    "            best_indices.append((start_idx + best_candidate_idx, \n",
    "                                 start_idx + best_candidate_idx + len(self.ts_to_match)))\n",
    "            forecast_vals.append(forecast_val[best_candidate_idx])\n",
    "        \n",
    "        # Sort by the best distances, and return top num_comps time series and corresponding info\n",
    "        sorted_tups = zip(*sorted(zip(best_distances, best_candidates, best_indices, forecast_vals, self.candidate_names)))\n",
    "        best_distances, best_candidates, best_indices, forecast_vals, candidate_order = (list(tup)[:num_comps] for tup in sorted_tups)\n",
    "\n",
    "        return best_candidates, best_distances, best_indices, forecast_vals, candidate_order"
   ]
  },
  {
   "cell_type": "code",
   "execution_count": 25,
   "metadata": {
    "ExecuteTime": {
     "end_time": "2019-05-31T23:42:19.193147Z",
     "start_time": "2019-05-31T23:42:19.180647Z"
    }
   },
   "outputs": [
    {
     "data": {
      "text/plain": [
       "array([16768, 15735, 16048, 18946, 19536, 19594, 31500, 30761, 37395,\n",
       "       46011, 47722, 40644, 46352, 51401, 60968], dtype=int64)"
      ]
     },
     "execution_count": 25,
     "metadata": {},
     "output_type": "execute_result"
    }
   ],
   "source": [
    "ts_to_match = sales_df.Sales[sales_df.Company == 'Brandless'].values\n",
    "ts_to_match"
   ]
  },
  {
   "cell_type": "code",
   "execution_count": 26,
   "metadata": {
    "ExecuteTime": {
     "end_time": "2019-05-31T23:42:19.489647Z",
     "start_time": "2019-05-31T23:42:19.195151Z"
    }
   },
   "outputs": [],
   "source": [
    "company_names = pd.ExcelFile('../data/Commerce analysis - full sales data.xlsx').sheet_names[1:]\n",
    "all_candidates = [sales_df.Sales[sales_df.Company == company].values for company in company_names]"
   ]
  },
  {
   "cell_type": "code",
   "execution_count": 27,
   "metadata": {
    "ExecuteTime": {
     "end_time": "2019-05-31T23:42:19.495153Z",
     "start_time": "2019-05-31T23:42:19.491147Z"
    }
   },
   "outputs": [],
   "source": [
    "candidate_extractor = CandidateExtractor(ts_to_match, all_candidates, company_names)"
   ]
  },
  {
   "cell_type": "code",
   "execution_count": 28,
   "metadata": {
    "ExecuteTime": {
     "end_time": "2019-05-31T23:42:19.506196Z",
     "start_time": "2019-05-31T23:42:19.497647Z"
    }
   },
   "outputs": [],
   "source": [
    "candidate_extractor.filter_ts_candidates(min_val = 1000, max_val = 300000)"
   ]
  },
  {
   "cell_type": "code",
   "execution_count": 29,
   "metadata": {
    "ExecuteTime": {
     "end_time": "2019-05-31T23:42:19.517146Z",
     "start_time": "2019-05-31T23:42:19.509647Z"
    }
   },
   "outputs": [
    {
     "data": {
      "text/plain": [
       "array([    51,     35,    116,     36,     10,      0,     33,  11761,\n",
       "         8154,   5793,  16408,  17415,  20136,  18340,  20383,  21687,\n",
       "        24270,  27109,  28323,  40923,  43225,  48420,  69039,  65505,\n",
       "        71175,  77485,  90168, 100415, 123184, 124079, 135046, 150303,\n",
       "       160170, 183118, 212665, 218037, 241871, 267507, 286168, 311897,\n",
       "       357643, 358426, 384021, 399892, 405760, 430703, 477385, 443006,\n",
       "       495057, 507661, 526611, 535740, 631862, 602596, 635721, 658208,\n",
       "       627617, 664359, 697201, 663236, 657509, 648831, 657731, 670479,\n",
       "       715005, 673264, 680065, 677669, 696508, 684084, 687385, 684613,\n",
       "       672644, 671911, 666452, 678432, 672863, 653893, 663519, 651696,\n",
       "       662740, 650534, 667514, 667898, 655907, 652795], dtype=int64)"
      ]
     },
     "execution_count": 29,
     "metadata": {},
     "output_type": "execute_result"
    }
   ],
   "source": [
    "# Let's look at an example\n",
    "all_candidates[company_names.index('Dollar Shave Club')]"
   ]
  },
  {
   "cell_type": "code",
   "execution_count": 30,
   "metadata": {
    "ExecuteTime": {
     "end_time": "2019-05-31T23:42:19.527147Z",
     "start_time": "2019-05-31T23:42:19.519648Z"
    }
   },
   "outputs": [
    {
     "data": {
      "text/plain": [
       "array([  1679,   3446,   3419,   4008,  11562,   6335,   5735,  40970,\n",
       "        13916,   7390,  24288,  23780,  26173,  43737,  80094,  72286,\n",
       "        66546,  52790,  52606,  51646,  62929,  57198,  82980,  97404,\n",
       "       124771, 210130, 221569, 268983, 255384, 204015, 179896, 171415,\n",
       "       143838, 145871, 129122, 219424, 227950], dtype=int64)"
      ]
     },
     "execution_count": 30,
     "metadata": {},
     "output_type": "execute_result"
    }
   ],
   "source": [
    "# Spot-check filtering\n",
    "candidate_extractor.ts_candidates[company_names.index('Dollar Shave Club')]"
   ]
  },
  {
   "cell_type": "code",
   "execution_count": 31,
   "metadata": {
    "ExecuteTime": {
     "end_time": "2019-05-31T23:42:19.630701Z",
     "start_time": "2019-05-31T23:42:19.530150Z"
    }
   },
   "outputs": [],
   "source": [
    "best_candidates, best_distances, best_indices, forecast_vals, candidate_order = \\\n",
    "candidate_extractor.get_best_candidates(5, norm = True, dtw = True)"
   ]
  },
  {
   "cell_type": "code",
   "execution_count": 32,
   "metadata": {
    "ExecuteTime": {
     "end_time": "2019-05-31T23:42:19.656146Z",
     "start_time": "2019-05-31T23:42:19.632650Z"
    }
   },
   "outputs": [
    {
     "name": "stdout",
     "output_type": "stream",
     "text": [
      "Best candidates: [array([ 69039,  65505,  71175,  77485,  90168, 100415, 123184, 124079,\n",
      "       135046, 150303, 160170, 183118, 212665, 218037, 241871],\n",
      "      dtype=int64), array([ 77896,  93099,  82349,  92402,  94792,  99588, 117678, 132455,\n",
      "       123161, 153441, 163326, 175269, 222062, 225360, 269495],\n",
      "      dtype=int64), array([25104, 27332, 31174, 30256, 32702, 26533, 44881, 41535, 53198,\n",
      "       57608, 52714, 70847, 54720, 67600, 71038], dtype=int64), array([ 83798,  72762,  72028,  96091, 155053, 138219, 140816, 103993,\n",
      "       129254, 164202, 205295, 210960, 210751, 246906, 241482],\n",
      "      dtype=int64), array([ 72286,  66546,  52790,  52606,  51646,  62929,  57198,  82980,\n",
      "        97404, 124771, 210130, 221569, 268983, 255384, 204015],\n",
      "      dtype=int64)]\n",
      "Distances: [1.3344397140055504, 1.5618695795051014, 1.594115444116491, 1.8754594433717564, 1.9299610480483254]\n",
      "Indices: [(22, 37), (13, 28), (5, 20), (66, 81), (20, 35)]\n",
      "Forecast values: [495057, 615869, 152879, 347405, 620232]\n",
      "Companies: ['Dollar Shave Club', 'Chewy', 'Warby Parker', 'Ring', 'Peloton']\n"
     ]
    },
    {
     "data": {
      "text/plain": [
       "[None, None, None, None, None]"
      ]
     },
     "execution_count": 32,
     "metadata": {},
     "output_type": "execute_result"
    }
   ],
   "source": [
    "# Spot-check forecast value - 495057 is the forecast value, 12 months after 241871, the end value of the first candidate\n",
    "[print(label, output) for label, output in zip(['Best candidates:', 'Distances:', 'Indices:', 'Forecast values:', 'Companies:'],\n",
    "                                               [best_candidates, best_distances, best_indices, forecast_vals, candidate_order])]"
   ]
  },
  {
   "cell_type": "code",
   "execution_count": 33,
   "metadata": {
    "ExecuteTime": {
     "end_time": "2019-05-31T23:42:19.664188Z",
     "start_time": "2019-05-31T23:42:19.658651Z"
    }
   },
   "outputs": [
    {
     "data": {
      "text/plain": [
       "array([ 69039,  65505,  71175,  77485,  90168, 100415, 123184, 124079,\n",
       "       135046, 150303, 160170, 183118, 212665, 218037, 241871],\n",
       "      dtype=int64)"
      ]
     },
     "execution_count": 33,
     "metadata": {},
     "output_type": "execute_result"
    }
   ],
   "source": [
    "# Spot-check correct indexing - matches the above and is length 15 to match the amount of data we have for Brandless\n",
    "all_candidates[company_names.index('Dollar Shave Club')][best_indices[0][0]:best_indices[0][1]]"
   ]
  },
  {
   "cell_type": "code",
   "execution_count": 34,
   "metadata": {
    "ExecuteTime": {
     "end_time": "2019-05-31T23:42:19.772650Z",
     "start_time": "2019-05-31T23:42:19.665650Z"
    }
   },
   "outputs": [
    {
     "data": {
      "text/plain": [
       "([array([15238, 18411, 20847, 21451, 24052, 25104, 27332, 31174, 30256,\n",
       "         32702, 26533, 44881, 41535, 53198, 57608], dtype=int64),\n",
       "  array([16408, 17415, 20136, 18340, 20383, 21687, 24270, 27109, 28323,\n",
       "         40923, 43225, 48420, 69039, 65505, 71175], dtype=int64),\n",
       "  array([ 6012,  3256,  7961, 15264, 10414, 11335, 20167, 24273, 26940,\n",
       "         26970, 26967, 56193, 47049, 58809, 59869], dtype=int64),\n",
       "  array([ 4733,  4504,  7441,  6189, 10615,  9704,  7162, 18845, 17709,\n",
       "         32725, 39117, 42020, 44852, 54816, 71462], dtype=int64),\n",
       "  array([40970, 13916,  7390, 24288, 23780, 26173, 43737, 80094, 72286,\n",
       "         66546, 52790, 52606, 51646, 62929, 57198], dtype=int64)],\n",
       " [221.68897130890386,\n",
       "  244.73863609981976,\n",
       "  303.9588787977742,\n",
       "  308.5595566499278,\n",
       "  387.2570205948499],\n",
       " [(0, 15), (10, 25), (47, 62), (11, 26), (12, 27)],\n",
       " [135174, 241871, 103993, 589373, 145871],\n",
       " ['Warby Parker', 'Dollar Shave Club', 'Ring', 'Stitch Fix', 'Peloton'])"
      ]
     },
     "execution_count": 34,
     "metadata": {},
     "output_type": "execute_result"
    }
   ],
   "source": [
    "# Results for non-normalized data\n",
    "candidate_extractor.get_best_candidates(5, norm = False, dtw = True)"
   ]
  },
  {
   "cell_type": "markdown",
   "metadata": {},
   "source": [
    "One other interesting idea is to have clusters of time series already set (e.g., through k-means) and to use the most similar cluster (could also use the same dtw-distance metric, maybe even measuring it to the first few principal components of the cluster rather than all the time series in the cluster as n-size increases).\n",
    "\n",
    "We could also add a vertical translation element into the normalization process so 1 -> 2 is seen as similar to 2 -> 3.\n",
    "\n",
    "For performance, we might also look to some other dtw implementations, namely `pydtw` and `dtaidistance` (takes some work to install involving MSVC compiler / VS 2014+). A quick comparison of `dtw` vs. its linear approximation `fastdtw` is below."
   ]
  },
  {
   "cell_type": "code",
   "execution_count": 35,
   "metadata": {
    "ExecuteTime": {
     "end_time": "2019-05-31T23:42:30.708650Z",
     "start_time": "2019-05-31T23:42:19.775146Z"
    }
   },
   "outputs": [
    {
     "name": "stdout",
     "output_type": "stream",
     "text": [
      "74.1 ms ± 3.87 ms per loop (mean ± std. dev. of 7 runs, 10 loops each)\n",
      "6.08 ms ± 468 µs per loop (mean ± std. dev. of 7 runs, 100 loops each)\n"
     ]
    }
   ],
   "source": [
    "test_list = list(range(100))\n",
    "s1 = np.array(test_list)\n",
    "s2 = np.array(test_list[::-1])\n",
    "\n",
    "euclidean_norm = lambda x, y: np.linalg.norm(x-y)\n",
    "%timeit d, _, _, _ = dtw(s1, s2, dist=euclidean_norm)\n",
    "%timeit d2,_ = fastdtw(s1, s2)"
   ]
  },
  {
   "cell_type": "markdown",
   "metadata": {},
   "source": [
    "# Feature generation"
   ]
  },
  {
   "cell_type": "markdown",
   "metadata": {},
   "source": [
    "## Difference transforms"
   ]
  },
  {
   "cell_type": "markdown",
   "metadata": {
    "ExecuteTime": {
     "end_time": "2019-05-30T22:48:43.537495Z",
     "start_time": "2019-05-30T22:48:43.528493Z"
    }
   },
   "source": [
    "It may be helpful to test stationarity of our time series to ensure that statistical properties being modeled do not changed over time. If we find that the time series is non-stationary through the Dicky-Fuller test, then we can apply a difference transform."
   ]
  },
  {
   "cell_type": "code",
   "execution_count": 36,
   "metadata": {
    "ExecuteTime": {
     "end_time": "2019-05-31T23:42:30.770649Z",
     "start_time": "2019-05-31T23:42:30.710645Z"
    }
   },
   "outputs": [
    {
     "name": "stdout",
     "output_type": "stream",
     "text": [
      "p-value: 1.0\n",
      "p-value: 1.0\n",
      "p-value: 0.9416608077601465\n",
      "p-value: 0.9984729190300052\n",
      "p-value: 0.6582543155505178\n",
      "p-value: 0.9808297318136046\n"
     ]
    }
   ],
   "source": [
    "# Test stationarity - p > 0.05 means the time series is non-stationary\n",
    "# All of our time series appear to be non-stationary \n",
    "for ts in best_candidates:\n",
    "    print('p-value:', adfuller(ts, maxlag = 5)[1]) # Default maxlag is for longer series, so set it to 1/3rd of the 15 months of data\n",
    "print('p-value:', adfuller(ts_to_match, maxlag = 5)[1])"
   ]
  },
  {
   "cell_type": "code",
   "execution_count": 37,
   "metadata": {
    "ExecuteTime": {
     "end_time": "2019-05-31T23:42:30.783649Z",
     "start_time": "2019-05-31T23:42:30.774148Z"
    }
   },
   "outputs": [
    {
     "data": {
      "text/plain": [
       "array([-1033,   313,  2898,   590,    58, 11906,  -739,  6634,  8616,\n",
       "        1711, -7078,  5708,  5049,  9567], dtype=int64)"
      ]
     },
     "execution_count": 37,
     "metadata": {},
     "output_type": "execute_result"
    }
   ],
   "source": [
    "# Apply difference transform to both candidate time series and time series to forecast\n",
    "ts_to_match_diff = ts_to_match[1:] - ts_to_match[:-1]\n",
    "candidate_ts_diff = [ts[1:] - ts[:-1] for ts in best_candidates]\n",
    "ts_to_match_diff"
   ]
  },
  {
   "cell_type": "code",
   "execution_count": 38,
   "metadata": {
    "ExecuteTime": {
     "end_time": "2019-05-31T23:42:30.795147Z",
     "start_time": "2019-05-31T23:42:30.787148Z"
    }
   },
   "outputs": [
    {
     "data": {
      "text/plain": [
       "['diff_lag_14',\n",
       " 'diff_lag_13',\n",
       " 'diff_lag_12',\n",
       " 'diff_lag_11',\n",
       " 'diff_lag_10',\n",
       " 'diff_lag_9',\n",
       " 'diff_lag_8',\n",
       " 'diff_lag_7',\n",
       " 'diff_lag_6',\n",
       " 'diff_lag_5',\n",
       " 'diff_lag_4',\n",
       " 'diff_lag_3',\n",
       " 'diff_lag_2',\n",
       " 'diff_lag_1']"
      ]
     },
     "execution_count": 38,
     "metadata": {},
     "output_type": "execute_result"
    }
   ],
   "source": [
    "# Start tracking feature names\n",
    "feat_names = ['diff_lag_' + str(i) for i in range(14, 0, -1)]\n",
    "feat_names"
   ]
  },
  {
   "cell_type": "code",
   "execution_count": 39,
   "metadata": {
    "ExecuteTime": {
     "end_time": "2019-05-31T23:42:30.851146Z",
     "start_time": "2019-05-31T23:42:30.799647Z"
    }
   },
   "outputs": [
    {
     "name": "stdout",
     "output_type": "stream",
     "text": [
      "p-value: 0.9975477081710936\n",
      "p-value: 0.9948137145622269\n",
      "p-value: 0.25922025060705445\n",
      "p-value: 0.006071711928583283\n",
      "p-value: 0.9749043043421264\n",
      "p-value: 0.006050088896286862\n"
     ]
    }
   ],
   "source": [
    "# This fixed stationarity for only 2 of our time series. One next step would be to take the difference repeatedly until the\n",
    "# issue caused by non-linear trends is resolved, but we'll leave out that step for now\n",
    "for ts_diff in candidate_ts_diff:\n",
    "    print('p-value:', adfuller(ts_diff, maxlag = 5)[1])\n",
    "print('p-value:', adfuller(ts_to_match_diff, maxlag = 5)[1])"
   ]
  },
  {
   "cell_type": "code",
   "execution_count": 40,
   "metadata": {
    "ExecuteTime": {
     "end_time": "2019-05-31T23:42:30.861655Z",
     "start_time": "2019-05-31T23:42:30.856158Z"
    }
   },
   "outputs": [
    {
     "data": {
      "text/plain": [
       "[253186, 346374, 81841, 105923, 416217]"
      ]
     },
     "execution_count": 40,
     "metadata": {},
     "output_type": "execute_result"
    }
   ],
   "source": [
    "forecast_vals_diff = [forecast_val - ts[-1] for forecast_val, ts in zip(forecast_vals, best_candidates)]\n",
    "forecast_vals_diff"
   ]
  },
  {
   "cell_type": "markdown",
   "metadata": {},
   "source": [
    "## CLV (Customer Lifetime Value features)"
   ]
  },
  {
   "cell_type": "markdown",
   "metadata": {},
   "source": [
    "Let's incorporate some features based on CLV, with the idea that unit economics can be a predictor for future growth."
   ]
  },
  {
   "cell_type": "code",
   "execution_count": 41,
   "metadata": {
    "ExecuteTime": {
     "end_time": "2019-05-31T23:42:30.879149Z",
     "start_time": "2019-05-31T23:42:30.865646Z"
    }
   },
   "outputs": [
    {
     "name": "stdout",
     "output_type": "stream",
     "text": [
      "Companies corresponding to time series: ['Dollar Shave Club', 'Chewy', 'Warby Parker', 'Ring', 'Peloton']\n",
      "Indices of those time series: [(22, 37), (13, 28), (5, 20), (66, 81), (20, 35)]\n"
     ]
    },
    {
     "data": {
      "text/plain": [
       "array([131.46830796, 100.44113384,  92.05103131, 133.61661187,\n",
       "       109.10043205, 105.02372293, 142.26422815,  84.90176261,\n",
       "        76.74452079, 138.58048677, 136.38798379, 157.84462313,\n",
       "       144.52071946, 188.02688133, 124.76691304])"
      ]
     },
     "execution_count": 41,
     "metadata": {},
     "output_type": "execute_result"
    }
   ],
   "source": [
    "# Example of data we want\n",
    "print('Companies corresponding to time series:', candidate_order)\n",
    "print('Indices of those time series:', best_indices)\n",
    "sales_df.CLV[sales_df.Company == 'Dollar Shave Club'].values[22:37]"
   ]
  },
  {
   "cell_type": "code",
   "execution_count": 42,
   "metadata": {
    "ExecuteTime": {
     "end_time": "2019-05-31T23:42:30.899144Z",
     "start_time": "2019-05-31T23:42:30.881646Z"
    }
   },
   "outputs": [
    {
     "data": {
      "text/plain": [
       "array([131.46830796, 100.44113384,  92.05103131, 133.61661187,\n",
       "       109.10043205, 105.02372293, 142.26422815,  84.90176261,\n",
       "        76.74452079, 138.58048677, 136.38798379, 157.84462313,\n",
       "       144.52071946, 188.02688133, 124.76691304])"
      ]
     },
     "execution_count": 42,
     "metadata": {},
     "output_type": "execute_result"
    }
   ],
   "source": [
    "# Extract CLV from sales_df based on best_indices\n",
    "clvs = [sales_df.CLV[sales_df.Company == company].fillna(method = 'backfill').values[best_index[0]:best_index[1]] \\\n",
    "        for company, best_index in zip(candidate_order, best_indices)]\n",
    "clvs[0]"
   ]
  },
  {
   "cell_type": "code",
   "execution_count": 43,
   "metadata": {
    "ExecuteTime": {
     "end_time": "2019-05-31T23:42:30.910148Z",
     "start_time": "2019-05-31T23:42:30.901148Z"
    }
   },
   "outputs": [
    {
     "data": {
      "text/plain": [
       "array([46.27326014, 46.27326014, 63.60215382, 62.35054826, 64.33444019,\n",
       "       59.87368942, 69.12136109, 61.410413  , 67.19152535, 79.20891756,\n",
       "       70.74373418, 61.29807623, 77.75027605, 70.92985191, 73.26802498])"
      ]
     },
     "execution_count": 43,
     "metadata": {},
     "output_type": "execute_result"
    }
   ],
   "source": [
    "# Do the same for the time series to forecast, Brandless\n",
    "ts_to_match_clv = sales_df.CLV[sales_df.Company == 'Brandless'].fillna(method = 'backfill').values\n",
    "ts_to_match_clv"
   ]
  },
  {
   "cell_type": "code",
   "execution_count": 44,
   "metadata": {
    "ExecuteTime": {
     "end_time": "2019-05-31T23:42:30.918648Z",
     "start_time": "2019-05-31T23:42:30.913651Z"
    }
   },
   "outputs": [],
   "source": [
    "feat_names = feat_names + ['clv_lag_' + str(i) for i in range(15, 0, -1)]"
   ]
  },
  {
   "cell_type": "markdown",
   "metadata": {},
   "source": [
    "## Rolling window features"
   ]
  },
  {
   "cell_type": "markdown",
   "metadata": {},
   "source": [
    "Monthly lag features can be noisy. Let's supplement them with rolling 3-month windows for both lagged sales and CLV using mean and standard deviation."
   ]
  },
  {
   "cell_type": "code",
   "execution_count": 45,
   "metadata": {
    "ExecuteTime": {
     "end_time": "2019-05-31T23:42:30.937151Z",
     "start_time": "2019-05-31T23:42:30.920646Z"
    }
   },
   "outputs": [],
   "source": [
    "rolling_mean_sales = [pd.Series(ts).rolling(window=3).mean().fillna(method = 'backfill').values for ts in best_candidates]\n",
    "rolling_mean_clvs = [pd.Series(clv).rolling(window=3).mean().fillna(method = 'backfill').values for clv in clvs]"
   ]
  },
  {
   "cell_type": "code",
   "execution_count": 46,
   "metadata": {
    "ExecuteTime": {
     "end_time": "2019-05-31T23:42:30.956649Z",
     "start_time": "2019-05-31T23:42:30.939649Z"
    }
   },
   "outputs": [],
   "source": [
    "rolling_std_sales = [pd.Series(ts).rolling(window=3).std().fillna(method = 'backfill').values for ts in best_candidates]\n",
    "rolling_std_clvs = [pd.Series(clv).rolling(window=3).std().fillna(method = 'backfill').values for clv in clvs]"
   ]
  },
  {
   "cell_type": "code",
   "execution_count": 47,
   "metadata": {
    "ExecuteTime": {
     "end_time": "2019-05-31T23:42:30.975146Z",
     "start_time": "2019-05-31T23:42:30.959659Z"
    }
   },
   "outputs": [],
   "source": [
    "# Do the same for the series to forecast\n",
    "rolling_mean_match_sales = sales_df.Sales[sales_df.Company == 'Brandless'].rolling(window=3).std().fillna(method = 'backfill').values\n",
    "rolling_mean_match_clv = sales_df.CLV[sales_df.Company == 'Brandless'].rolling(window=3).std().fillna(method = 'backfill').values\n",
    "rolling_std_match_sales = sales_df.Sales[sales_df.Company == 'Brandless'].rolling(window=3).std().fillna(method = 'backfill').values\n",
    "rolling_std_match_clv = sales_df.CLV[sales_df.Company == 'Brandless'].rolling(window=3).std().fillna(method = 'backfill').values"
   ]
  },
  {
   "cell_type": "code",
   "execution_count": 48,
   "metadata": {
    "ExecuteTime": {
     "end_time": "2019-05-31T23:42:30.984647Z",
     "start_time": "2019-05-31T23:42:30.977151Z"
    }
   },
   "outputs": [],
   "source": [
    "# Continue tracking feature names\n",
    "for stat in ['mean', 'std']:\n",
    "    feat_names = feat_names + ['rolling_' + stat + '_sales_' + str(i) for i in range(15, 0, -1)]\n",
    "    feat_names = feat_names + ['rolling_' + stat + '_clvs_' + str(i) for i in range(15, 0, -1)]"
   ]
  },
  {
   "cell_type": "markdown",
   "metadata": {},
   "source": [
    "## Month features to adjust for seasonality"
   ]
  },
  {
   "cell_type": "markdown",
   "metadata": {},
   "source": [
    "It would also be helpful to account for potential seasonality in user growth; we can do that by converting the categorical variable month into a one-hot encoding."
   ]
  },
  {
   "cell_type": "code",
   "execution_count": 49,
   "metadata": {
    "ExecuteTime": {
     "end_time": "2019-05-31T23:42:31.010650Z",
     "start_time": "2019-05-31T23:42:30.989150Z"
    }
   },
   "outputs": [
    {
     "data": {
      "text/html": [
       "<div>\n",
       "<style scoped>\n",
       "    .dataframe tbody tr th:only-of-type {\n",
       "        vertical-align: middle;\n",
       "    }\n",
       "\n",
       "    .dataframe tbody tr th {\n",
       "        vertical-align: top;\n",
       "    }\n",
       "\n",
       "    .dataframe thead th {\n",
       "        text-align: right;\n",
       "    }\n",
       "</style>\n",
       "<table border=\"1\" class=\"dataframe\">\n",
       "  <thead>\n",
       "    <tr style=\"text-align: right;\">\n",
       "      <th></th>\n",
       "      <th>month_1</th>\n",
       "      <th>month_2</th>\n",
       "      <th>month_3</th>\n",
       "      <th>month_4</th>\n",
       "      <th>month_5</th>\n",
       "      <th>month_6</th>\n",
       "      <th>month_7</th>\n",
       "      <th>month_8</th>\n",
       "      <th>month_9</th>\n",
       "      <th>month_10</th>\n",
       "      <th>month_11</th>\n",
       "      <th>month_12</th>\n",
       "    </tr>\n",
       "  </thead>\n",
       "  <tbody>\n",
       "    <tr>\n",
       "      <th>0</th>\n",
       "      <td>0</td>\n",
       "      <td>0</td>\n",
       "      <td>0</td>\n",
       "      <td>0</td>\n",
       "      <td>0</td>\n",
       "      <td>0</td>\n",
       "      <td>0</td>\n",
       "      <td>1</td>\n",
       "      <td>0</td>\n",
       "      <td>0</td>\n",
       "      <td>0</td>\n",
       "      <td>0</td>\n",
       "    </tr>\n",
       "    <tr>\n",
       "      <th>1</th>\n",
       "      <td>0</td>\n",
       "      <td>0</td>\n",
       "      <td>0</td>\n",
       "      <td>0</td>\n",
       "      <td>0</td>\n",
       "      <td>0</td>\n",
       "      <td>0</td>\n",
       "      <td>0</td>\n",
       "      <td>1</td>\n",
       "      <td>0</td>\n",
       "      <td>0</td>\n",
       "      <td>0</td>\n",
       "    </tr>\n",
       "    <tr>\n",
       "      <th>2</th>\n",
       "      <td>0</td>\n",
       "      <td>0</td>\n",
       "      <td>0</td>\n",
       "      <td>0</td>\n",
       "      <td>0</td>\n",
       "      <td>0</td>\n",
       "      <td>0</td>\n",
       "      <td>0</td>\n",
       "      <td>0</td>\n",
       "      <td>1</td>\n",
       "      <td>0</td>\n",
       "      <td>0</td>\n",
       "    </tr>\n",
       "    <tr>\n",
       "      <th>3</th>\n",
       "      <td>0</td>\n",
       "      <td>0</td>\n",
       "      <td>0</td>\n",
       "      <td>0</td>\n",
       "      <td>0</td>\n",
       "      <td>0</td>\n",
       "      <td>0</td>\n",
       "      <td>0</td>\n",
       "      <td>0</td>\n",
       "      <td>0</td>\n",
       "      <td>1</td>\n",
       "      <td>0</td>\n",
       "    </tr>\n",
       "    <tr>\n",
       "      <th>4</th>\n",
       "      <td>0</td>\n",
       "      <td>0</td>\n",
       "      <td>0</td>\n",
       "      <td>0</td>\n",
       "      <td>0</td>\n",
       "      <td>0</td>\n",
       "      <td>0</td>\n",
       "      <td>0</td>\n",
       "      <td>0</td>\n",
       "      <td>0</td>\n",
       "      <td>0</td>\n",
       "      <td>1</td>\n",
       "    </tr>\n",
       "  </tbody>\n",
       "</table>\n",
       "</div>"
      ],
      "text/plain": [
       "   month_1  month_2  month_3  month_4  month_5  month_6  month_7  month_8  \\\n",
       "0        0        0        0        0        0        0        0        1   \n",
       "1        0        0        0        0        0        0        0        0   \n",
       "2        0        0        0        0        0        0        0        0   \n",
       "3        0        0        0        0        0        0        0        0   \n",
       "4        0        0        0        0        0        0        0        0   \n",
       "\n",
       "   month_9  month_10  month_11  month_12  \n",
       "0        0         0         0         0  \n",
       "1        1         0         0         0  \n",
       "2        0         1         0         0  \n",
       "3        0         0         1         0  \n",
       "4        0         0         0         1  "
      ]
     },
     "execution_count": 49,
     "metadata": {},
     "output_type": "execute_result"
    }
   ],
   "source": [
    "month_one_hot = pd.get_dummies([date.month for date in sales_df['Month']], prefix = 'month')\n",
    "month_one_hot.head()"
   ]
  },
  {
   "cell_type": "code",
   "execution_count": 50,
   "metadata": {
    "ExecuteTime": {
     "end_time": "2019-05-31T23:42:31.020148Z",
     "start_time": "2019-05-31T23:42:31.013146Z"
    }
   },
   "outputs": [],
   "source": [
    "sales_df = pd.concat([sales_df, month_one_hot], axis = 1)"
   ]
  },
  {
   "cell_type": "markdown",
   "metadata": {},
   "source": [
    "Below, 1 means that January is the month of the transaction; 0 means it is not. In theory, we could encode a similar feature for each month, but we can do it just for January with the idea that the position of the 1 is absolutely correlated with the 1 for other months."
   ]
  },
  {
   "cell_type": "code",
   "execution_count": 51,
   "metadata": {
    "ExecuteTime": {
     "end_time": "2019-05-31T23:42:31.037648Z",
     "start_time": "2019-05-31T23:42:31.022150Z"
    }
   },
   "outputs": [
    {
     "data": {
      "text/plain": [
       "[array([0, 0, 0, 0, 0, 0, 0, 1, 0, 0, 0, 0, 0, 0, 0], dtype=uint8),\n",
       " array([0, 0, 0, 1, 0, 0, 0, 0, 0, 0, 0, 0, 0, 0, 0], dtype=uint8),\n",
       " array([0, 0, 0, 0, 0, 0, 0, 1, 0, 0, 0, 0, 0, 0, 0], dtype=uint8),\n",
       " array([0, 0, 0, 0, 0, 0, 1, 0, 0, 0, 0, 0, 0, 0, 0], dtype=uint8),\n",
       " array([1, 0, 0, 0, 0, 0, 0, 0, 0, 0, 0, 0, 1, 0, 0], dtype=uint8)]"
      ]
     },
     "execution_count": 51,
     "metadata": {},
     "output_type": "execute_result"
    }
   ],
   "source": [
    "january_feat = ([sales_df.month_1[sales_df.Company == company].values[best_index[0]:best_index[1]] \\\n",
    "                 for company, best_index in zip(candidate_order, best_indices)])\n",
    "january_feat"
   ]
  },
  {
   "cell_type": "code",
   "execution_count": 52,
   "metadata": {
    "ExecuteTime": {
     "end_time": "2019-05-31T23:42:31.049652Z",
     "start_time": "2019-05-31T23:42:31.039646Z"
    }
   },
   "outputs": [],
   "source": [
    "january_feat_to_match = sales_df.month_1[sales_df.Company == 'Brandless'].values"
   ]
  },
  {
   "cell_type": "code",
   "execution_count": 53,
   "metadata": {
    "ExecuteTime": {
     "end_time": "2019-05-31T23:42:31.057653Z",
     "start_time": "2019-05-31T23:42:31.051145Z"
    }
   },
   "outputs": [],
   "source": [
    "feat_names = feat_names + ['january_lag_' + str(i) for i in range(15, 0, -1)]"
   ]
  },
  {
   "cell_type": "markdown",
   "metadata": {},
   "source": [
    "# Model training and validation"
   ]
  },
  {
   "cell_type": "code",
   "execution_count": 54,
   "metadata": {
    "ExecuteTime": {
     "end_time": "2019-05-31T23:42:31.067148Z",
     "start_time": "2019-05-31T23:42:31.059646Z"
    }
   },
   "outputs": [],
   "source": [
    "all_features = np.array(list(map(np.concatenate,\n",
    "                                 zip(candidate_ts_diff, clvs, rolling_mean_sales, rolling_mean_clvs,\n",
    "                                     rolling_std_sales, rolling_std_clvs, january_feat))))"
   ]
  },
  {
   "cell_type": "code",
   "execution_count": 55,
   "metadata": {
    "ExecuteTime": {
     "end_time": "2019-05-31T23:42:31.075651Z",
     "start_time": "2019-05-31T23:42:31.068646Z"
    }
   },
   "outputs": [],
   "source": [
    "feats_to_match = np.concatenate((ts_to_match_diff, ts_to_match_clv, rolling_mean_match_sales, rolling_mean_match_clv,\n",
    "                                 rolling_std_match_sales, rolling_std_match_clv, january_feat_to_match))"
   ]
  },
  {
   "cell_type": "markdown",
   "metadata": {},
   "source": [
    "## Linear baseline"
   ]
  },
  {
   "cell_type": "code",
   "execution_count": 56,
   "metadata": {
    "ExecuteTime": {
     "end_time": "2019-05-31T23:42:34.374904Z",
     "start_time": "2019-05-31T23:42:31.077647Z"
    }
   },
   "outputs": [
    {
     "name": "stderr",
     "output_type": "stream",
     "text": [
      "[Parallel(n_jobs=-1)]: Done   2 out of   5 | elapsed:    1.5s remaining:    2.4s\n",
      "[Parallel(n_jobs=-1)]: Done   5 out of   5 | elapsed:    2.9s finished\n"
     ]
    },
    {
     "data": {
      "text/plain": [
       "128463.67285125883"
      ]
     },
     "execution_count": 56,
     "metadata": {},
     "output_type": "execute_result"
    }
   ],
   "source": [
    "# 5-fold cross-validation\n",
    "cv_preds = cross_val_predict(LinearRegression(), X = all_features, y = forecast_vals_diff, cv = 5, verbose = 3, n_jobs = -1)\n",
    "# RMSE\n",
    "sqrt(mean_squared_error(forecast_vals_diff, cv_preds))"
   ]
  },
  {
   "cell_type": "markdown",
   "metadata": {},
   "source": [
    "## XGBoost"
   ]
  },
  {
   "cell_type": "markdown",
   "metadata": {},
   "source": [
    "XGBoost is unable to beat the linear baseline RMSE of 128463. This is likely due to the very low number of cases we have to train on. For feature selection, I will therefore focus on the linear regression case; for parameter tuning, I will focus on the XGBoost case for illustration."
   ]
  },
  {
   "cell_type": "code",
   "execution_count": 57,
   "metadata": {
    "ExecuteTime": {
     "end_time": "2019-05-31T23:42:39.931946Z",
     "start_time": "2019-05-31T23:42:34.377897Z"
    }
   },
   "outputs": [
    {
     "name": "stderr",
     "output_type": "stream",
     "text": [
      "[Parallel(n_jobs=-1)]: Done   2 out of   5 | elapsed:    2.9s remaining:    4.4s\n",
      "[Parallel(n_jobs=-1)]: Done   5 out of   5 | elapsed:    5.1s finished\n"
     ]
    },
    {
     "data": {
      "text/plain": [
       "165880.45706339373"
      ]
     },
     "execution_count": 57,
     "metadata": {},
     "output_type": "execute_result"
    }
   ],
   "source": [
    "# 5-fold cross-validation\n",
    "cv_preds = cross_val_predict(xgb.XGBRegressor(), X = all_features, y = forecast_vals_diff, cv = 5, verbose = 3, n_jobs = -1)\n",
    "sqrt(mean_squared_error(forecast_vals_diff, cv_preds))"
   ]
  },
  {
   "cell_type": "markdown",
   "metadata": {},
   "source": [
    "## Feature selection"
   ]
  },
  {
   "cell_type": "code",
   "execution_count": 58,
   "metadata": {
    "ExecuteTime": {
     "end_time": "2019-05-31T23:42:39.943400Z",
     "start_time": "2019-05-31T23:42:39.937398Z"
    }
   },
   "outputs": [
    {
     "data": {
      "text/plain": [
       "104"
      ]
     },
     "execution_count": 58,
     "metadata": {},
     "output_type": "execute_result"
    }
   ],
   "source": [
    "len(feat_names)"
   ]
  },
  {
   "cell_type": "code",
   "execution_count": 59,
   "metadata": {
    "ExecuteTime": {
     "end_time": "2019-05-31T23:42:40.348401Z",
     "start_time": "2019-05-31T23:42:39.947397Z"
    },
    "scrolled": true
   },
   "outputs": [
    {
     "data": {
      "text/plain": [
       "{'diff_lag_14': 6,\n",
       " 'diff_lag_13': 1,\n",
       " 'diff_lag_12': 29,\n",
       " 'diff_lag_11': 3,\n",
       " 'diff_lag_10': 20,\n",
       " 'diff_lag_9': 76,\n",
       " 'diff_lag_8': 1,\n",
       " 'diff_lag_7': 4,\n",
       " 'diff_lag_6': 23,\n",
       " 'diff_lag_5': 21,\n",
       " 'diff_lag_4': 60,\n",
       " 'diff_lag_3': 1,\n",
       " 'diff_lag_2': 7,\n",
       " 'diff_lag_1': 22,\n",
       " 'clv_lag_15': 64,\n",
       " 'clv_lag_14': 52,\n",
       " 'clv_lag_13': 68,\n",
       " 'clv_lag_12': 65,\n",
       " 'clv_lag_11': 67,\n",
       " 'clv_lag_10': 56,\n",
       " 'clv_lag_9': 43,\n",
       " 'clv_lag_8': 53,\n",
       " 'clv_lag_7': 54,\n",
       " 'clv_lag_6': 33,\n",
       " 'clv_lag_5': 38,\n",
       " 'clv_lag_4': 48,\n",
       " 'clv_lag_3': 34,\n",
       " 'clv_lag_2': 51,\n",
       " 'clv_lag_1': 44,\n",
       " 'rolling_mean_sales_15': 13,\n",
       " 'rolling_mean_sales_14': 15,\n",
       " 'rolling_mean_sales_13': 16,\n",
       " 'rolling_mean_sales_12': 18,\n",
       " 'rolling_mean_sales_11': 24,\n",
       " 'rolling_mean_sales_10': 14,\n",
       " 'rolling_mean_sales_9': 1,\n",
       " 'rolling_mean_sales_8': 17,\n",
       " 'rolling_mean_sales_7': 25,\n",
       " 'rolling_mean_sales_6': 79,\n",
       " 'rolling_mean_sales_5': 46,\n",
       " 'rolling_mean_sales_4': 47,\n",
       " 'rolling_mean_sales_3': 49,\n",
       " 'rolling_mean_sales_2': 5,\n",
       " 'rolling_mean_sales_1': 2,\n",
       " 'rolling_mean_clvs_15': 63,\n",
       " 'rolling_mean_clvs_14': 59,\n",
       " 'rolling_mean_clvs_13': 61,\n",
       " 'rolling_mean_clvs_12': 58,\n",
       " 'rolling_mean_clvs_11': 70,\n",
       " 'rolling_mean_clvs_10': 62,\n",
       " 'rolling_mean_clvs_9': 55,\n",
       " 'rolling_mean_clvs_8': 50,\n",
       " 'rolling_mean_clvs_7': 45,\n",
       " 'rolling_mean_clvs_6': 41,\n",
       " 'rolling_mean_clvs_5': 36,\n",
       " 'rolling_mean_clvs_4': 35,\n",
       " 'rolling_mean_clvs_3': 37,\n",
       " 'rolling_mean_clvs_2': 40,\n",
       " 'rolling_mean_clvs_1': 42,\n",
       " 'rolling_std_sales_15': 26,\n",
       " 'rolling_std_sales_14': 27,\n",
       " 'rolling_std_sales_13': 28,\n",
       " 'rolling_std_sales_12': 32,\n",
       " 'rolling_std_sales_11': 10,\n",
       " 'rolling_std_sales_10': 9,\n",
       " 'rolling_std_sales_9': 31,\n",
       " 'rolling_std_sales_8': 84,\n",
       " 'rolling_std_sales_7': 39,\n",
       " 'rolling_std_sales_6': 30,\n",
       " 'rolling_std_sales_5': 11,\n",
       " 'rolling_std_sales_4': 78,\n",
       " 'rolling_std_sales_3': 12,\n",
       " 'rolling_std_sales_2': 19,\n",
       " 'rolling_std_sales_1': 8,\n",
       " 'rolling_std_clvs_15': 77,\n",
       " 'rolling_std_clvs_14': 75,\n",
       " 'rolling_std_clvs_13': 81,\n",
       " 'rolling_std_clvs_12': 71,\n",
       " 'rolling_std_clvs_11': 85,\n",
       " 'rolling_std_clvs_10': 86,\n",
       " 'rolling_std_clvs_9': 74,\n",
       " 'rolling_std_clvs_8': 82,\n",
       " 'rolling_std_clvs_7': 72,\n",
       " 'rolling_std_clvs_6': 57,\n",
       " 'rolling_std_clvs_5': 66,\n",
       " 'rolling_std_clvs_4': 69,\n",
       " 'rolling_std_clvs_3': 83,\n",
       " 'rolling_std_clvs_2': 80,\n",
       " 'rolling_std_clvs_1': 73,\n",
       " 'january_lag_15': 90,\n",
       " 'january_lag_14': 92,\n",
       " 'january_lag_13': 93,\n",
       " 'january_lag_12': 87,\n",
       " 'january_lag_11': 94,\n",
       " 'january_lag_10': 96,\n",
       " 'january_lag_9': 89,\n",
       " 'january_lag_8': 88,\n",
       " 'january_lag_7': 97,\n",
       " 'january_lag_6': 95,\n",
       " 'january_lag_5': 99,\n",
       " 'january_lag_4': 98,\n",
       " 'january_lag_3': 91,\n",
       " 'january_lag_2': 100,\n",
       " 'january_lag_1': 101}"
      ]
     },
     "execution_count": 59,
     "metadata": {},
     "output_type": "execute_result"
    }
   ],
   "source": [
    "selector = RFECV(LinearRegression(), step = 1)\n",
    "selector.fit(all_features, forecast_vals_diff)\n",
    "dict(zip(feat_names, selector.ranking_))"
   ]
  },
  {
   "cell_type": "markdown",
   "metadata": {},
   "source": [
    "It looks like recursive feature elimination ranks the simple lag features and some of the rolling sales features. We can show the best performing model below, which only uses 4 features, noting that in actual use with more data points we'd expect to use the general class of features rather than mining correlations with specific points in time."
   ]
  },
  {
   "cell_type": "code",
   "execution_count": 60,
   "metadata": {
    "ExecuteTime": {
     "end_time": "2019-05-31T23:42:40.357936Z",
     "start_time": "2019-05-31T23:42:40.351402Z"
    }
   },
   "outputs": [
    {
     "data": {
      "text/plain": [
       "(array([ 1,  6, 11, 35], dtype=int64),)"
      ]
     },
     "execution_count": 60,
     "metadata": {},
     "output_type": "execute_result"
    }
   ],
   "source": [
    "np.where(selector.support_ == True)"
   ]
  },
  {
   "cell_type": "code",
   "execution_count": 61,
   "metadata": {
    "ExecuteTime": {
     "end_time": "2019-05-31T23:42:40.371396Z",
     "start_time": "2019-05-31T23:42:40.359902Z"
    }
   },
   "outputs": [
    {
     "data": {
      "text/plain": [
       "array([  5670.,    895.,  29547., 104589.])"
      ]
     },
     "execution_count": 61,
     "metadata": {},
     "output_type": "execute_result"
    }
   ],
   "source": [
    "selected_feats = [feats[np.where(selector.support_ == True)] for feats in all_features]\n",
    "selected_feats[0]"
   ]
  },
  {
   "cell_type": "code",
   "execution_count": 62,
   "metadata": {
    "ExecuteTime": {
     "end_time": "2019-05-31T23:42:40.386435Z",
     "start_time": "2019-05-31T23:42:40.373399Z"
    },
    "scrolled": true
   },
   "outputs": [
    {
     "data": {
      "text/plain": [
       "['diff_lag_13', 'diff_lag_8', 'diff_lag_3', 'rolling_mean_sales_9']"
      ]
     },
     "execution_count": 62,
     "metadata": {},
     "output_type": "execute_result"
    }
   ],
   "source": [
    "selected_feat_names = list(np.array(feat_names)[np.where(selector.support_ == True)])\n",
    "selected_feat_names"
   ]
  },
  {
   "cell_type": "code",
   "execution_count": 63,
   "metadata": {
    "ExecuteTime": {
     "end_time": "2019-05-31T23:42:44.063358Z",
     "start_time": "2019-05-31T23:42:40.388941Z"
    }
   },
   "outputs": [
    {
     "name": "stderr",
     "output_type": "stream",
     "text": [
      "[Parallel(n_jobs=-1)]: Done   2 out of   5 | elapsed:    1.9s remaining:    3.0s\n",
      "[Parallel(n_jobs=-1)]: Done   5 out of   5 | elapsed:    3.2s finished\n"
     ]
    },
    {
     "data": {
      "text/plain": [
       "94283.17748878902"
      ]
     },
     "execution_count": 63,
     "metadata": {},
     "output_type": "execute_result"
    }
   ],
   "source": [
    "# RMSE drops by about 30k\n",
    "final_cv_preds = cross_val_predict(LinearRegression(), X = selected_feats, y = forecast_vals_diff, cv = 5, verbose = 3, n_jobs = -1)\n",
    "final_rmse = sqrt(mean_squared_error(forecast_vals_diff, final_cv_preds))\n",
    "final_rmse"
   ]
  },
  {
   "cell_type": "code",
   "execution_count": 64,
   "metadata": {
    "ExecuteTime": {
     "end_time": "2019-05-31T23:42:44.069355Z",
     "start_time": "2019-05-31T23:42:44.065356Z"
    }
   },
   "outputs": [],
   "source": [
    "selected_feats_match = feats_to_match[np.where(selector.support_ == True)]"
   ]
  },
  {
   "cell_type": "markdown",
   "metadata": {},
   "source": [
    "## Parameter tuning"
   ]
  },
  {
   "cell_type": "markdown",
   "metadata": {},
   "source": [
    "We return to XGBoost for this section for illustration. More tuning with wider ranges and more parameters is possible."
   ]
  },
  {
   "cell_type": "code",
   "execution_count": 65,
   "metadata": {
    "ExecuteTime": {
     "end_time": "2019-05-31T23:42:57.028904Z",
     "start_time": "2019-05-31T23:42:44.071356Z"
    }
   },
   "outputs": [
    {
     "name": "stdout",
     "output_type": "stream",
     "text": [
      "Fitting 5 folds for each of 100 candidates, totalling 500 fits\n"
     ]
    },
    {
     "name": "stderr",
     "output_type": "stream",
     "text": [
      "[Parallel(n_jobs=1)]: Done 500 out of 500 | elapsed:   12.8s finished\n"
     ]
    }
   ],
   "source": [
    "# Tune parameters\n",
    "params = {'max_depth': [2, 4, 6, 8],\n",
    "          'n_estimators': np.arange(100, 2100, 100),\n",
    "          'reg_lambda': np.arange(0, 1.1, 0.1),\n",
    "          'learning_rate': np.linspace(0.05, 0.5, 5),\n",
    "          'min_child_weight': np.logspace(-0.5, 2, 5),\n",
    "          'gamma': [0, 0.01, 0.1, 0.5, 1, 10],\n",
    "          }\n",
    "                  \n",
    "random_search = RandomizedSearchCV(xgb.XGBRegressor(), param_distributions=params, n_iter=100, cv=5, verbose=1)\n",
    "random_search = random_search.fit(selected_feats, forecast_vals_diff)\n",
    "tuned_xgb_regressor = random_search.best_estimator_"
   ]
  },
  {
   "cell_type": "code",
   "execution_count": 66,
   "metadata": {
    "ExecuteTime": {
     "end_time": "2019-05-31T23:42:57.035862Z",
     "start_time": "2019-05-31T23:42:57.030857Z"
    }
   },
   "outputs": [
    {
     "data": {
      "text/plain": [
       "XGBRegressor(base_score=0.5, booster='gbtree', colsample_bylevel=1,\n",
       "       colsample_bytree=1, gamma=10, learning_rate=0.05, max_delta_step=0,\n",
       "       max_depth=2, min_child_weight=100.0, missing=None, n_estimators=400,\n",
       "       n_jobs=1, nthread=None, objective='reg:linear', random_state=0,\n",
       "       reg_alpha=0, reg_lambda=0.4, scale_pos_weight=1, seed=None,\n",
       "       silent=True, subsample=1)"
      ]
     },
     "execution_count": 66,
     "metadata": {},
     "output_type": "execute_result"
    }
   ],
   "source": [
    "tuned_xgb_regressor"
   ]
  },
  {
   "cell_type": "code",
   "execution_count": 67,
   "metadata": {
    "ExecuteTime": {
     "end_time": "2019-05-31T23:43:01.965820Z",
     "start_time": "2019-05-31T23:42:57.038860Z"
    }
   },
   "outputs": [
    {
     "name": "stderr",
     "output_type": "stream",
     "text": [
      "[Parallel(n_jobs=-1)]: Done   2 out of   5 | elapsed:    2.5s remaining:    3.8s\n",
      "[Parallel(n_jobs=-1)]: Done   5 out of   5 | elapsed:    4.5s finished\n"
     ]
    },
    {
     "data": {
      "text/plain": [
       "163487.44181690214"
      ]
     },
     "execution_count": 67,
     "metadata": {},
     "output_type": "execute_result"
    }
   ],
   "source": [
    "# Slight improvement in RMSE from previous\n",
    "cv_preds = cross_val_predict(tuned_xgb_regressor, X = selected_feats, y = forecast_vals_diff, cv = 5, verbose = 3, n_jobs = -1)\n",
    "sqrt(mean_squared_error(forecast_vals_diff, cv_preds))"
   ]
  },
  {
   "cell_type": "markdown",
   "metadata": {},
   "source": [
    "## Make prediction for Brandless"
   ]
  },
  {
   "cell_type": "code",
   "execution_count": 68,
   "metadata": {
    "ExecuteTime": {
     "end_time": "2019-05-31T23:43:01.973823Z",
     "start_time": "2019-05-31T23:43:01.967821Z"
    }
   },
   "outputs": [
    {
     "data": {
      "text/plain": [
       "314643.1603845439"
      ]
     },
     "execution_count": 68,
     "metadata": {},
     "output_type": "execute_result"
    }
   ],
   "source": [
    "final_model = LinearRegression()\n",
    "final_model.fit(X = selected_feats, y = forecast_vals_diff)\n",
    "final_pred = final_model.predict(X = selected_feats_match.reshape(1, -1))[0]\n",
    "final_pred"
   ]
  },
  {
   "cell_type": "code",
   "execution_count": 69,
   "metadata": {
    "ExecuteTime": {
     "end_time": "2019-05-31T23:43:01.983322Z",
     "start_time": "2019-05-31T23:43:01.976323Z"
    }
   },
   "outputs": [
    {
     "data": {
      "text/plain": [
       "array([16768, 15735, 16048, 18946, 19536, 19594, 31500, 30761, 37395,\n",
       "       46011, 47722, 40644, 46352, 51401, 60968], dtype=int64)"
      ]
     },
     "execution_count": 69,
     "metadata": {},
     "output_type": "execute_result"
    }
   ],
   "source": [
    "ts_to_match"
   ]
  },
  {
   "cell_type": "markdown",
   "metadata": {},
   "source": [
    "Based on the 5 comps we ran Brandless against, we would expect it to increase sales by 315K 12 months from now from 61K, its current value. On a larger number of representative comps (say 30), we'd have more confidence, but one naive way to estimate one in this case is below (assuming we have a representative and not skewed sample)."
   ]
  },
  {
   "cell_type": "code",
   "execution_count": 70,
   "metadata": {
    "ExecuteTime": {
     "end_time": "2019-05-31T23:43:02.002822Z",
     "start_time": "2019-05-31T23:43:01.985824Z"
    }
   },
   "outputs": [
    {
     "name": "stdout",
     "output_type": "stream",
     "text": [
      "Critical value: 2.7764451051977987\n",
      "95% confidence interval for Brandless one-year growth: (52871.09374330033, 576415.2270257875)\n"
     ]
    }
   ],
   "source": [
    "critical_value = t.ppf(.975, df = 5 - 1)\n",
    "print('Critical value:', critical_value)\n",
    "print('95% confidence interval for Brandless one-year growth:',\n",
    "      (final_pred - critical_value * final_rmse, final_pred + critical_value * final_rmse))"
   ]
  },
  {
   "cell_type": "code",
   "execution_count": 71,
   "metadata": {
    "ExecuteTime": {
     "end_time": "2019-05-31T23:43:02.015822Z",
     "start_time": "2019-05-31T23:43:02.006822Z"
    }
   },
   "outputs": [
    {
     "data": {
      "text/plain": [
       "array([16768, 15735, 16048, 18946, 19536, 19594, 31500, 30761, 37395,\n",
       "       46011, 47722, 40644, 46352, 51401, 60968], dtype=int64)"
      ]
     },
     "execution_count": 71,
     "metadata": {},
     "output_type": "execute_result"
    }
   ],
   "source": [
    "ts_to_match"
   ]
  },
  {
   "cell_type": "code",
   "execution_count": 72,
   "metadata": {
    "ExecuteTime": {
     "end_time": "2019-05-31T23:43:02.195321Z",
     "start_time": "2019-05-31T23:43:02.021823Z"
    }
   },
   "outputs": [
    {
     "data": {
      "text/plain": [
       "Text(0,0.5,'Predicted')"
      ]
     },
     "execution_count": 72,
     "metadata": {},
     "output_type": "execute_result"
    },
    {
     "data": {
      "image/png": "[encoded data removed]",
      "text/plain": [
       "<Figure size 432x288 with 1 Axes>"
      ]
     },
     "metadata": {},
     "output_type": "display_data"
    }
   ],
   "source": [
    "# Error plot\n",
    "def abline(slope, intercept):\n",
    "    \"\"\"Plot a line from slope and intercept\"\"\"\n",
    "    axes = plt.gca()\n",
    "    x_vals = np.array(axes.get_xlim())\n",
    "    y_vals = intercept + slope * x_vals\n",
    "    plt.plot(x_vals, y_vals, '--')\n",
    "    \n",
    "plt.scatter(forecast_vals_diff, final_cv_preds)\n",
    "plt.xlim([min(np.concatenate((forecast_vals_diff, final_cv_preds)) - 20000), \n",
    "          max(np.concatenate((forecast_vals_diff, final_cv_preds))) + 20000])\n",
    "plt.ylim([min(np.concatenate((forecast_vals_diff, final_cv_preds))) - 20000, \n",
    "          max(np.concatenate((forecast_vals_diff, final_cv_preds))) + 20000])    \n",
    "abline(1, 0)\n",
    "plt.xlabel(\"Actual\")\n",
    "plt.ylabel(\"Predicted\")"
   ]
  },
  {
   "cell_type": "markdown",
   "metadata": {},
   "source": [
    "## Next steps"
   ]
  },
  {
   "cell_type": "markdown",
   "metadata": {
    "collapsed": true
   },
   "source": [
    "Next steps could include:\n",
    "- Testing more time-series-specific models: ARIMA, Prophet, RNNs\n",
    "- Using other regressors from the sklearn library: Ridge, LASSO, SVM, etc. All were initially worse than the linear regression option, but could improve with more data / more tuning.\n",
    "- Introducing cost data (e.g., CAC)\n",
    "- Extending the dimensionality of the clustering (e.g., use CLV as well when measuring DTW distance)\n",
    "- Account for overall macroeconomic environment at each point in time series\n",
    "- Develop pipeline to identify outliers and replace with interpolated values; the difficulty is figuring out what is a valid data point vs. a non-representative outlier"
   ]
  }
 ],
 "metadata": {
  "kernelspec": {
   "display_name": "Python [default]",
   "language": "python",
   "name": "python3"
  },
  "language_info": {
   "codemirror_mode": {
    "name": "ipython",
    "version": 3
   },
   "file_extension": ".py",
   "mimetype": "text/x-python",
   "name": "python",
   "nbconvert_exporter": "python",
   "pygments_lexer": "ipython3",
   "version": "3.6.5"
  },
  "varInspector": {
   "cols": {
    "lenName": 16,
    "lenType": 16,
    "lenVar": 40
   },
   "kernels_config": {
    "python": {
     "delete_cmd_postfix": "",
     "delete_cmd_prefix": "del ",
     "library": "var_list.py",
     "varRefreshCmd": "print(var_dic_list())"
    },
    "r": {
     "delete_cmd_postfix": ") ",
     "delete_cmd_prefix": "rm(",
     "library": "var_list.r",
     "varRefreshCmd": "cat(var_dic_list()) "
    }
   },
   "types_to_exclude": [
    "module",
    "function",
    "builtin_function_or_method",
    "instance",
    "_Feature"
   ],
   "window_display": false
  }
 },
 "nbformat": 4,
 "nbformat_minor": 2
}
